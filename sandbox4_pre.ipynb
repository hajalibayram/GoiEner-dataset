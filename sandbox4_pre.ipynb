{
 "cells": [
  {
   "metadata": {
    "ExecuteTime": {
     "end_time": "2025-05-23T15:15:30.390855Z",
     "start_time": "2025-05-23T15:15:30.295474Z"
    }
   },
   "cell_type": "code",
   "source": [
    "from datetime import datetime\n",
    "from tokenize import group\n",
    "\n",
    "import polars as pl\n",
    "import glob\n",
    "from tqdm import tqdm"
   ],
   "id": "a5063119ced563b6",
   "outputs": [],
   "execution_count": 1
  },
  {
   "metadata": {
    "ExecuteTime": {
     "end_time": "2025-05-23T15:15:30.462852Z",
     "start_time": "2025-05-23T15:15:30.400146Z"
    }
   },
   "cell_type": "code",
   "source": [
    "metadata = pl.read_csv('raw/metadata.csv', try_parse_dates=True)\n",
    "metadata"
   ],
   "id": "814e1639183a1d19",
   "outputs": [
    {
     "data": {
      "text/plain": [
       "shape: (25_559, 23)\n",
       "┌────────────┬────────────┬────────────┬────────────┬───┬────────────┬───────────┬──────────┬──────┐\n",
       "│ user       ┆ start_date ┆ end_date   ┆ length_day ┆ … ┆ province   ┆ municipal ┆ zip_code ┆ cnae │\n",
       "│ ---        ┆ ---        ┆ ---        ┆ s          ┆   ┆ ---        ┆ ity       ┆ ---      ┆ ---  │\n",
       "│ str        ┆ datetime[μ ┆ datetime[μ ┆ ---        ┆   ┆ str        ┆ ---       ┆ i64      ┆ i64  │\n",
       "│            ┆ s, UTC]    ┆ s, UTC]    ┆ f64        ┆   ┆            ┆ str       ┆          ┆      │\n",
       "╞════════════╪════════════╪════════════╪════════════╪═══╪════════════╪═══════════╪══════════╪══════╡\n",
       "│ 00000c5a44 ┆ 2022-05-30 ┆ 2022-06-05 ┆ 6.0        ┆ … ┆ Gipuzkoa   ┆ null      ┆ null     ┆ 9329 │\n",
       "│ 8d9faa097b ┆ 01:00:00   ┆ 00:00:00   ┆            ┆   ┆            ┆           ┆          ┆      │\n",
       "│ 761cc98036 ┆ UTC        ┆ UTC        ┆            ┆   ┆            ┆           ┆          ┆      │\n",
       "│ …          ┆            ┆            ┆            ┆   ┆            ┆           ┆          ┆      │\n",
       "│ 0001b3b2f1 ┆ 2017-05-31 ┆ 2022-06-05 ┆ 1831.0     ┆ … ┆ Bizkaia    ┆ null      ┆ null     ┆ 9820 │\n",
       "│ 8c01c62ed9 ┆ 01:00:00   ┆ 00:00:00   ┆            ┆   ┆            ┆           ┆          ┆      │\n",
       "│ b2a87de7b4 ┆ UTC        ┆ UTC        ┆            ┆   ┆            ┆           ┆          ┆      │\n",
       "│ …          ┆            ┆            ┆            ┆   ┆            ┆           ┆          ┆      │\n",
       "│ 0003de2700 ┆ 2017-05-31 ┆ 2019-11-14 ┆ 897.0      ┆ … ┆ Gipuzkoa   ┆ Donostia/ ┆ 20013    ┆ 9820 │\n",
       "│ e20a1681d6 ┆ 01:00:00   ┆ 00:00:00   ┆            ┆   ┆            ┆ San       ┆          ┆      │\n",
       "│ 9fe287441d ┆ UTC        ┆ UTC        ┆            ┆   ┆            ┆ Sebastian ┆          ┆      │\n",
       "│ …          ┆            ┆            ┆            ┆   ┆            ┆           ┆          ┆      │\n",
       "│ 0004150214 ┆ 2018-07-12 ┆ 2022-06-05 ┆ 1424.0     ┆ … ┆ Gipuzkoa   ┆ Irun      ┆ 20304    ┆ 4759 │\n",
       "│ d14a2b2e6f ┆ 01:00:00   ┆ 00:00:00   ┆            ┆   ┆            ┆           ┆          ┆      │\n",
       "│ 7075531e66 ┆ UTC        ┆ UTC        ┆            ┆   ┆            ┆           ┆          ┆      │\n",
       "│ …          ┆            ┆            ┆            ┆   ┆            ┆           ┆          ┆      │\n",
       "│ 000721f0fc ┆ 2017-05-30 ┆ 2022-06-04 ┆ 1831.0     ┆ … ┆ Bizkaia    ┆ null      ┆ null     ┆ 9820 │\n",
       "│ 6ccf02ae24 ┆ 01:00:00   ┆ 00:00:00   ┆            ┆   ┆            ┆           ┆          ┆      │\n",
       "│ b673939795 ┆ UTC        ┆ UTC        ┆            ┆   ┆            ┆           ┆          ┆      │\n",
       "│ …          ┆            ┆            ┆            ┆   ┆            ┆           ┆          ┆      │\n",
       "│ …          ┆ …          ┆ …          ┆ …          ┆ … ┆ …          ┆ …         ┆ …        ┆ …    │\n",
       "│ ffeddf4919 ┆ 2018-10-02 ┆ 2021-11-03 ┆ 1128.0     ┆ … ┆ Soria      ┆ null      ┆ null     ┆ 9820 │\n",
       "│ e748beb50a ┆ 01:00:00   ┆ 00:00:00   ┆            ┆   ┆            ┆           ┆          ┆      │\n",
       "│ f7c6b73def ┆ UTC        ┆ UTC        ┆            ┆   ┆            ┆           ┆          ┆      │\n",
       "│ …          ┆            ┆            ┆            ┆   ┆            ┆           ┆          ┆      │\n",
       "│ ffefb9e277 ┆ 2021-07-06 ┆ 2022-06-05 ┆ 334.0      ┆ … ┆ Bizkaia    ┆ Bilbao    ┆ 48012    ┆ 9820 │\n",
       "│ 15b1c3fa50 ┆ 01:00:00   ┆ 00:00:00   ┆            ┆   ┆            ┆           ┆          ┆      │\n",
       "│ 07c457de55 ┆ UTC        ┆ UTC        ┆            ┆   ┆            ┆           ┆          ┆      │\n",
       "│ …          ┆            ┆            ┆            ┆   ┆            ┆           ┆          ┆      │\n",
       "│ fff0adcd6c ┆ 2017-08-17 ┆ 2022-06-05 ┆ 1753.0     ┆ … ┆ Bizkaia    ┆ null      ┆ null     ┆ 9820 │\n",
       "│ db7434496a ┆ 01:00:00   ┆ 00:00:00   ┆            ┆   ┆            ┆           ┆          ┆      │\n",
       "│ 5222f03337 ┆ UTC        ┆ UTC        ┆            ┆   ┆            ┆           ┆          ┆      │\n",
       "│ …          ┆            ┆            ┆            ┆   ┆            ┆           ┆          ┆      │\n",
       "│ fff282fcaa ┆ 2021-11-08 ┆ 2022-06-03 ┆ 207.0      ┆ … ┆ Alicante/A ┆ null      ┆ null     ┆ 9820 │\n",
       "│ 968a999b29 ┆ 01:00:00   ┆ 00:00:00   ┆            ┆   ┆ lacant     ┆           ┆          ┆      │\n",
       "│ 01731ed2ec ┆ UTC        ┆ UTC        ┆            ┆   ┆            ┆           ┆          ┆      │\n",
       "│ …          ┆            ┆            ┆            ┆   ┆            ┆           ┆          ┆      │\n",
       "│ fff3e258f1 ┆ 2021-09-17 ┆ 2022-06-05 ┆ 261.0      ┆ … ┆ Gipuzkoa   ┆ Donostia/ ┆ 20011    ┆ 9820 │\n",
       "│ cb36595561 ┆ 01:00:00   ┆ 00:00:00   ┆            ┆   ┆            ┆ San       ┆          ┆      │\n",
       "│ 63542d204d ┆ UTC        ┆ UTC        ┆            ┆   ┆            ┆ Sebastian ┆          ┆      │\n",
       "│ …          ┆            ┆            ┆            ┆   ┆            ┆           ┆          ┆      │\n",
       "└────────────┴────────────┴────────────┴────────────┴───┴────────────┴───────────┴──────────┴──────┘"
      ],
      "text/html": [
       "<div><style>\n",
       ".dataframe > thead > tr,\n",
       ".dataframe > tbody > tr {\n",
       "  text-align: right;\n",
       "  white-space: pre-wrap;\n",
       "}\n",
       "</style>\n",
       "<small>shape: (25_559, 23)</small><table border=\"1\" class=\"dataframe\"><thead><tr><th>user</th><th>start_date</th><th>end_date</th><th>length_days</th><th>length_years</th><th>potential_samples</th><th>actual_samples</th><th>missing_samples_abs</th><th>missing_samples_pct</th><th>contract_start_date</th><th>contract_end_date</th><th>contracted_tariff</th><th>self_consumption_type</th><th>p1</th><th>p2</th><th>p3</th><th>p4</th><th>p5</th><th>p6</th><th>province</th><th>municipality</th><th>zip_code</th><th>cnae</th></tr><tr><td>str</td><td>datetime[μs, UTC]</td><td>datetime[μs, UTC]</td><td>f64</td><td>f64</td><td>i64</td><td>i64</td><td>i64</td><td>f64</td><td>date</td><td>date</td><td>str</td><td>str</td><td>f64</td><td>f64</td><td>f64</td><td>f64</td><td>f64</td><td>f64</td><td>str</td><td>str</td><td>i64</td><td>i64</td></tr></thead><tbody><tr><td>&quot;00000c5a448d9faa097b761cc98036…</td><td>2022-05-30 01:00:00 UTC</td><td>2022-06-05 00:00:00 UTC</td><td>6.0</td><td>0.016427</td><td>144</td><td>144</td><td>0</td><td>0.0</td><td>2022-05-31</td><td>null</td><td>&quot;2.0TD&quot;</td><td>&quot;&quot;</td><td>2.2</td><td>2.2</td><td>0.0</td><td>0.0</td><td>0.0</td><td>0.0</td><td>&quot;Gipuzkoa&quot;</td><td>null</td><td>null</td><td>9329</td></tr><tr><td>&quot;0001b3b2f18c01c62ed9b2a87de7b4…</td><td>2017-05-31 01:00:00 UTC</td><td>2022-06-05 00:00:00 UTC</td><td>1831.0</td><td>5.013005</td><td>43944</td><td>43863</td><td>81</td><td>0.184326</td><td>2021-06-01</td><td>null</td><td>&quot;2.0TD&quot;</td><td>&quot;&quot;</td><td>3.45</td><td>3.45</td><td>null</td><td>null</td><td>null</td><td>null</td><td>&quot;Bizkaia&quot;</td><td>null</td><td>null</td><td>9820</td></tr><tr><td>&quot;0003de2700e20a1681d69fe287441d…</td><td>2017-05-31 01:00:00 UTC</td><td>2019-11-14 00:00:00 UTC</td><td>897.0</td><td>2.455852</td><td>21528</td><td>21476</td><td>52</td><td>0.241546</td><td>2019-09-02</td><td>2019-11-13</td><td>&quot;2.0A&quot;</td><td>&quot;&quot;</td><td>4.6</td><td>null</td><td>null</td><td>null</td><td>null</td><td>null</td><td>&quot;Gipuzkoa&quot;</td><td>&quot;Donostia/San Sebastian&quot;</td><td>20013</td><td>9820</td></tr><tr><td>&quot;0004150214d14a2b2e6f7075531e66…</td><td>2018-07-12 01:00:00 UTC</td><td>2022-06-05 00:00:00 UTC</td><td>1424.0</td><td>3.8987</td><td>34176</td><td>34169</td><td>7</td><td>0.020482</td><td>2021-06-01</td><td>null</td><td>&quot;2.0TD&quot;</td><td>&quot;&quot;</td><td>9.2</td><td>9.2</td><td>null</td><td>null</td><td>null</td><td>null</td><td>&quot;Gipuzkoa&quot;</td><td>&quot;Irun&quot;</td><td>20304</td><td>4759</td></tr><tr><td>&quot;000721f0fc6ccf02ae24b673939795…</td><td>2017-05-30 01:00:00 UTC</td><td>2022-06-04 00:00:00 UTC</td><td>1831.0</td><td>5.013005</td><td>43944</td><td>43815</td><td>129</td><td>0.293555</td><td>2021-06-01</td><td>null</td><td>&quot;2.0TD&quot;</td><td>&quot;&quot;</td><td>4.4</td><td>4.4</td><td>null</td><td>null</td><td>null</td><td>null</td><td>&quot;Bizkaia&quot;</td><td>null</td><td>null</td><td>9820</td></tr><tr><td>&hellip;</td><td>&hellip;</td><td>&hellip;</td><td>&hellip;</td><td>&hellip;</td><td>&hellip;</td><td>&hellip;</td><td>&hellip;</td><td>&hellip;</td><td>&hellip;</td><td>&hellip;</td><td>&hellip;</td><td>&hellip;</td><td>&hellip;</td><td>&hellip;</td><td>&hellip;</td><td>&hellip;</td><td>&hellip;</td><td>&hellip;</td><td>&hellip;</td><td>&hellip;</td><td>&hellip;</td><td>&hellip;</td></tr><tr><td>&quot;ffeddf4919e748beb50af7c6b73def…</td><td>2018-10-02 01:00:00 UTC</td><td>2021-11-03 00:00:00 UTC</td><td>1128.0</td><td>3.088296</td><td>27072</td><td>27069</td><td>3</td><td>0.011082</td><td>2021-06-01</td><td>null</td><td>&quot;2.0TD&quot;</td><td>&quot;&quot;</td><td>6.0</td><td>6.0</td><td>null</td><td>null</td><td>null</td><td>null</td><td>&quot;Soria&quot;</td><td>null</td><td>null</td><td>9820</td></tr><tr><td>&quot;ffefb9e27715b1c3fa5007c457de55…</td><td>2021-07-06 01:00:00 UTC</td><td>2022-06-05 00:00:00 UTC</td><td>334.0</td><td>0.914442</td><td>8016</td><td>8014</td><td>2</td><td>0.02495</td><td>2021-07-07</td><td>null</td><td>&quot;2.0TD&quot;</td><td>&quot;&quot;</td><td>3.45</td><td>3.45</td><td>0.0</td><td>0.0</td><td>0.0</td><td>0.0</td><td>&quot;Bizkaia&quot;</td><td>&quot;Bilbao&quot;</td><td>48012</td><td>9820</td></tr><tr><td>&quot;fff0adcd6cdb7434496a5222f03337…</td><td>2017-08-17 01:00:00 UTC</td><td>2022-06-05 00:00:00 UTC</td><td>1753.0</td><td>4.799452</td><td>42072</td><td>41102</td><td>970</td><td>2.305571</td><td>2021-06-01</td><td>null</td><td>&quot;2.0TD&quot;</td><td>&quot;&quot;</td><td>4.6</td><td>4.6</td><td>null</td><td>null</td><td>null</td><td>null</td><td>&quot;Bizkaia&quot;</td><td>null</td><td>null</td><td>9820</td></tr><tr><td>&quot;fff282fcaa968a999b2901731ed2ec…</td><td>2021-11-08 01:00:00 UTC</td><td>2022-06-03 00:00:00 UTC</td><td>207.0</td><td>0.566735</td><td>4968</td><td>4967</td><td>1</td><td>0.020129</td><td>2022-02-10</td><td>null</td><td>&quot;2.0TD&quot;</td><td>&quot;&quot;</td><td>3.3</td><td>3.3</td><td>null</td><td>null</td><td>null</td><td>null</td><td>&quot;Alicante/Alacant&quot;</td><td>null</td><td>null</td><td>9820</td></tr><tr><td>&quot;fff3e258f1cb3659556163542d204d…</td><td>2021-09-17 01:00:00 UTC</td><td>2022-06-05 00:00:00 UTC</td><td>261.0</td><td>0.714579</td><td>6264</td><td>6262</td><td>2</td><td>0.031928</td><td>2021-09-18</td><td>null</td><td>&quot;2.0TD&quot;</td><td>&quot;&quot;</td><td>4.6</td><td>4.6</td><td>0.0</td><td>0.0</td><td>0.0</td><td>0.0</td><td>&quot;Gipuzkoa&quot;</td><td>&quot;Donostia/San Sebastian&quot;</td><td>20011</td><td>9820</td></tr></tbody></table></div>"
      ]
     },
     "execution_count": 2,
     "metadata": {},
     "output_type": "execute_result"
    }
   ],
   "execution_count": 2
  },
  {
   "metadata": {
    "ExecuteTime": {
     "end_time": "2025-05-23T15:15:30.585498Z",
     "start_time": "2025-05-23T15:15:30.550453Z"
    }
   },
   "cell_type": "code",
   "source": [
    "start_date_filter = pl.datetime(2017, 6, 1, time_zone='UTC')\n",
    "end_date_filter = pl.datetime(2020, 3, 1, time_zone='UTC')\n",
    "\n",
    "\n",
    "metadata_pre_house_1 = metadata.filter(\n",
    "    pl.col(\"start_date\") <= start_date_filter,\n",
    "    pl.col(\"end_date\") >= end_date_filter,\n",
    "    (pl.col('cnae') > 9699),\n",
    "    (pl.col('cnae') < 9849)\n",
    ")\n",
    "metadata_pre_house_1.head()"
   ],
   "id": "9d6ca47ff67a3721",
   "outputs": [
    {
     "data": {
      "text/plain": [
       "shape: (5, 23)\n",
       "┌─────────────┬────────────┬────────────┬────────────┬───┬──────────┬────────────┬──────────┬──────┐\n",
       "│ user        ┆ start_date ┆ end_date   ┆ length_day ┆ … ┆ province ┆ municipali ┆ zip_code ┆ cnae │\n",
       "│ ---         ┆ ---        ┆ ---        ┆ s          ┆   ┆ ---      ┆ ty         ┆ ---      ┆ ---  │\n",
       "│ str         ┆ datetime[μ ┆ datetime[μ ┆ ---        ┆   ┆ str      ┆ ---        ┆ i64      ┆ i64  │\n",
       "│             ┆ s, UTC]    ┆ s, UTC]    ┆ f64        ┆   ┆          ┆ str        ┆          ┆      │\n",
       "╞═════════════╪════════════╪════════════╪════════════╪═══╪══════════╪════════════╪══════════╪══════╡\n",
       "│ 0001b3b2f18 ┆ 2017-05-31 ┆ 2022-06-05 ┆ 1831.0     ┆ … ┆ Bizkaia  ┆ null       ┆ null     ┆ 9820 │\n",
       "│ c01c62ed9b2 ┆ 01:00:00   ┆ 00:00:00   ┆            ┆   ┆          ┆            ┆          ┆      │\n",
       "│ a87de7b4…   ┆ UTC        ┆ UTC        ┆            ┆   ┆          ┆            ┆          ┆      │\n",
       "│ 000721f0fc6 ┆ 2017-05-30 ┆ 2022-06-04 ┆ 1831.0     ┆ … ┆ Bizkaia  ┆ null       ┆ null     ┆ 9820 │\n",
       "│ ccf02ae24b6 ┆ 01:00:00   ┆ 00:00:00   ┆            ┆   ┆          ┆            ┆          ┆      │\n",
       "│ 73939795…   ┆ UTC        ┆ UTC        ┆            ┆   ┆          ┆            ┆          ┆      │\n",
       "│ 001be27fc1f ┆ 2017-05-31 ┆ 2022-06-05 ┆ 1831.0     ┆ … ┆ Gipuzkoa ┆ null       ┆ null     ┆ 9820 │\n",
       "│ 3e2daa58919 ┆ 01:00:00   ┆ 00:00:00   ┆            ┆   ┆          ┆            ┆          ┆      │\n",
       "│ a9de02e9…   ┆ UTC        ┆ UTC        ┆            ┆   ┆          ┆            ┆          ┆      │\n",
       "│ 00264d83537 ┆ 2017-05-31 ┆ 2022-06-05 ┆ 1831.0     ┆ … ┆ Bizkaia  ┆ null       ┆ null     ┆ 9820 │\n",
       "│ 1489e863125 ┆ 01:00:00   ┆ 00:00:00   ┆            ┆   ┆          ┆            ┆          ┆      │\n",
       "│ 29d5e5aa…   ┆ UTC        ┆ UTC        ┆            ┆   ┆          ┆            ┆          ┆      │\n",
       "│ 002da62dc54 ┆ 2017-05-31 ┆ 2022-06-05 ┆ 1831.0     ┆ … ┆ Navarra  ┆ Pamplona/I ┆ 31015    ┆ 9820 │\n",
       "│ b7a78947318 ┆ 01:00:00   ┆ 00:00:00   ┆            ┆   ┆          ┆ runa       ┆          ┆      │\n",
       "│ 2feddfad…   ┆ UTC        ┆ UTC        ┆            ┆   ┆          ┆            ┆          ┆      │\n",
       "└─────────────┴────────────┴────────────┴────────────┴───┴──────────┴────────────┴──────────┴──────┘"
      ],
      "text/html": [
       "<div><style>\n",
       ".dataframe > thead > tr,\n",
       ".dataframe > tbody > tr {\n",
       "  text-align: right;\n",
       "  white-space: pre-wrap;\n",
       "}\n",
       "</style>\n",
       "<small>shape: (5, 23)</small><table border=\"1\" class=\"dataframe\"><thead><tr><th>user</th><th>start_date</th><th>end_date</th><th>length_days</th><th>length_years</th><th>potential_samples</th><th>actual_samples</th><th>missing_samples_abs</th><th>missing_samples_pct</th><th>contract_start_date</th><th>contract_end_date</th><th>contracted_tariff</th><th>self_consumption_type</th><th>p1</th><th>p2</th><th>p3</th><th>p4</th><th>p5</th><th>p6</th><th>province</th><th>municipality</th><th>zip_code</th><th>cnae</th></tr><tr><td>str</td><td>datetime[μs, UTC]</td><td>datetime[μs, UTC]</td><td>f64</td><td>f64</td><td>i64</td><td>i64</td><td>i64</td><td>f64</td><td>date</td><td>date</td><td>str</td><td>str</td><td>f64</td><td>f64</td><td>f64</td><td>f64</td><td>f64</td><td>f64</td><td>str</td><td>str</td><td>i64</td><td>i64</td></tr></thead><tbody><tr><td>&quot;0001b3b2f18c01c62ed9b2a87de7b4…</td><td>2017-05-31 01:00:00 UTC</td><td>2022-06-05 00:00:00 UTC</td><td>1831.0</td><td>5.013005</td><td>43944</td><td>43863</td><td>81</td><td>0.184326</td><td>2021-06-01</td><td>null</td><td>&quot;2.0TD&quot;</td><td>&quot;&quot;</td><td>3.45</td><td>3.45</td><td>null</td><td>null</td><td>null</td><td>null</td><td>&quot;Bizkaia&quot;</td><td>null</td><td>null</td><td>9820</td></tr><tr><td>&quot;000721f0fc6ccf02ae24b673939795…</td><td>2017-05-30 01:00:00 UTC</td><td>2022-06-04 00:00:00 UTC</td><td>1831.0</td><td>5.013005</td><td>43944</td><td>43815</td><td>129</td><td>0.293555</td><td>2021-06-01</td><td>null</td><td>&quot;2.0TD&quot;</td><td>&quot;&quot;</td><td>4.4</td><td>4.4</td><td>null</td><td>null</td><td>null</td><td>null</td><td>&quot;Bizkaia&quot;</td><td>null</td><td>null</td><td>9820</td></tr><tr><td>&quot;001be27fc1f3e2daa58919a9de02e9…</td><td>2017-05-31 01:00:00 UTC</td><td>2022-06-05 00:00:00 UTC</td><td>1831.0</td><td>5.013005</td><td>43944</td><td>43887</td><td>57</td><td>0.129711</td><td>2021-06-01</td><td>null</td><td>&quot;2.0TD&quot;</td><td>&quot;&quot;</td><td>3.3</td><td>3.3</td><td>null</td><td>null</td><td>null</td><td>null</td><td>&quot;Gipuzkoa&quot;</td><td>null</td><td>null</td><td>9820</td></tr><tr><td>&quot;00264d835371489e86312529d5e5aa…</td><td>2017-05-31 01:00:00 UTC</td><td>2022-06-05 00:00:00 UTC</td><td>1831.0</td><td>5.013005</td><td>43944</td><td>41237</td><td>2707</td><td>6.160113</td><td>2021-06-01</td><td>null</td><td>&quot;2.0TD&quot;</td><td>&quot;&quot;</td><td>3.45</td><td>3.45</td><td>null</td><td>null</td><td>null</td><td>null</td><td>&quot;Bizkaia&quot;</td><td>null</td><td>null</td><td>9820</td></tr><tr><td>&quot;002da62dc54b7a789473182feddfad…</td><td>2017-05-31 01:00:00 UTC</td><td>2022-06-05 00:00:00 UTC</td><td>1831.0</td><td>5.013005</td><td>43944</td><td>43815</td><td>129</td><td>0.293555</td><td>2021-09-25</td><td>null</td><td>&quot;2.0TD&quot;</td><td>&quot;&quot;</td><td>3.45</td><td>3.45</td><td>null</td><td>null</td><td>null</td><td>null</td><td>&quot;Navarra&quot;</td><td>&quot;Pamplona/Iruna&quot;</td><td>31015</td><td>9820</td></tr></tbody></table></div>"
      ]
     },
     "execution_count": 3,
     "metadata": {},
     "output_type": "execute_result"
    }
   ],
   "execution_count": 3
  },
  {
   "metadata": {
    "ExecuteTime": {
     "end_time": "2025-05-23T15:15:30.613289Z",
     "start_time": "2025-05-23T15:15:30.607645Z"
    }
   },
   "cell_type": "code",
   "source": "metadata_pre_house_1_users = metadata_pre_house_1['user'].unique().to_list()",
   "id": "e7217b14bea1eac4",
   "outputs": [],
   "execution_count": 4
  },
  {
   "metadata": {
    "ExecuteTime": {
     "end_time": "2025-05-23T15:15:30.709158Z",
     "start_time": "2025-05-23T15:15:30.706430Z"
    }
   },
   "cell_type": "code",
   "source": "print(f\"Post-COVID household users={len(metadata_pre_house_1_users)}\")",
   "id": "1057b8a4c8544e7",
   "outputs": [
    {
     "name": "stdout",
     "output_type": "stream",
     "text": [
      "Post-COVID household users=4928\n"
     ]
    }
   ],
   "execution_count": 5
  },
  {
   "metadata": {},
   "cell_type": "markdown",
   "source": "# Combine CSV",
   "id": "f446a76984c851de"
  },
  {
   "metadata": {
    "ExecuteTime": {
     "end_time": "2025-05-23T15:15:32.127838Z",
     "start_time": "2025-05-23T15:15:32.018628Z"
    }
   },
   "cell_type": "code",
   "source": [
    "source_folder = 'dataset/goi4_pre/imp_csv'\n",
    "csv_files = glob.glob(f\"{source_folder}/*.csv\")"
   ],
   "id": "227c75f34183155c",
   "outputs": [],
   "execution_count": 6
  },
  {
   "metadata": {
    "ExecuteTime": {
     "end_time": "2025-05-23T15:15:33.219737Z",
     "start_time": "2025-05-23T15:15:33.215797Z"
    }
   },
   "cell_type": "code",
   "source": [
    "def combine(mask: list[str], csv_files: list[str], filename:str='dataset/goi4_pre/household_activities_2017.csv') -> pl.DataFrame:\n",
    "    \"\"\"\n",
    "    Combine multiple CSV files into a single DataFrame, filtering by household profiles.\n",
    "    \"\"\"\n",
    "    dataframes = pl.DataFrame()\n",
    "    for csv_file in tqdm(csv_files):\n",
    "        profile_id = csv_file.split('/')[-1].split('.')[0]\n",
    "        if profile_id not in mask:\n",
    "            continue\n",
    "\n",
    "        df = pl.read_csv(csv_file, try_parse_dates=True, schema_overrides={'kWh':pl.Float64})\n",
    "        df = df.with_columns(pl.lit(profile_id).alias('profile_id'))\n",
    "\n",
    "        df = df.with_columns(\n",
    "            pl.col(\"timestamp\")\n",
    "            .dt.replace_time_zone(\"UTC\"))\n",
    "\n",
    "        df = df.filter(pl.col('timestamp') >= start_date_filter,\n",
    "                       pl.col('timestamp') <= end_date_filter)\n",
    "\n",
    "        if not dataframes.columns:\n",
    "            dataframes = df.clone()\n",
    "            continue\n",
    "        dataframes.extend(df)\n",
    "    if filename:\n",
    "        dataframes = dataframes.drop('imputed')\n",
    "        dataframes.write_csv(filename)\n",
    "\n",
    "    return dataframes"
   ],
   "id": "c830c1058737ce4a",
   "outputs": [],
   "execution_count": 7
  },
  {
   "metadata": {
    "ExecuteTime": {
     "end_time": "2025-05-23T15:17:40.454087Z",
     "start_time": "2025-05-23T15:15:34.013280Z"
    }
   },
   "cell_type": "code",
   "source": "combine(metadata_pre_house_1_users, csv_files)",
   "id": "80cf92f0a144123a",
   "outputs": [
    {
     "name": "stderr",
     "output_type": "stream",
     "text": [
      "100%|██████████| 12149/12149 [00:35<00:00, 344.66it/s]\n"
     ]
    },
    {
     "data": {
      "text/plain": [
       "shape: (118_216_122, 3)\n",
       "┌─────────────────────────┬───────┬─────────────────────────────────┐\n",
       "│ timestamp               ┆ kWh   ┆ profile_id                      │\n",
       "│ ---                     ┆ ---   ┆ ---                             │\n",
       "│ datetime[μs, UTC]       ┆ f64   ┆ str                             │\n",
       "╞═════════════════════════╪═══════╪═════════════════════════════════╡\n",
       "│ 2017-06-01 00:00:00 UTC ┆ 0.11  ┆ 3b71707954dc962ab68fe44fa46b62… │\n",
       "│ 2017-06-01 01:00:00 UTC ┆ 0.152 ┆ 3b71707954dc962ab68fe44fa46b62… │\n",
       "│ 2017-06-01 02:00:00 UTC ┆ 0.023 ┆ 3b71707954dc962ab68fe44fa46b62… │\n",
       "│ 2017-06-01 03:00:00 UTC ┆ 0.045 ┆ 3b71707954dc962ab68fe44fa46b62… │\n",
       "│ 2017-06-01 04:00:00 UTC ┆ 0.066 ┆ 3b71707954dc962ab68fe44fa46b62… │\n",
       "│ …                       ┆ …     ┆ …                               │\n",
       "│ 2020-02-29 20:00:00 UTC ┆ 0.665 ┆ 5793ddb25829ba3db566b882d7cf11… │\n",
       "│ 2020-02-29 21:00:00 UTC ┆ 1.448 ┆ 5793ddb25829ba3db566b882d7cf11… │\n",
       "│ 2020-02-29 22:00:00 UTC ┆ 0.17  ┆ 5793ddb25829ba3db566b882d7cf11… │\n",
       "│ 2020-02-29 23:00:00 UTC ┆ 0.059 ┆ 5793ddb25829ba3db566b882d7cf11… │\n",
       "│ 2020-03-01 00:00:00 UTC ┆ 0.065 ┆ 5793ddb25829ba3db566b882d7cf11… │\n",
       "└─────────────────────────┴───────┴─────────────────────────────────┘"
      ],
      "text/html": [
       "<div><style>\n",
       ".dataframe > thead > tr,\n",
       ".dataframe > tbody > tr {\n",
       "  text-align: right;\n",
       "  white-space: pre-wrap;\n",
       "}\n",
       "</style>\n",
       "<small>shape: (118_216_122, 3)</small><table border=\"1\" class=\"dataframe\"><thead><tr><th>timestamp</th><th>kWh</th><th>profile_id</th></tr><tr><td>datetime[μs, UTC]</td><td>f64</td><td>str</td></tr></thead><tbody><tr><td>2017-06-01 00:00:00 UTC</td><td>0.11</td><td>&quot;3b71707954dc962ab68fe44fa46b62…</td></tr><tr><td>2017-06-01 01:00:00 UTC</td><td>0.152</td><td>&quot;3b71707954dc962ab68fe44fa46b62…</td></tr><tr><td>2017-06-01 02:00:00 UTC</td><td>0.023</td><td>&quot;3b71707954dc962ab68fe44fa46b62…</td></tr><tr><td>2017-06-01 03:00:00 UTC</td><td>0.045</td><td>&quot;3b71707954dc962ab68fe44fa46b62…</td></tr><tr><td>2017-06-01 04:00:00 UTC</td><td>0.066</td><td>&quot;3b71707954dc962ab68fe44fa46b62…</td></tr><tr><td>&hellip;</td><td>&hellip;</td><td>&hellip;</td></tr><tr><td>2020-02-29 20:00:00 UTC</td><td>0.665</td><td>&quot;5793ddb25829ba3db566b882d7cf11…</td></tr><tr><td>2020-02-29 21:00:00 UTC</td><td>1.448</td><td>&quot;5793ddb25829ba3db566b882d7cf11…</td></tr><tr><td>2020-02-29 22:00:00 UTC</td><td>0.17</td><td>&quot;5793ddb25829ba3db566b882d7cf11…</td></tr><tr><td>2020-02-29 23:00:00 UTC</td><td>0.059</td><td>&quot;5793ddb25829ba3db566b882d7cf11…</td></tr><tr><td>2020-03-01 00:00:00 UTC</td><td>0.065</td><td>&quot;5793ddb25829ba3db566b882d7cf11…</td></tr></tbody></table></div>"
      ]
     },
     "execution_count": 8,
     "metadata": {},
     "output_type": "execute_result"
    }
   ],
   "execution_count": 8
  },
  {
   "metadata": {
    "ExecuteTime": {
     "end_time": "2025-05-23T15:17:40.523692Z",
     "start_time": "2025-05-23T15:17:40.522187Z"
    }
   },
   "cell_type": "code",
   "source": "",
   "id": "af322e7ece5f4d13",
   "outputs": [],
   "execution_count": null
  },
  {
   "metadata": {
    "ExecuteTime": {
     "end_time": "2025-05-23T15:18:26.458804Z",
     "start_time": "2025-05-23T15:17:40.579553Z"
    }
   },
   "cell_type": "code",
   "source": [
    "df_activities = pl.read_csv(\"dataset/goi4_pre/household_activities_2017.csv\")\n",
    "df_activities.head()"
   ],
   "id": "ffab971f20a2aa45",
   "outputs": [
    {
     "data": {
      "text/plain": [
       "shape: (5, 3)\n",
       "┌─────────────────────────────────┬───────┬─────────────────────────────────┐\n",
       "│ timestamp                       ┆ kWh   ┆ profile_id                      │\n",
       "│ ---                             ┆ ---   ┆ ---                             │\n",
       "│ str                             ┆ f64   ┆ str                             │\n",
       "╞═════════════════════════════════╪═══════╪═════════════════════════════════╡\n",
       "│ 2017-06-01T00:00:00.000000+000… ┆ 0.11  ┆ 3b71707954dc962ab68fe44fa46b62… │\n",
       "│ 2017-06-01T01:00:00.000000+000… ┆ 0.152 ┆ 3b71707954dc962ab68fe44fa46b62… │\n",
       "│ 2017-06-01T02:00:00.000000+000… ┆ 0.023 ┆ 3b71707954dc962ab68fe44fa46b62… │\n",
       "│ 2017-06-01T03:00:00.000000+000… ┆ 0.045 ┆ 3b71707954dc962ab68fe44fa46b62… │\n",
       "│ 2017-06-01T04:00:00.000000+000… ┆ 0.066 ┆ 3b71707954dc962ab68fe44fa46b62… │\n",
       "└─────────────────────────────────┴───────┴─────────────────────────────────┘"
      ],
      "text/html": [
       "<div><style>\n",
       ".dataframe > thead > tr,\n",
       ".dataframe > tbody > tr {\n",
       "  text-align: right;\n",
       "  white-space: pre-wrap;\n",
       "}\n",
       "</style>\n",
       "<small>shape: (5, 3)</small><table border=\"1\" class=\"dataframe\"><thead><tr><th>timestamp</th><th>kWh</th><th>profile_id</th></tr><tr><td>str</td><td>f64</td><td>str</td></tr></thead><tbody><tr><td>&quot;2017-06-01T00:00:00.000000+000…</td><td>0.11</td><td>&quot;3b71707954dc962ab68fe44fa46b62…</td></tr><tr><td>&quot;2017-06-01T01:00:00.000000+000…</td><td>0.152</td><td>&quot;3b71707954dc962ab68fe44fa46b62…</td></tr><tr><td>&quot;2017-06-01T02:00:00.000000+000…</td><td>0.023</td><td>&quot;3b71707954dc962ab68fe44fa46b62…</td></tr><tr><td>&quot;2017-06-01T03:00:00.000000+000…</td><td>0.045</td><td>&quot;3b71707954dc962ab68fe44fa46b62…</td></tr><tr><td>&quot;2017-06-01T04:00:00.000000+000…</td><td>0.066</td><td>&quot;3b71707954dc962ab68fe44fa46b62…</td></tr></tbody></table></div>"
      ]
     },
     "execution_count": 9,
     "metadata": {},
     "output_type": "execute_result"
    }
   ],
   "execution_count": 9
  },
  {
   "metadata": {},
   "cell_type": "markdown",
   "source": "# Preprocess",
   "id": "e5bbd5c4b040b555"
  },
  {
   "metadata": {},
   "cell_type": "markdown",
   "source": "## Interpolate",
   "id": "812afd69a849a451"
  },
  {
   "metadata": {
    "ExecuteTime": {
     "end_time": "2025-05-23T15:18:27.783849Z",
     "start_time": "2025-05-23T15:18:27.189856Z"
    }
   },
   "cell_type": "code",
   "source": "import pandas as pd",
   "id": "32106d01bc5fe925",
   "outputs": [],
   "execution_count": 10
  },
  {
   "metadata": {
    "ExecuteTime": {
     "end_time": "2025-05-23T15:19:51.334155Z",
     "start_time": "2025-05-23T15:18:28.485073Z"
    }
   },
   "cell_type": "code",
   "source": "df = pd.read_csv(\"dataset/goi4_pre/household_activities_2017.csv\")",
   "id": "7ad69e0909230ebd",
   "outputs": [],
   "execution_count": 11
  },
  {
   "metadata": {
    "ExecuteTime": {
     "end_time": "2025-05-23T15:19:51.446103Z",
     "start_time": "2025-05-23T15:19:51.429694Z"
    }
   },
   "cell_type": "code",
   "source": "df.head()",
   "id": "8d13063a8ad140b8",
   "outputs": [
    {
     "data": {
      "text/plain": [
       "                         timestamp    kWh  \\\n",
       "0  2017-06-01T00:00:00.000000+0000  0.110   \n",
       "1  2017-06-01T01:00:00.000000+0000  0.152   \n",
       "2  2017-06-01T02:00:00.000000+0000  0.023   \n",
       "3  2017-06-01T03:00:00.000000+0000  0.045   \n",
       "4  2017-06-01T04:00:00.000000+0000  0.066   \n",
       "\n",
       "                                          profile_id  \n",
       "0  3b71707954dc962ab68fe44fa46b62d9a9b5348ce457bf...  \n",
       "1  3b71707954dc962ab68fe44fa46b62d9a9b5348ce457bf...  \n",
       "2  3b71707954dc962ab68fe44fa46b62d9a9b5348ce457bf...  \n",
       "3  3b71707954dc962ab68fe44fa46b62d9a9b5348ce457bf...  \n",
       "4  3b71707954dc962ab68fe44fa46b62d9a9b5348ce457bf...  "
      ],
      "text/html": [
       "<div>\n",
       "<style scoped>\n",
       "    .dataframe tbody tr th:only-of-type {\n",
       "        vertical-align: middle;\n",
       "    }\n",
       "\n",
       "    .dataframe tbody tr th {\n",
       "        vertical-align: top;\n",
       "    }\n",
       "\n",
       "    .dataframe thead th {\n",
       "        text-align: right;\n",
       "    }\n",
       "</style>\n",
       "<table border=\"1\" class=\"dataframe\">\n",
       "  <thead>\n",
       "    <tr style=\"text-align: right;\">\n",
       "      <th></th>\n",
       "      <th>timestamp</th>\n",
       "      <th>kWh</th>\n",
       "      <th>profile_id</th>\n",
       "    </tr>\n",
       "  </thead>\n",
       "  <tbody>\n",
       "    <tr>\n",
       "      <th>0</th>\n",
       "      <td>2017-06-01T00:00:00.000000+0000</td>\n",
       "      <td>0.110</td>\n",
       "      <td>3b71707954dc962ab68fe44fa46b62d9a9b5348ce457bf...</td>\n",
       "    </tr>\n",
       "    <tr>\n",
       "      <th>1</th>\n",
       "      <td>2017-06-01T01:00:00.000000+0000</td>\n",
       "      <td>0.152</td>\n",
       "      <td>3b71707954dc962ab68fe44fa46b62d9a9b5348ce457bf...</td>\n",
       "    </tr>\n",
       "    <tr>\n",
       "      <th>2</th>\n",
       "      <td>2017-06-01T02:00:00.000000+0000</td>\n",
       "      <td>0.023</td>\n",
       "      <td>3b71707954dc962ab68fe44fa46b62d9a9b5348ce457bf...</td>\n",
       "    </tr>\n",
       "    <tr>\n",
       "      <th>3</th>\n",
       "      <td>2017-06-01T03:00:00.000000+0000</td>\n",
       "      <td>0.045</td>\n",
       "      <td>3b71707954dc962ab68fe44fa46b62d9a9b5348ce457bf...</td>\n",
       "    </tr>\n",
       "    <tr>\n",
       "      <th>4</th>\n",
       "      <td>2017-06-01T04:00:00.000000+0000</td>\n",
       "      <td>0.066</td>\n",
       "      <td>3b71707954dc962ab68fe44fa46b62d9a9b5348ce457bf...</td>\n",
       "    </tr>\n",
       "  </tbody>\n",
       "</table>\n",
       "</div>"
      ]
     },
     "execution_count": 12,
     "metadata": {},
     "output_type": "execute_result"
    }
   ],
   "execution_count": 12
  },
  {
   "metadata": {
    "ExecuteTime": {
     "end_time": "2025-05-23T15:19:55.394378Z",
     "start_time": "2025-05-23T15:19:51.479174Z"
    }
   },
   "cell_type": "code",
   "source": "df_ = df.copy()",
   "id": "f01d7a368947be7d",
   "outputs": [],
   "execution_count": 13
  },
  {
   "metadata": {
    "ExecuteTime": {
     "end_time": "2025-05-23T15:21:25.432794Z",
     "start_time": "2025-05-23T15:19:55.454388Z"
    }
   },
   "cell_type": "code",
   "source": [
    "df_['timestamp'] = pd.to_datetime(\n",
    "    df_['timestamp'],\n",
    "    format='%Y-%m-%dT%H:%M:%S.%f%z'\n",
    ")"
   ],
   "id": "87dcf35ace76085a",
   "outputs": [],
   "execution_count": 14
  },
  {
   "metadata": {
    "ExecuteTime": {
     "end_time": "2025-05-23T15:21:25.482771Z",
     "start_time": "2025-05-23T15:21:25.476072Z"
    }
   },
   "cell_type": "code",
   "source": "df_.head()",
   "id": "def05c4392ab0256",
   "outputs": [
    {
     "data": {
      "text/plain": [
       "                  timestamp    kWh  \\\n",
       "0 2017-06-01 00:00:00+00:00  0.110   \n",
       "1 2017-06-01 01:00:00+00:00  0.152   \n",
       "2 2017-06-01 02:00:00+00:00  0.023   \n",
       "3 2017-06-01 03:00:00+00:00  0.045   \n",
       "4 2017-06-01 04:00:00+00:00  0.066   \n",
       "\n",
       "                                          profile_id  \n",
       "0  3b71707954dc962ab68fe44fa46b62d9a9b5348ce457bf...  \n",
       "1  3b71707954dc962ab68fe44fa46b62d9a9b5348ce457bf...  \n",
       "2  3b71707954dc962ab68fe44fa46b62d9a9b5348ce457bf...  \n",
       "3  3b71707954dc962ab68fe44fa46b62d9a9b5348ce457bf...  \n",
       "4  3b71707954dc962ab68fe44fa46b62d9a9b5348ce457bf...  "
      ],
      "text/html": [
       "<div>\n",
       "<style scoped>\n",
       "    .dataframe tbody tr th:only-of-type {\n",
       "        vertical-align: middle;\n",
       "    }\n",
       "\n",
       "    .dataframe tbody tr th {\n",
       "        vertical-align: top;\n",
       "    }\n",
       "\n",
       "    .dataframe thead th {\n",
       "        text-align: right;\n",
       "    }\n",
       "</style>\n",
       "<table border=\"1\" class=\"dataframe\">\n",
       "  <thead>\n",
       "    <tr style=\"text-align: right;\">\n",
       "      <th></th>\n",
       "      <th>timestamp</th>\n",
       "      <th>kWh</th>\n",
       "      <th>profile_id</th>\n",
       "    </tr>\n",
       "  </thead>\n",
       "  <tbody>\n",
       "    <tr>\n",
       "      <th>0</th>\n",
       "      <td>2017-06-01 00:00:00+00:00</td>\n",
       "      <td>0.110</td>\n",
       "      <td>3b71707954dc962ab68fe44fa46b62d9a9b5348ce457bf...</td>\n",
       "    </tr>\n",
       "    <tr>\n",
       "      <th>1</th>\n",
       "      <td>2017-06-01 01:00:00+00:00</td>\n",
       "      <td>0.152</td>\n",
       "      <td>3b71707954dc962ab68fe44fa46b62d9a9b5348ce457bf...</td>\n",
       "    </tr>\n",
       "    <tr>\n",
       "      <th>2</th>\n",
       "      <td>2017-06-01 02:00:00+00:00</td>\n",
       "      <td>0.023</td>\n",
       "      <td>3b71707954dc962ab68fe44fa46b62d9a9b5348ce457bf...</td>\n",
       "    </tr>\n",
       "    <tr>\n",
       "      <th>3</th>\n",
       "      <td>2017-06-01 03:00:00+00:00</td>\n",
       "      <td>0.045</td>\n",
       "      <td>3b71707954dc962ab68fe44fa46b62d9a9b5348ce457bf...</td>\n",
       "    </tr>\n",
       "    <tr>\n",
       "      <th>4</th>\n",
       "      <td>2017-06-01 04:00:00+00:00</td>\n",
       "      <td>0.066</td>\n",
       "      <td>3b71707954dc962ab68fe44fa46b62d9a9b5348ce457bf...</td>\n",
       "    </tr>\n",
       "  </tbody>\n",
       "</table>\n",
       "</div>"
      ]
     },
     "execution_count": 15,
     "metadata": {},
     "output_type": "execute_result"
    }
   ],
   "execution_count": 15
  },
  {
   "metadata": {
    "ExecuteTime": {
     "end_time": "2025-05-23T15:21:51.674990Z",
     "start_time": "2025-05-23T15:21:25.550467Z"
    }
   },
   "cell_type": "code",
   "source": "df_ = df_.sort_values(by=['profile_id', 'timestamp'])",
   "id": "a72dde505f940215",
   "outputs": [],
   "execution_count": 16
  },
  {
   "metadata": {
    "ExecuteTime": {
     "end_time": "2025-05-23T15:21:52.276378Z",
     "start_time": "2025-05-23T15:21:51.731752Z"
    }
   },
   "cell_type": "code",
   "source": "df_['timestamp'].min(), df_['timestamp'].max()",
   "id": "758f9b24ce996a5e",
   "outputs": [
    {
     "data": {
      "text/plain": [
       "(Timestamp('2017-06-01 00:00:00+0000', tz='UTC'),\n",
       " Timestamp('2020-03-01 00:00:00+0000', tz='UTC'))"
      ]
     },
     "execution_count": 17,
     "metadata": {},
     "output_type": "execute_result"
    }
   ],
   "execution_count": 17
  },
  {
   "metadata": {
    "ExecuteTime": {
     "end_time": "2025-05-23T15:22:05.132748Z",
     "start_time": "2025-05-23T15:21:52.285547Z"
    }
   },
   "cell_type": "code",
   "source": [
    "time_grid  = pd.date_range(df_['timestamp'].min(),\n",
    "                           df_['timestamp'].max(),\n",
    "                           freq='30min')\n",
    "profile_ids = df_['profile_id'].unique()"
   ],
   "id": "8e0e3edd6dae5b8",
   "outputs": [],
   "execution_count": 18
  },
  {
   "metadata": {
    "ExecuteTime": {
     "end_time": "2025-05-23T15:22:05.953692Z",
     "start_time": "2025-05-23T15:22:05.149684Z"
    }
   },
   "cell_type": "code",
   "source": [
    "idx = pd.MultiIndex.from_product(\n",
    "    [profile_ids, time_grid],\n",
    "    names=['profile_id','timestamp']\n",
    ")"
   ],
   "id": "2827e8501087d2c1",
   "outputs": [],
   "execution_count": 19
  },
  {
   "metadata": {
    "ExecuteTime": {
     "end_time": "2025-05-23T15:23:09.084649Z",
     "start_time": "2025-05-23T15:22:06.014520Z"
    }
   },
   "cell_type": "code",
   "source": [
    "df_idx = df_.set_index(['profile_id','timestamp'])\n",
    "df_30 = df_idx.reindex(idx)"
   ],
   "id": "c0df5aeb7a68c550",
   "outputs": [],
   "execution_count": 20
  },
  {
   "metadata": {
    "ExecuteTime": {
     "end_time": "2025-05-23T15:23:09.228042Z",
     "start_time": "2025-05-23T15:23:09.220896Z"
    }
   },
   "cell_type": "code",
   "source": "df_30.head()",
   "id": "64c55f7e1b54cad",
   "outputs": [
    {
     "data": {
      "text/plain": [
       "                                                                                kWh\n",
       "profile_id                                         timestamp                       \n",
       "0001b3b2f18c01c62ed9b2a87de7b4e33e7836f786f7904... 2017-06-01 00:00:00+00:00  0.190\n",
       "                                                   2017-06-01 00:30:00+00:00    NaN\n",
       "                                                   2017-06-01 01:00:00+00:00  0.057\n",
       "                                                   2017-06-01 01:30:00+00:00    NaN\n",
       "                                                   2017-06-01 02:00:00+00:00  0.099"
      ],
      "text/html": [
       "<div>\n",
       "<style scoped>\n",
       "    .dataframe tbody tr th:only-of-type {\n",
       "        vertical-align: middle;\n",
       "    }\n",
       "\n",
       "    .dataframe tbody tr th {\n",
       "        vertical-align: top;\n",
       "    }\n",
       "\n",
       "    .dataframe thead th {\n",
       "        text-align: right;\n",
       "    }\n",
       "</style>\n",
       "<table border=\"1\" class=\"dataframe\">\n",
       "  <thead>\n",
       "    <tr style=\"text-align: right;\">\n",
       "      <th></th>\n",
       "      <th></th>\n",
       "      <th>kWh</th>\n",
       "    </tr>\n",
       "    <tr>\n",
       "      <th>profile_id</th>\n",
       "      <th>timestamp</th>\n",
       "      <th></th>\n",
       "    </tr>\n",
       "  </thead>\n",
       "  <tbody>\n",
       "    <tr>\n",
       "      <th rowspan=\"5\" valign=\"top\">0001b3b2f18c01c62ed9b2a87de7b4e33e7836f786f7904471d8866978405c1b</th>\n",
       "      <th>2017-06-01 00:00:00+00:00</th>\n",
       "      <td>0.190</td>\n",
       "    </tr>\n",
       "    <tr>\n",
       "      <th>2017-06-01 00:30:00+00:00</th>\n",
       "      <td>NaN</td>\n",
       "    </tr>\n",
       "    <tr>\n",
       "      <th>2017-06-01 01:00:00+00:00</th>\n",
       "      <td>0.057</td>\n",
       "    </tr>\n",
       "    <tr>\n",
       "      <th>2017-06-01 01:30:00+00:00</th>\n",
       "      <td>NaN</td>\n",
       "    </tr>\n",
       "    <tr>\n",
       "      <th>2017-06-01 02:00:00+00:00</th>\n",
       "      <td>0.099</td>\n",
       "    </tr>\n",
       "  </tbody>\n",
       "</table>\n",
       "</div>"
      ]
     },
     "execution_count": 21,
     "metadata": {},
     "output_type": "execute_result"
    }
   ],
   "execution_count": 21
  },
  {
   "metadata": {
    "ExecuteTime": {
     "end_time": "2025-05-23T15:24:22.164144Z",
     "start_time": "2025-05-23T15:23:09.327938Z"
    }
   },
   "cell_type": "code",
   "source": [
    "df_30['kWh_interpolated'] = (\n",
    "    df_30\n",
    "    .groupby('profile_id')['kWh']\n",
    "    .transform(lambda s: s.interpolate(method='linear'))\n",
    ")"
   ],
   "id": "f009077da6a7ea8d",
   "outputs": [],
   "execution_count": 22
  },
  {
   "metadata": {
    "ExecuteTime": {
     "end_time": "2025-05-23T15:26:02.804134Z",
     "start_time": "2025-05-23T15:26:02.796793Z"
    }
   },
   "cell_type": "code",
   "source": "df_30.head()",
   "id": "a52839fe62ca912d",
   "outputs": [
    {
     "data": {
      "text/plain": [
       "                                                                                kWh  \\\n",
       "profile_id                                         timestamp                          \n",
       "0001b3b2f18c01c62ed9b2a87de7b4e33e7836f786f7904... 2017-06-01 00:00:00+00:00  0.190   \n",
       "                                                   2017-06-01 00:30:00+00:00    NaN   \n",
       "                                                   2017-06-01 01:00:00+00:00  0.057   \n",
       "                                                   2017-06-01 01:30:00+00:00    NaN   \n",
       "                                                   2017-06-01 02:00:00+00:00  0.099   \n",
       "\n",
       "                                                                              kWh_interpolated  \n",
       "profile_id                                         timestamp                                    \n",
       "0001b3b2f18c01c62ed9b2a87de7b4e33e7836f786f7904... 2017-06-01 00:00:00+00:00            0.1900  \n",
       "                                                   2017-06-01 00:30:00+00:00            0.1235  \n",
       "                                                   2017-06-01 01:00:00+00:00            0.0570  \n",
       "                                                   2017-06-01 01:30:00+00:00            0.0780  \n",
       "                                                   2017-06-01 02:00:00+00:00            0.0990  "
      ],
      "text/html": [
       "<div>\n",
       "<style scoped>\n",
       "    .dataframe tbody tr th:only-of-type {\n",
       "        vertical-align: middle;\n",
       "    }\n",
       "\n",
       "    .dataframe tbody tr th {\n",
       "        vertical-align: top;\n",
       "    }\n",
       "\n",
       "    .dataframe thead th {\n",
       "        text-align: right;\n",
       "    }\n",
       "</style>\n",
       "<table border=\"1\" class=\"dataframe\">\n",
       "  <thead>\n",
       "    <tr style=\"text-align: right;\">\n",
       "      <th></th>\n",
       "      <th></th>\n",
       "      <th>kWh</th>\n",
       "      <th>kWh_interpolated</th>\n",
       "    </tr>\n",
       "    <tr>\n",
       "      <th>profile_id</th>\n",
       "      <th>timestamp</th>\n",
       "      <th></th>\n",
       "      <th></th>\n",
       "    </tr>\n",
       "  </thead>\n",
       "  <tbody>\n",
       "    <tr>\n",
       "      <th rowspan=\"5\" valign=\"top\">0001b3b2f18c01c62ed9b2a87de7b4e33e7836f786f7904471d8866978405c1b</th>\n",
       "      <th>2017-06-01 00:00:00+00:00</th>\n",
       "      <td>0.190</td>\n",
       "      <td>0.1900</td>\n",
       "    </tr>\n",
       "    <tr>\n",
       "      <th>2017-06-01 00:30:00+00:00</th>\n",
       "      <td>NaN</td>\n",
       "      <td>0.1235</td>\n",
       "    </tr>\n",
       "    <tr>\n",
       "      <th>2017-06-01 01:00:00+00:00</th>\n",
       "      <td>0.057</td>\n",
       "      <td>0.0570</td>\n",
       "    </tr>\n",
       "    <tr>\n",
       "      <th>2017-06-01 01:30:00+00:00</th>\n",
       "      <td>NaN</td>\n",
       "      <td>0.0780</td>\n",
       "    </tr>\n",
       "    <tr>\n",
       "      <th>2017-06-01 02:00:00+00:00</th>\n",
       "      <td>0.099</td>\n",
       "      <td>0.0990</td>\n",
       "    </tr>\n",
       "  </tbody>\n",
       "</table>\n",
       "</div>"
      ]
     },
     "execution_count": 23,
     "metadata": {},
     "output_type": "execute_result"
    }
   ],
   "execution_count": 23
  },
  {
   "metadata": {},
   "cell_type": "code",
   "outputs": [],
   "execution_count": null,
   "source": "",
   "id": "6dc095094def3d87"
  },
  {
   "metadata": {
    "ExecuteTime": {
     "end_time": "2025-05-23T15:28:10.956810Z",
     "start_time": "2025-05-23T15:28:07.046784Z"
    }
   },
   "cell_type": "code",
   "source": [
    "df_30 = df_30.drop(columns=['kWh'])\n",
    "df_30 = df_30.rename(columns={'kWh_interpolated': 'kWh'})\n",
    "df_30 = df_30.reset_index()\n",
    "\n",
    "df_30['profile_id'] = [a[:7]for a in df_30['profile_id']]\n",
    "df_30['timestamp'] = [a.replace('+00:00','.0000000') for a in df_30['timestamp']]"
   ],
   "id": "b848ac13b27a22c0",
   "outputs": [],
   "execution_count": 26
  },
  {
   "metadata": {
    "ExecuteTime": {
     "end_time": "2025-05-23T15:28:11.059315Z",
     "start_time": "2025-05-23T15:28:11.052954Z"
    }
   },
   "cell_type": "code",
   "source": "df_30.head()",
   "id": "193a2f51b7269b56",
   "outputs": [
    {
     "data": {
      "text/plain": [
       "                                                                                 kWh\n",
       "profile_id                                         timestamp                        \n",
       "0001b3b2f18c01c62ed9b2a87de7b4e33e7836f786f7904... 2017-06-01 00:00:00+00:00  0.1900\n",
       "                                                   2017-06-01 00:30:00+00:00  0.1235\n",
       "                                                   2017-06-01 01:00:00+00:00  0.0570\n",
       "                                                   2017-06-01 01:30:00+00:00  0.0780\n",
       "                                                   2017-06-01 02:00:00+00:00  0.0990"
      ],
      "text/html": [
       "<div>\n",
       "<style scoped>\n",
       "    .dataframe tbody tr th:only-of-type {\n",
       "        vertical-align: middle;\n",
       "    }\n",
       "\n",
       "    .dataframe tbody tr th {\n",
       "        vertical-align: top;\n",
       "    }\n",
       "\n",
       "    .dataframe thead th {\n",
       "        text-align: right;\n",
       "    }\n",
       "</style>\n",
       "<table border=\"1\" class=\"dataframe\">\n",
       "  <thead>\n",
       "    <tr style=\"text-align: right;\">\n",
       "      <th></th>\n",
       "      <th></th>\n",
       "      <th>kWh</th>\n",
       "    </tr>\n",
       "    <tr>\n",
       "      <th>profile_id</th>\n",
       "      <th>timestamp</th>\n",
       "      <th></th>\n",
       "    </tr>\n",
       "  </thead>\n",
       "  <tbody>\n",
       "    <tr>\n",
       "      <th rowspan=\"5\" valign=\"top\">0001b3b2f18c01c62ed9b2a87de7b4e33e7836f786f7904471d8866978405c1b</th>\n",
       "      <th>2017-06-01 00:00:00+00:00</th>\n",
       "      <td>0.1900</td>\n",
       "    </tr>\n",
       "    <tr>\n",
       "      <th>2017-06-01 00:30:00+00:00</th>\n",
       "      <td>0.1235</td>\n",
       "    </tr>\n",
       "    <tr>\n",
       "      <th>2017-06-01 01:00:00+00:00</th>\n",
       "      <td>0.0570</td>\n",
       "    </tr>\n",
       "    <tr>\n",
       "      <th>2017-06-01 01:30:00+00:00</th>\n",
       "      <td>0.0780</td>\n",
       "    </tr>\n",
       "    <tr>\n",
       "      <th>2017-06-01 02:00:00+00:00</th>\n",
       "      <td>0.0990</td>\n",
       "    </tr>\n",
       "  </tbody>\n",
       "</table>\n",
       "</div>"
      ]
     },
     "execution_count": 27,
     "metadata": {},
     "output_type": "execute_result"
    }
   ],
   "execution_count": 27
  },
  {
   "metadata": {},
   "cell_type": "code",
   "outputs": [],
   "execution_count": null,
   "source": "df_30 = df_30.reset_index()",
   "id": "3240a7083915e185"
  },
  {
   "metadata": {},
   "cell_type": "code",
   "outputs": [],
   "execution_count": null,
   "source": [
    "df_17 = df_30[df_30['timestamp'] == '2017-06-02 00:00:00.0000000']\n",
    "df_20 = df_30[df_30['timestamp'] == '2020-02-28 00:00:00.0000000']"
   ],
   "id": "e82c1b0f3e561b27"
  },
  {
   "metadata": {},
   "cell_type": "code",
   "outputs": [],
   "execution_count": null,
   "source": [
    "df_17 = df_17[df_17['kWh']==0.0]\n",
    "df_20 = df_20[df_20['kWh']==0.0]"
   ],
   "id": "85d62ecffe33ec78"
  },
  {
   "metadata": {},
   "cell_type": "code",
   "outputs": [],
   "execution_count": null,
   "source": [
    "users = list(df_17['profile_id'].unique())\n",
    "users.extend(list(df_20['profile_id'].unique()))\n",
    "users = list(set(users))\n",
    "\n",
    "len(users)"
   ],
   "id": "33dde77cb704d2a6"
  },
  {
   "metadata": {},
   "cell_type": "code",
   "outputs": [],
   "execution_count": null,
   "source": "df_4676 = df_30.drop(df_30.index[df_30['profile_id'].isin(users)])",
   "id": "5d1c5af06472f6d6"
  },
  {
   "metadata": {
    "ExecuteTime": {
     "end_time": "2025-06-01T18:35:11.134156Z",
     "start_time": "2025-06-01T18:30:45.514609Z"
    }
   },
   "cell_type": "code",
   "source": "df_4676.to_csv(\"dataset/goi4_pre/GoiEner_pre.csv\")",
   "id": "18b69a003a910eb1",
   "outputs": [],
   "execution_count": 10
  },
  {
   "metadata": {
    "ExecuteTime": {
     "end_time": "2025-06-01T18:24:31.161129Z",
     "start_time": "2025-06-01T18:23:28.947139Z"
    }
   },
   "cell_type": "code",
   "source": [
    "import pandas as pd\n",
    "df_30 = pd.read_csv(\"dataset/goi4_pre/GoiEner_pre.csv\")"
   ],
   "id": "126fb1c3b01f47d7",
   "outputs": [],
   "execution_count": 1
  },
  {
   "metadata": {
    "ExecuteTime": {
     "end_time": "2025-06-01T18:24:31.296845Z",
     "start_time": "2025-06-01T18:24:31.263475Z"
    }
   },
   "cell_type": "code",
   "source": "df_30.head()",
   "id": "80d2716afc793d74",
   "outputs": [
    {
     "data": {
      "text/plain": [
       "  profile_id                    timestamp    kWh\n",
       "0    0001b3b  2017-06-01 00:00:00.0000000  0.190\n",
       "1    0001b3b  2017-06-01 00:30:00.0000000  0.124\n",
       "2    0001b3b  2017-06-01 01:00:00.0000000  0.057\n",
       "3    0001b3b  2017-06-01 01:30:00.0000000  0.078\n",
       "4    0001b3b  2017-06-01 02:00:00.0000000  0.099"
      ],
      "text/html": [
       "<div>\n",
       "<style scoped>\n",
       "    .dataframe tbody tr th:only-of-type {\n",
       "        vertical-align: middle;\n",
       "    }\n",
       "\n",
       "    .dataframe tbody tr th {\n",
       "        vertical-align: top;\n",
       "    }\n",
       "\n",
       "    .dataframe thead th {\n",
       "        text-align: right;\n",
       "    }\n",
       "</style>\n",
       "<table border=\"1\" class=\"dataframe\">\n",
       "  <thead>\n",
       "    <tr style=\"text-align: right;\">\n",
       "      <th></th>\n",
       "      <th>profile_id</th>\n",
       "      <th>timestamp</th>\n",
       "      <th>kWh</th>\n",
       "    </tr>\n",
       "  </thead>\n",
       "  <tbody>\n",
       "    <tr>\n",
       "      <th>0</th>\n",
       "      <td>0001b3b</td>\n",
       "      <td>2017-06-01 00:00:00.0000000</td>\n",
       "      <td>0.190</td>\n",
       "    </tr>\n",
       "    <tr>\n",
       "      <th>1</th>\n",
       "      <td>0001b3b</td>\n",
       "      <td>2017-06-01 00:30:00.0000000</td>\n",
       "      <td>0.124</td>\n",
       "    </tr>\n",
       "    <tr>\n",
       "      <th>2</th>\n",
       "      <td>0001b3b</td>\n",
       "      <td>2017-06-01 01:00:00.0000000</td>\n",
       "      <td>0.057</td>\n",
       "    </tr>\n",
       "    <tr>\n",
       "      <th>3</th>\n",
       "      <td>0001b3b</td>\n",
       "      <td>2017-06-01 01:30:00.0000000</td>\n",
       "      <td>0.078</td>\n",
       "    </tr>\n",
       "    <tr>\n",
       "      <th>4</th>\n",
       "      <td>0001b3b</td>\n",
       "      <td>2017-06-01 02:00:00.0000000</td>\n",
       "      <td>0.099</td>\n",
       "    </tr>\n",
       "  </tbody>\n",
       "</table>\n",
       "</div>"
      ]
     },
     "execution_count": 2,
     "metadata": {},
     "output_type": "execute_result"
    }
   ],
   "execution_count": 2
  }
 ],
 "metadata": {
  "kernelspec": {
   "display_name": "Python 3",
   "language": "python",
   "name": "python3"
  },
  "language_info": {
   "codemirror_mode": {
    "name": "ipython",
    "version": 2
   },
   "file_extension": ".py",
   "mimetype": "text/x-python",
   "name": "python",
   "nbconvert_exporter": "python",
   "pygments_lexer": "ipython2",
   "version": "2.7.6"
  }
 },
 "nbformat": 4,
 "nbformat_minor": 5
}
