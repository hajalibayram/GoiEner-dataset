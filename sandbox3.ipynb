{
 "cells": [
  {
   "metadata": {
    "collapsed": true,
    "ExecuteTime": {
     "end_time": "2025-05-20T15:05:42.653911Z",
     "start_time": "2025-05-20T15:05:42.650226Z"
    }
   },
   "cell_type": "code",
   "source": [
    "import tarfile\n",
    "from itertools import groupby\n",
    "from zlib import decompress\n",
    "import functools\n",
    "\n",
    "import numpy as np\n",
    "import zstandard"
   ],
   "id": "initial_id",
   "outputs": [],
   "execution_count": 1
  },
  {
   "metadata": {
    "ExecuteTime": {
     "end_time": "2025-05-20T15:05:42.666967Z",
     "start_time": "2025-05-20T15:05:42.665155Z"
    }
   },
   "cell_type": "code",
   "source": [
    "import os\n",
    "from pathlib import Path"
   ],
   "id": "2b525dfba35994a5",
   "outputs": [],
   "execution_count": 2
  },
  {
   "metadata": {
    "ExecuteTime": {
     "end_time": "2025-05-20T15:05:42.760861Z",
     "start_time": "2025-05-20T15:05:42.670511Z"
    }
   },
   "cell_type": "code",
   "source": [
    "from datetime import datetime\n",
    "import polars as pl\n",
    "import glob\n",
    "from tqdm import tqdm"
   ],
   "id": "a5063119ced563b6",
   "outputs": [],
   "execution_count": 3
  },
  {
   "metadata": {
    "ExecuteTime": {
     "end_time": "2025-05-20T15:05:42.884148Z",
     "start_time": "2025-05-20T15:05:42.826329Z"
    }
   },
   "cell_type": "code",
   "source": [
    "metadata = pl.read_csv('raw/metadata.csv', try_parse_dates=True)\n",
    "metadata"
   ],
   "id": "814e1639183a1d19",
   "outputs": [
    {
     "data": {
      "text/plain": [
       "shape: (25_559, 23)\n",
       "┌────────────┬────────────┬────────────┬────────────┬───┬────────────┬───────────┬──────────┬──────┐\n",
       "│ user       ┆ start_date ┆ end_date   ┆ length_day ┆ … ┆ province   ┆ municipal ┆ zip_code ┆ cnae │\n",
       "│ ---        ┆ ---        ┆ ---        ┆ s          ┆   ┆ ---        ┆ ity       ┆ ---      ┆ ---  │\n",
       "│ str        ┆ datetime[μ ┆ datetime[μ ┆ ---        ┆   ┆ str        ┆ ---       ┆ i64      ┆ i64  │\n",
       "│            ┆ s, UTC]    ┆ s, UTC]    ┆ f64        ┆   ┆            ┆ str       ┆          ┆      │\n",
       "╞════════════╪════════════╪════════════╪════════════╪═══╪════════════╪═══════════╪══════════╪══════╡\n",
       "│ 00000c5a44 ┆ 2022-05-30 ┆ 2022-06-05 ┆ 6.0        ┆ … ┆ Gipuzkoa   ┆ null      ┆ null     ┆ 9329 │\n",
       "│ 8d9faa097b ┆ 01:00:00   ┆ 00:00:00   ┆            ┆   ┆            ┆           ┆          ┆      │\n",
       "│ 761cc98036 ┆ UTC        ┆ UTC        ┆            ┆   ┆            ┆           ┆          ┆      │\n",
       "│ …          ┆            ┆            ┆            ┆   ┆            ┆           ┆          ┆      │\n",
       "│ 0001b3b2f1 ┆ 2017-05-31 ┆ 2022-06-05 ┆ 1831.0     ┆ … ┆ Bizkaia    ┆ null      ┆ null     ┆ 9820 │\n",
       "│ 8c01c62ed9 ┆ 01:00:00   ┆ 00:00:00   ┆            ┆   ┆            ┆           ┆          ┆      │\n",
       "│ b2a87de7b4 ┆ UTC        ┆ UTC        ┆            ┆   ┆            ┆           ┆          ┆      │\n",
       "│ …          ┆            ┆            ┆            ┆   ┆            ┆           ┆          ┆      │\n",
       "│ 0003de2700 ┆ 2017-05-31 ┆ 2019-11-14 ┆ 897.0      ┆ … ┆ Gipuzkoa   ┆ Donostia/ ┆ 20013    ┆ 9820 │\n",
       "│ e20a1681d6 ┆ 01:00:00   ┆ 00:00:00   ┆            ┆   ┆            ┆ San       ┆          ┆      │\n",
       "│ 9fe287441d ┆ UTC        ┆ UTC        ┆            ┆   ┆            ┆ Sebastian ┆          ┆      │\n",
       "│ …          ┆            ┆            ┆            ┆   ┆            ┆           ┆          ┆      │\n",
       "│ 0004150214 ┆ 2018-07-12 ┆ 2022-06-05 ┆ 1424.0     ┆ … ┆ Gipuzkoa   ┆ Irun      ┆ 20304    ┆ 4759 │\n",
       "│ d14a2b2e6f ┆ 01:00:00   ┆ 00:00:00   ┆            ┆   ┆            ┆           ┆          ┆      │\n",
       "│ 7075531e66 ┆ UTC        ┆ UTC        ┆            ┆   ┆            ┆           ┆          ┆      │\n",
       "│ …          ┆            ┆            ┆            ┆   ┆            ┆           ┆          ┆      │\n",
       "│ 000721f0fc ┆ 2017-05-30 ┆ 2022-06-04 ┆ 1831.0     ┆ … ┆ Bizkaia    ┆ null      ┆ null     ┆ 9820 │\n",
       "│ 6ccf02ae24 ┆ 01:00:00   ┆ 00:00:00   ┆            ┆   ┆            ┆           ┆          ┆      │\n",
       "│ b673939795 ┆ UTC        ┆ UTC        ┆            ┆   ┆            ┆           ┆          ┆      │\n",
       "│ …          ┆            ┆            ┆            ┆   ┆            ┆           ┆          ┆      │\n",
       "│ …          ┆ …          ┆ …          ┆ …          ┆ … ┆ …          ┆ …         ┆ …        ┆ …    │\n",
       "│ ffeddf4919 ┆ 2018-10-02 ┆ 2021-11-03 ┆ 1128.0     ┆ … ┆ Soria      ┆ null      ┆ null     ┆ 9820 │\n",
       "│ e748beb50a ┆ 01:00:00   ┆ 00:00:00   ┆            ┆   ┆            ┆           ┆          ┆      │\n",
       "│ f7c6b73def ┆ UTC        ┆ UTC        ┆            ┆   ┆            ┆           ┆          ┆      │\n",
       "│ …          ┆            ┆            ┆            ┆   ┆            ┆           ┆          ┆      │\n",
       "│ ffefb9e277 ┆ 2021-07-06 ┆ 2022-06-05 ┆ 334.0      ┆ … ┆ Bizkaia    ┆ Bilbao    ┆ 48012    ┆ 9820 │\n",
       "│ 15b1c3fa50 ┆ 01:00:00   ┆ 00:00:00   ┆            ┆   ┆            ┆           ┆          ┆      │\n",
       "│ 07c457de55 ┆ UTC        ┆ UTC        ┆            ┆   ┆            ┆           ┆          ┆      │\n",
       "│ …          ┆            ┆            ┆            ┆   ┆            ┆           ┆          ┆      │\n",
       "│ fff0adcd6c ┆ 2017-08-17 ┆ 2022-06-05 ┆ 1753.0     ┆ … ┆ Bizkaia    ┆ null      ┆ null     ┆ 9820 │\n",
       "│ db7434496a ┆ 01:00:00   ┆ 00:00:00   ┆            ┆   ┆            ┆           ┆          ┆      │\n",
       "│ 5222f03337 ┆ UTC        ┆ UTC        ┆            ┆   ┆            ┆           ┆          ┆      │\n",
       "│ …          ┆            ┆            ┆            ┆   ┆            ┆           ┆          ┆      │\n",
       "│ fff282fcaa ┆ 2021-11-08 ┆ 2022-06-03 ┆ 207.0      ┆ … ┆ Alicante/A ┆ null      ┆ null     ┆ 9820 │\n",
       "│ 968a999b29 ┆ 01:00:00   ┆ 00:00:00   ┆            ┆   ┆ lacant     ┆           ┆          ┆      │\n",
       "│ 01731ed2ec ┆ UTC        ┆ UTC        ┆            ┆   ┆            ┆           ┆          ┆      │\n",
       "│ …          ┆            ┆            ┆            ┆   ┆            ┆           ┆          ┆      │\n",
       "│ fff3e258f1 ┆ 2021-09-17 ┆ 2022-06-05 ┆ 261.0      ┆ … ┆ Gipuzkoa   ┆ Donostia/ ┆ 20011    ┆ 9820 │\n",
       "│ cb36595561 ┆ 01:00:00   ┆ 00:00:00   ┆            ┆   ┆            ┆ San       ┆          ┆      │\n",
       "│ 63542d204d ┆ UTC        ┆ UTC        ┆            ┆   ┆            ┆ Sebastian ┆          ┆      │\n",
       "│ …          ┆            ┆            ┆            ┆   ┆            ┆           ┆          ┆      │\n",
       "└────────────┴────────────┴────────────┴────────────┴───┴────────────┴───────────┴──────────┴──────┘"
      ],
      "text/html": [
       "<div><style>\n",
       ".dataframe > thead > tr,\n",
       ".dataframe > tbody > tr {\n",
       "  text-align: right;\n",
       "  white-space: pre-wrap;\n",
       "}\n",
       "</style>\n",
       "<small>shape: (25_559, 23)</small><table border=\"1\" class=\"dataframe\"><thead><tr><th>user</th><th>start_date</th><th>end_date</th><th>length_days</th><th>length_years</th><th>potential_samples</th><th>actual_samples</th><th>missing_samples_abs</th><th>missing_samples_pct</th><th>contract_start_date</th><th>contract_end_date</th><th>contracted_tariff</th><th>self_consumption_type</th><th>p1</th><th>p2</th><th>p3</th><th>p4</th><th>p5</th><th>p6</th><th>province</th><th>municipality</th><th>zip_code</th><th>cnae</th></tr><tr><td>str</td><td>datetime[μs, UTC]</td><td>datetime[μs, UTC]</td><td>f64</td><td>f64</td><td>i64</td><td>i64</td><td>i64</td><td>f64</td><td>date</td><td>date</td><td>str</td><td>str</td><td>f64</td><td>f64</td><td>f64</td><td>f64</td><td>f64</td><td>f64</td><td>str</td><td>str</td><td>i64</td><td>i64</td></tr></thead><tbody><tr><td>&quot;00000c5a448d9faa097b761cc98036…</td><td>2022-05-30 01:00:00 UTC</td><td>2022-06-05 00:00:00 UTC</td><td>6.0</td><td>0.016427</td><td>144</td><td>144</td><td>0</td><td>0.0</td><td>2022-05-31</td><td>null</td><td>&quot;2.0TD&quot;</td><td>&quot;&quot;</td><td>2.2</td><td>2.2</td><td>0.0</td><td>0.0</td><td>0.0</td><td>0.0</td><td>&quot;Gipuzkoa&quot;</td><td>null</td><td>null</td><td>9329</td></tr><tr><td>&quot;0001b3b2f18c01c62ed9b2a87de7b4…</td><td>2017-05-31 01:00:00 UTC</td><td>2022-06-05 00:00:00 UTC</td><td>1831.0</td><td>5.013005</td><td>43944</td><td>43863</td><td>81</td><td>0.184326</td><td>2021-06-01</td><td>null</td><td>&quot;2.0TD&quot;</td><td>&quot;&quot;</td><td>3.45</td><td>3.45</td><td>null</td><td>null</td><td>null</td><td>null</td><td>&quot;Bizkaia&quot;</td><td>null</td><td>null</td><td>9820</td></tr><tr><td>&quot;0003de2700e20a1681d69fe287441d…</td><td>2017-05-31 01:00:00 UTC</td><td>2019-11-14 00:00:00 UTC</td><td>897.0</td><td>2.455852</td><td>21528</td><td>21476</td><td>52</td><td>0.241546</td><td>2019-09-02</td><td>2019-11-13</td><td>&quot;2.0A&quot;</td><td>&quot;&quot;</td><td>4.6</td><td>null</td><td>null</td><td>null</td><td>null</td><td>null</td><td>&quot;Gipuzkoa&quot;</td><td>&quot;Donostia/San Sebastian&quot;</td><td>20013</td><td>9820</td></tr><tr><td>&quot;0004150214d14a2b2e6f7075531e66…</td><td>2018-07-12 01:00:00 UTC</td><td>2022-06-05 00:00:00 UTC</td><td>1424.0</td><td>3.8987</td><td>34176</td><td>34169</td><td>7</td><td>0.020482</td><td>2021-06-01</td><td>null</td><td>&quot;2.0TD&quot;</td><td>&quot;&quot;</td><td>9.2</td><td>9.2</td><td>null</td><td>null</td><td>null</td><td>null</td><td>&quot;Gipuzkoa&quot;</td><td>&quot;Irun&quot;</td><td>20304</td><td>4759</td></tr><tr><td>&quot;000721f0fc6ccf02ae24b673939795…</td><td>2017-05-30 01:00:00 UTC</td><td>2022-06-04 00:00:00 UTC</td><td>1831.0</td><td>5.013005</td><td>43944</td><td>43815</td><td>129</td><td>0.293555</td><td>2021-06-01</td><td>null</td><td>&quot;2.0TD&quot;</td><td>&quot;&quot;</td><td>4.4</td><td>4.4</td><td>null</td><td>null</td><td>null</td><td>null</td><td>&quot;Bizkaia&quot;</td><td>null</td><td>null</td><td>9820</td></tr><tr><td>&hellip;</td><td>&hellip;</td><td>&hellip;</td><td>&hellip;</td><td>&hellip;</td><td>&hellip;</td><td>&hellip;</td><td>&hellip;</td><td>&hellip;</td><td>&hellip;</td><td>&hellip;</td><td>&hellip;</td><td>&hellip;</td><td>&hellip;</td><td>&hellip;</td><td>&hellip;</td><td>&hellip;</td><td>&hellip;</td><td>&hellip;</td><td>&hellip;</td><td>&hellip;</td><td>&hellip;</td><td>&hellip;</td></tr><tr><td>&quot;ffeddf4919e748beb50af7c6b73def…</td><td>2018-10-02 01:00:00 UTC</td><td>2021-11-03 00:00:00 UTC</td><td>1128.0</td><td>3.088296</td><td>27072</td><td>27069</td><td>3</td><td>0.011082</td><td>2021-06-01</td><td>null</td><td>&quot;2.0TD&quot;</td><td>&quot;&quot;</td><td>6.0</td><td>6.0</td><td>null</td><td>null</td><td>null</td><td>null</td><td>&quot;Soria&quot;</td><td>null</td><td>null</td><td>9820</td></tr><tr><td>&quot;ffefb9e27715b1c3fa5007c457de55…</td><td>2021-07-06 01:00:00 UTC</td><td>2022-06-05 00:00:00 UTC</td><td>334.0</td><td>0.914442</td><td>8016</td><td>8014</td><td>2</td><td>0.02495</td><td>2021-07-07</td><td>null</td><td>&quot;2.0TD&quot;</td><td>&quot;&quot;</td><td>3.45</td><td>3.45</td><td>0.0</td><td>0.0</td><td>0.0</td><td>0.0</td><td>&quot;Bizkaia&quot;</td><td>&quot;Bilbao&quot;</td><td>48012</td><td>9820</td></tr><tr><td>&quot;fff0adcd6cdb7434496a5222f03337…</td><td>2017-08-17 01:00:00 UTC</td><td>2022-06-05 00:00:00 UTC</td><td>1753.0</td><td>4.799452</td><td>42072</td><td>41102</td><td>970</td><td>2.305571</td><td>2021-06-01</td><td>null</td><td>&quot;2.0TD&quot;</td><td>&quot;&quot;</td><td>4.6</td><td>4.6</td><td>null</td><td>null</td><td>null</td><td>null</td><td>&quot;Bizkaia&quot;</td><td>null</td><td>null</td><td>9820</td></tr><tr><td>&quot;fff282fcaa968a999b2901731ed2ec…</td><td>2021-11-08 01:00:00 UTC</td><td>2022-06-03 00:00:00 UTC</td><td>207.0</td><td>0.566735</td><td>4968</td><td>4967</td><td>1</td><td>0.020129</td><td>2022-02-10</td><td>null</td><td>&quot;2.0TD&quot;</td><td>&quot;&quot;</td><td>3.3</td><td>3.3</td><td>null</td><td>null</td><td>null</td><td>null</td><td>&quot;Alicante/Alacant&quot;</td><td>null</td><td>null</td><td>9820</td></tr><tr><td>&quot;fff3e258f1cb3659556163542d204d…</td><td>2021-09-17 01:00:00 UTC</td><td>2022-06-05 00:00:00 UTC</td><td>261.0</td><td>0.714579</td><td>6264</td><td>6262</td><td>2</td><td>0.031928</td><td>2021-09-18</td><td>null</td><td>&quot;2.0TD&quot;</td><td>&quot;&quot;</td><td>4.6</td><td>4.6</td><td>0.0</td><td>0.0</td><td>0.0</td><td>0.0</td><td>&quot;Gipuzkoa&quot;</td><td>&quot;Donostia/San Sebastian&quot;</td><td>20011</td><td>9820</td></tr></tbody></table></div>"
      ]
     },
     "execution_count": 4,
     "metadata": {},
     "output_type": "execute_result"
    }
   ],
   "execution_count": 4
  },
  {
   "metadata": {
    "ExecuteTime": {
     "end_time": "2025-05-20T15:06:04.324737Z",
     "start_time": "2025-05-20T15:06:04.292081Z"
    }
   },
   "cell_type": "code",
   "source": [
    "metadata_pst_house_2 = metadata.filter(\n",
    "    pl.col(\"end_date\").is_between(pl.datetime(2022, 5, 30, time_zone=\"UTC\"), pl.datetime(3000, 1, 1, time_zone=\"UTC\")),\n",
    "    pl.col(\"length_years\") >= 1,\n",
    "    # (pl.col('cnae') > 9699),\n",
    "    # (pl.col('cnae') < 9849)\n",
    ")\n",
    "metadata_pst_house_2.head()"
   ],
   "id": "9d6ca47ff67a3721",
   "outputs": [
    {
     "data": {
      "text/plain": [
       "shape: (5, 23)\n",
       "┌─────────────┬────────────┬────────────┬────────────┬───┬──────────┬────────────┬──────────┬──────┐\n",
       "│ user        ┆ start_date ┆ end_date   ┆ length_day ┆ … ┆ province ┆ municipali ┆ zip_code ┆ cnae │\n",
       "│ ---         ┆ ---        ┆ ---        ┆ s          ┆   ┆ ---      ┆ ty         ┆ ---      ┆ ---  │\n",
       "│ str         ┆ datetime[μ ┆ datetime[μ ┆ ---        ┆   ┆ str      ┆ ---        ┆ i64      ┆ i64  │\n",
       "│             ┆ s, UTC]    ┆ s, UTC]    ┆ f64        ┆   ┆          ┆ str        ┆          ┆      │\n",
       "╞═════════════╪════════════╪════════════╪════════════╪═══╪══════════╪════════════╪══════════╪══════╡\n",
       "│ 0001b3b2f18 ┆ 2017-05-31 ┆ 2022-06-05 ┆ 1831.0     ┆ … ┆ Bizkaia  ┆ null       ┆ null     ┆ 9820 │\n",
       "│ c01c62ed9b2 ┆ 01:00:00   ┆ 00:00:00   ┆            ┆   ┆          ┆            ┆          ┆      │\n",
       "│ a87de7b4…   ┆ UTC        ┆ UTC        ┆            ┆   ┆          ┆            ┆          ┆      │\n",
       "│ 0004150214d ┆ 2018-07-12 ┆ 2022-06-05 ┆ 1424.0     ┆ … ┆ Gipuzkoa ┆ Irun       ┆ 20304    ┆ 4759 │\n",
       "│ 14a2b2e6f70 ┆ 01:00:00   ┆ 00:00:00   ┆            ┆   ┆          ┆            ┆          ┆      │\n",
       "│ 75531e66…   ┆ UTC        ┆ UTC        ┆            ┆   ┆          ┆            ┆          ┆      │\n",
       "│ 000721f0fc6 ┆ 2017-05-30 ┆ 2022-06-04 ┆ 1831.0     ┆ … ┆ Bizkaia  ┆ null       ┆ null     ┆ 9820 │\n",
       "│ ccf02ae24b6 ┆ 01:00:00   ┆ 00:00:00   ┆            ┆   ┆          ┆            ┆          ┆      │\n",
       "│ 73939795…   ┆ UTC        ┆ UTC        ┆            ┆   ┆          ┆            ┆          ┆      │\n",
       "│ 0009b156f2a ┆ 2017-12-11 ┆ 2022-06-04 ┆ 1636.0     ┆ … ┆ Gipuzkoa ┆ null       ┆ null     ┆ 9820 │\n",
       "│ 1213a137c15 ┆ 01:00:00   ┆ 00:00:00   ┆            ┆   ┆          ┆            ┆          ┆      │\n",
       "│ 0f478715…   ┆ UTC        ┆ UTC        ┆            ┆   ┆          ┆            ┆          ┆      │\n",
       "│ 000bf84faac ┆ 2019-03-07 ┆ 2022-06-05 ┆ 1186.0     ┆ … ┆ Gipuzkoa ┆ Donostia/S ┆ 20003    ┆ 9820 │\n",
       "│ f921b55bd4e ┆ 01:00:00   ┆ 00:00:00   ┆            ┆   ┆          ┆ an         ┆          ┆      │\n",
       "│ c4aecda5…   ┆ UTC        ┆ UTC        ┆            ┆   ┆          ┆ Sebastian  ┆          ┆      │\n",
       "└─────────────┴────────────┴────────────┴────────────┴───┴──────────┴────────────┴──────────┴──────┘"
      ],
      "text/html": [
       "<div><style>\n",
       ".dataframe > thead > tr,\n",
       ".dataframe > tbody > tr {\n",
       "  text-align: right;\n",
       "  white-space: pre-wrap;\n",
       "}\n",
       "</style>\n",
       "<small>shape: (5, 23)</small><table border=\"1\" class=\"dataframe\"><thead><tr><th>user</th><th>start_date</th><th>end_date</th><th>length_days</th><th>length_years</th><th>potential_samples</th><th>actual_samples</th><th>missing_samples_abs</th><th>missing_samples_pct</th><th>contract_start_date</th><th>contract_end_date</th><th>contracted_tariff</th><th>self_consumption_type</th><th>p1</th><th>p2</th><th>p3</th><th>p4</th><th>p5</th><th>p6</th><th>province</th><th>municipality</th><th>zip_code</th><th>cnae</th></tr><tr><td>str</td><td>datetime[μs, UTC]</td><td>datetime[μs, UTC]</td><td>f64</td><td>f64</td><td>i64</td><td>i64</td><td>i64</td><td>f64</td><td>date</td><td>date</td><td>str</td><td>str</td><td>f64</td><td>f64</td><td>f64</td><td>f64</td><td>f64</td><td>f64</td><td>str</td><td>str</td><td>i64</td><td>i64</td></tr></thead><tbody><tr><td>&quot;0001b3b2f18c01c62ed9b2a87de7b4…</td><td>2017-05-31 01:00:00 UTC</td><td>2022-06-05 00:00:00 UTC</td><td>1831.0</td><td>5.013005</td><td>43944</td><td>43863</td><td>81</td><td>0.184326</td><td>2021-06-01</td><td>null</td><td>&quot;2.0TD&quot;</td><td>&quot;&quot;</td><td>3.45</td><td>3.45</td><td>null</td><td>null</td><td>null</td><td>null</td><td>&quot;Bizkaia&quot;</td><td>null</td><td>null</td><td>9820</td></tr><tr><td>&quot;0004150214d14a2b2e6f7075531e66…</td><td>2018-07-12 01:00:00 UTC</td><td>2022-06-05 00:00:00 UTC</td><td>1424.0</td><td>3.8987</td><td>34176</td><td>34169</td><td>7</td><td>0.020482</td><td>2021-06-01</td><td>null</td><td>&quot;2.0TD&quot;</td><td>&quot;&quot;</td><td>9.2</td><td>9.2</td><td>null</td><td>null</td><td>null</td><td>null</td><td>&quot;Gipuzkoa&quot;</td><td>&quot;Irun&quot;</td><td>20304</td><td>4759</td></tr><tr><td>&quot;000721f0fc6ccf02ae24b673939795…</td><td>2017-05-30 01:00:00 UTC</td><td>2022-06-04 00:00:00 UTC</td><td>1831.0</td><td>5.013005</td><td>43944</td><td>43815</td><td>129</td><td>0.293555</td><td>2021-06-01</td><td>null</td><td>&quot;2.0TD&quot;</td><td>&quot;&quot;</td><td>4.4</td><td>4.4</td><td>null</td><td>null</td><td>null</td><td>null</td><td>&quot;Bizkaia&quot;</td><td>null</td><td>null</td><td>9820</td></tr><tr><td>&quot;0009b156f2a1213a137c150f478715…</td><td>2017-12-11 01:00:00 UTC</td><td>2022-06-04 00:00:00 UTC</td><td>1636.0</td><td>4.479124</td><td>39264</td><td>39255</td><td>9</td><td>0.022922</td><td>2021-06-01</td><td>null</td><td>&quot;2.0TD&quot;</td><td>&quot;&quot;</td><td>3.45</td><td>3.45</td><td>null</td><td>null</td><td>null</td><td>null</td><td>&quot;Gipuzkoa&quot;</td><td>null</td><td>null</td><td>9820</td></tr><tr><td>&quot;000bf84faacf921b55bd4ec4aecda5…</td><td>2019-03-07 01:00:00 UTC</td><td>2022-06-05 00:00:00 UTC</td><td>1186.0</td><td>3.247091</td><td>28464</td><td>28457</td><td>7</td><td>0.024592</td><td>2021-06-01</td><td>null</td><td>&quot;2.0TD&quot;</td><td>&quot;&quot;</td><td>9.2</td><td>9.2</td><td>null</td><td>null</td><td>null</td><td>null</td><td>&quot;Gipuzkoa&quot;</td><td>&quot;Donostia/San Sebastian&quot;</td><td>20003</td><td>9820</td></tr></tbody></table></div>"
      ]
     },
     "execution_count": 5,
     "metadata": {},
     "output_type": "execute_result"
    }
   ],
   "execution_count": 5
  },
  {
   "metadata": {
    "ExecuteTime": {
     "end_time": "2025-05-20T15:06:06.011914Z",
     "start_time": "2025-05-20T15:06:06.005509Z"
    }
   },
   "cell_type": "code",
   "source": "metadata_pst_house_2_users = metadata_pst_house_2['user'].unique().to_list()",
   "id": "e7217b14bea1eac4",
   "outputs": [],
   "execution_count": 6
  },
  {
   "metadata": {
    "ExecuteTime": {
     "end_time": "2025-05-20T15:06:08.481087Z",
     "start_time": "2025-05-20T15:06:08.478857Z"
    }
   },
   "cell_type": "code",
   "source": "print(f\"Post-COVID household users={len(metadata_pst_house_2_users)}\")",
   "id": "1057b8a4c8544e7",
   "outputs": [
    {
     "name": "stdout",
     "output_type": "stream",
     "text": [
      "Post-COVID household users=17655\n"
     ]
    }
   ],
   "execution_count": 7
  },
  {
   "metadata": {},
   "cell_type": "markdown",
   "source": "# Combine CSV",
   "id": "f446a76984c851de"
  },
  {
   "metadata": {
    "ExecuteTime": {
     "end_time": "2025-05-20T12:00:52.786366Z",
     "start_time": "2025-05-20T12:00:52.631488Z"
    }
   },
   "cell_type": "code",
   "source": [
    "source_folder = 'dataset/goi4_pst/imp_csv'\n",
    "csv_files = glob.glob(f\"{source_folder}/*.csv\")"
   ],
   "id": "227c75f34183155c",
   "outputs": [],
   "execution_count": 32
  },
  {
   "metadata": {
    "ExecuteTime": {
     "end_time": "2025-05-20T12:08:20.707053Z",
     "start_time": "2025-05-20T12:08:20.704093Z"
    }
   },
   "cell_type": "code",
   "source": [
    "def combine(mask: list[str], csv_files: list[str], filename:str='dataset/goi4_pst/household_activities_all.csv') -> pl.DataFrame:\n",
    "    \"\"\"\n",
    "    Combine multiple CSV files into a single DataFrame, filtering by household profiles.\n",
    "    \"\"\"\n",
    "    dataframes = pl.DataFrame()\n",
    "    for csv_file in tqdm(csv_files):\n",
    "        profile_id = csv_file.split('/')[-1].split('.')[0]\n",
    "        if profile_id not in mask:\n",
    "            continue\n",
    "\n",
    "        df = pl.read_csv(csv_file, try_parse_dates=True, schema_overrides={'kWh':pl.Float64})\n",
    "        df = df.with_columns(pl.lit(profile_id).alias('profile_id'))\n",
    "        if not dataframes.columns:\n",
    "            dataframes = df.clone()\n",
    "            continue\n",
    "        dataframes.extend(df)\n",
    "    if filename:\n",
    "        dataframes.write_csv(filename)\n",
    "\n",
    "    return dataframes"
   ],
   "id": "c830c1058737ce4a",
   "outputs": [],
   "execution_count": 44
  },
  {
   "metadata": {
    "ExecuteTime": {
     "end_time": "2025-05-20T12:09:50.898259Z",
     "start_time": "2025-05-20T12:08:21.177160Z"
    }
   },
   "cell_type": "code",
   "source": "combine(metadata_pst_house_2_users, csv_files)",
   "id": "80cf92f0a144123a",
   "outputs": [
    {
     "name": "stderr",
     "output_type": "stream",
     "text": [
      "100%|██████████| 17519/17519 [00:33<00:00, 515.64it/s]\n"
     ]
    },
    {
     "data": {
      "text/plain": [
       "shape: (105_344_000, 4)\n",
       "┌─────────────────────┬───────┬─────────┬─────────────────────────────────┐\n",
       "│ timestamp           ┆ kWh   ┆ imputed ┆ profile_id                      │\n",
       "│ ---                 ┆ ---   ┆ ---     ┆ ---                             │\n",
       "│ datetime[μs]        ┆ f64   ┆ i64     ┆ str                             │\n",
       "╞═════════════════════╪═══════╪═════════╪═════════════════════════════════╡\n",
       "│ 2021-05-31 00:00:00 ┆ 0.133 ┆ 0       ┆ e09da31b7a07f3f97c51c78dea39f9… │\n",
       "│ 2021-05-31 01:00:00 ┆ 0.125 ┆ 0       ┆ e09da31b7a07f3f97c51c78dea39f9… │\n",
       "│ 2021-05-31 02:00:00 ┆ 0.184 ┆ 0       ┆ e09da31b7a07f3f97c51c78dea39f9… │\n",
       "│ 2021-05-31 03:00:00 ┆ 0.137 ┆ 0       ┆ e09da31b7a07f3f97c51c78dea39f9… │\n",
       "│ 2021-05-31 04:00:00 ┆ 0.111 ┆ 0       ┆ e09da31b7a07f3f97c51c78dea39f9… │\n",
       "│ …                   ┆ …     ┆ …       ┆ …                               │\n",
       "│ 2022-06-04 20:00:00 ┆ 0.057 ┆ 0       ┆ 5793ddb25829ba3db566b882d7cf11… │\n",
       "│ 2022-06-04 21:00:00 ┆ 0.046 ┆ 0       ┆ 5793ddb25829ba3db566b882d7cf11… │\n",
       "│ 2022-06-04 22:00:00 ┆ 0.049 ┆ 0       ┆ 5793ddb25829ba3db566b882d7cf11… │\n",
       "│ 2022-06-04 23:00:00 ┆ 0.045 ┆ 0       ┆ 5793ddb25829ba3db566b882d7cf11… │\n",
       "│ 2022-06-05 00:00:00 ┆ 0.123 ┆ 0       ┆ 5793ddb25829ba3db566b882d7cf11… │\n",
       "└─────────────────────┴───────┴─────────┴─────────────────────────────────┘"
      ],
      "text/html": [
       "<div><style>\n",
       ".dataframe > thead > tr,\n",
       ".dataframe > tbody > tr {\n",
       "  text-align: right;\n",
       "  white-space: pre-wrap;\n",
       "}\n",
       "</style>\n",
       "<small>shape: (105_344_000, 4)</small><table border=\"1\" class=\"dataframe\"><thead><tr><th>timestamp</th><th>kWh</th><th>imputed</th><th>profile_id</th></tr><tr><td>datetime[μs]</td><td>f64</td><td>i64</td><td>str</td></tr></thead><tbody><tr><td>2021-05-31 00:00:00</td><td>0.133</td><td>0</td><td>&quot;e09da31b7a07f3f97c51c78dea39f9…</td></tr><tr><td>2021-05-31 01:00:00</td><td>0.125</td><td>0</td><td>&quot;e09da31b7a07f3f97c51c78dea39f9…</td></tr><tr><td>2021-05-31 02:00:00</td><td>0.184</td><td>0</td><td>&quot;e09da31b7a07f3f97c51c78dea39f9…</td></tr><tr><td>2021-05-31 03:00:00</td><td>0.137</td><td>0</td><td>&quot;e09da31b7a07f3f97c51c78dea39f9…</td></tr><tr><td>2021-05-31 04:00:00</td><td>0.111</td><td>0</td><td>&quot;e09da31b7a07f3f97c51c78dea39f9…</td></tr><tr><td>&hellip;</td><td>&hellip;</td><td>&hellip;</td><td>&hellip;</td></tr><tr><td>2022-06-04 20:00:00</td><td>0.057</td><td>0</td><td>&quot;5793ddb25829ba3db566b882d7cf11…</td></tr><tr><td>2022-06-04 21:00:00</td><td>0.046</td><td>0</td><td>&quot;5793ddb25829ba3db566b882d7cf11…</td></tr><tr><td>2022-06-04 22:00:00</td><td>0.049</td><td>0</td><td>&quot;5793ddb25829ba3db566b882d7cf11…</td></tr><tr><td>2022-06-04 23:00:00</td><td>0.045</td><td>0</td><td>&quot;5793ddb25829ba3db566b882d7cf11…</td></tr><tr><td>2022-06-05 00:00:00</td><td>0.123</td><td>0</td><td>&quot;5793ddb25829ba3db566b882d7cf11…</td></tr></tbody></table></div>"
      ]
     },
     "execution_count": 45,
     "metadata": {},
     "output_type": "execute_result"
    }
   ],
   "execution_count": 45
  },
  {
   "metadata": {},
   "cell_type": "code",
   "outputs": [],
   "execution_count": null,
   "source": "",
   "id": "af322e7ece5f4d13"
  },
  {
   "metadata": {
    "ExecuteTime": {
     "end_time": "2025-05-20T12:14:37.347198Z",
     "start_time": "2025-05-20T12:13:47.065936Z"
    }
   },
   "cell_type": "code",
   "source": [
    "df_activities = pl.read_csv(\"dataset/goi4_pst/household_activities_all.csv\")\n",
    "df_activities.head()"
   ],
   "id": "ffab971f20a2aa45",
   "outputs": [
    {
     "data": {
      "text/plain": [
       "shape: (5, 4)\n",
       "┌────────────────────────────┬───────┬─────────┬─────────────────────────────────┐\n",
       "│ timestamp                  ┆ kWh   ┆ imputed ┆ profile_id                      │\n",
       "│ ---                        ┆ ---   ┆ ---     ┆ ---                             │\n",
       "│ str                        ┆ f64   ┆ i64     ┆ str                             │\n",
       "╞════════════════════════════╪═══════╪═════════╪═════════════════════════════════╡\n",
       "│ 2021-05-31T00:00:00.000000 ┆ 0.133 ┆ 0       ┆ e09da31b7a07f3f97c51c78dea39f9… │\n",
       "│ 2021-05-31T01:00:00.000000 ┆ 0.125 ┆ 0       ┆ e09da31b7a07f3f97c51c78dea39f9… │\n",
       "│ 2021-05-31T02:00:00.000000 ┆ 0.184 ┆ 0       ┆ e09da31b7a07f3f97c51c78dea39f9… │\n",
       "│ 2021-05-31T03:00:00.000000 ┆ 0.137 ┆ 0       ┆ e09da31b7a07f3f97c51c78dea39f9… │\n",
       "│ 2021-05-31T04:00:00.000000 ┆ 0.111 ┆ 0       ┆ e09da31b7a07f3f97c51c78dea39f9… │\n",
       "└────────────────────────────┴───────┴─────────┴─────────────────────────────────┘"
      ],
      "text/html": [
       "<div><style>\n",
       ".dataframe > thead > tr,\n",
       ".dataframe > tbody > tr {\n",
       "  text-align: right;\n",
       "  white-space: pre-wrap;\n",
       "}\n",
       "</style>\n",
       "<small>shape: (5, 4)</small><table border=\"1\" class=\"dataframe\"><thead><tr><th>timestamp</th><th>kWh</th><th>imputed</th><th>profile_id</th></tr><tr><td>str</td><td>f64</td><td>i64</td><td>str</td></tr></thead><tbody><tr><td>&quot;2021-05-31T00:00:00.000000&quot;</td><td>0.133</td><td>0</td><td>&quot;e09da31b7a07f3f97c51c78dea39f9…</td></tr><tr><td>&quot;2021-05-31T01:00:00.000000&quot;</td><td>0.125</td><td>0</td><td>&quot;e09da31b7a07f3f97c51c78dea39f9…</td></tr><tr><td>&quot;2021-05-31T02:00:00.000000&quot;</td><td>0.184</td><td>0</td><td>&quot;e09da31b7a07f3f97c51c78dea39f9…</td></tr><tr><td>&quot;2021-05-31T03:00:00.000000&quot;</td><td>0.137</td><td>0</td><td>&quot;e09da31b7a07f3f97c51c78dea39f9…</td></tr><tr><td>&quot;2021-05-31T04:00:00.000000&quot;</td><td>0.111</td><td>0</td><td>&quot;e09da31b7a07f3f97c51c78dea39f9…</td></tr></tbody></table></div>"
      ]
     },
     "execution_count": 46,
     "metadata": {},
     "output_type": "execute_result"
    }
   ],
   "execution_count": 46
  },
  {
   "metadata": {
    "ExecuteTime": {
     "end_time": "2025-05-20T12:56:32.279265Z",
     "start_time": "2025-05-20T12:56:32.161859Z"
    }
   },
   "cell_type": "code",
   "source": "df_activities['profile_id'].unique()",
   "id": "9fcb53040f239198",
   "outputs": [
    {
     "ename": "NameError",
     "evalue": "name 'df_activities' is not defined",
     "output_type": "error",
     "traceback": [
      "\u001B[31m---------------------------------------------------------------------------\u001B[39m",
      "\u001B[31mNameError\u001B[39m                                 Traceback (most recent call last)",
      "\u001B[36mCell\u001B[39m\u001B[36m \u001B[39m\u001B[32mIn[1]\u001B[39m\u001B[32m, line 1\u001B[39m\n\u001B[32m----> \u001B[39m\u001B[32m1\u001B[39m \u001B[43mdf_activities\u001B[49m[\u001B[33m'\u001B[39m\u001B[33mprofile_id\u001B[39m\u001B[33m'\u001B[39m].unique()\n",
      "\u001B[31mNameError\u001B[39m: name 'df_activities' is not defined"
     ]
    }
   ],
   "execution_count": 1
  }
 ],
 "metadata": {
  "kernelspec": {
   "display_name": "Python 3",
   "language": "python",
   "name": "python3"
  },
  "language_info": {
   "codemirror_mode": {
    "name": "ipython",
    "version": 2
   },
   "file_extension": ".py",
   "mimetype": "text/x-python",
   "name": "python",
   "nbconvert_exporter": "python",
   "pygments_lexer": "ipython2",
   "version": "2.7.6"
  }
 },
 "nbformat": 4,
 "nbformat_minor": 5
}
