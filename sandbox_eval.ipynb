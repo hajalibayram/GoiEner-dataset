{
 "cells": [
  {
   "metadata": {
    "ExecuteTime": {
     "end_time": "2025-05-22T12:25:42.556212Z",
     "start_time": "2025-05-22T12:25:41.860430Z"
    }
   },
   "cell_type": "code",
   "source": [
    "from datetime import datetime\n",
    "import polars as pl\n",
    "import glob\n",
    "from tqdm import tqdm"
   ],
   "id": "a5063119ced563b6",
   "outputs": [],
   "execution_count": 1
  },
  {
   "metadata": {
    "ExecuteTime": {
     "end_time": "2025-05-22T12:25:42.597915Z",
     "start_time": "2025-05-22T12:25:42.566039Z"
    }
   },
   "cell_type": "code",
   "source": [
    "metadata = pl.read_csv('raw/metadata.csv', try_parse_dates=True)\n",
    "metadata"
   ],
   "id": "814e1639183a1d19",
   "outputs": [
    {
     "data": {
      "text/plain": [
       "shape: (25_559, 23)\n",
       "┌────────────┬────────────┬────────────┬────────────┬───┬────────────┬───────────┬──────────┬──────┐\n",
       "│ user       ┆ start_date ┆ end_date   ┆ length_day ┆ … ┆ province   ┆ municipal ┆ zip_code ┆ cnae │\n",
       "│ ---        ┆ ---        ┆ ---        ┆ s          ┆   ┆ ---        ┆ ity       ┆ ---      ┆ ---  │\n",
       "│ str        ┆ datetime[μ ┆ datetime[μ ┆ ---        ┆   ┆ str        ┆ ---       ┆ i64      ┆ i64  │\n",
       "│            ┆ s, UTC]    ┆ s, UTC]    ┆ f64        ┆   ┆            ┆ str       ┆          ┆      │\n",
       "╞════════════╪════════════╪════════════╪════════════╪═══╪════════════╪═══════════╪══════════╪══════╡\n",
       "│ 00000c5a44 ┆ 2022-05-30 ┆ 2022-06-05 ┆ 6.0        ┆ … ┆ Gipuzkoa   ┆ null      ┆ null     ┆ 9329 │\n",
       "│ 8d9faa097b ┆ 01:00:00   ┆ 00:00:00   ┆            ┆   ┆            ┆           ┆          ┆      │\n",
       "│ 761cc98036 ┆ UTC        ┆ UTC        ┆            ┆   ┆            ┆           ┆          ┆      │\n",
       "│ …          ┆            ┆            ┆            ┆   ┆            ┆           ┆          ┆      │\n",
       "│ 0001b3b2f1 ┆ 2017-05-31 ┆ 2022-06-05 ┆ 1831.0     ┆ … ┆ Bizkaia    ┆ null      ┆ null     ┆ 9820 │\n",
       "│ 8c01c62ed9 ┆ 01:00:00   ┆ 00:00:00   ┆            ┆   ┆            ┆           ┆          ┆      │\n",
       "│ b2a87de7b4 ┆ UTC        ┆ UTC        ┆            ┆   ┆            ┆           ┆          ┆      │\n",
       "│ …          ┆            ┆            ┆            ┆   ┆            ┆           ┆          ┆      │\n",
       "│ 0003de2700 ┆ 2017-05-31 ┆ 2019-11-14 ┆ 897.0      ┆ … ┆ Gipuzkoa   ┆ Donostia/ ┆ 20013    ┆ 9820 │\n",
       "│ e20a1681d6 ┆ 01:00:00   ┆ 00:00:00   ┆            ┆   ┆            ┆ San       ┆          ┆      │\n",
       "│ 9fe287441d ┆ UTC        ┆ UTC        ┆            ┆   ┆            ┆ Sebastian ┆          ┆      │\n",
       "│ …          ┆            ┆            ┆            ┆   ┆            ┆           ┆          ┆      │\n",
       "│ 0004150214 ┆ 2018-07-12 ┆ 2022-06-05 ┆ 1424.0     ┆ … ┆ Gipuzkoa   ┆ Irun      ┆ 20304    ┆ 4759 │\n",
       "│ d14a2b2e6f ┆ 01:00:00   ┆ 00:00:00   ┆            ┆   ┆            ┆           ┆          ┆      │\n",
       "│ 7075531e66 ┆ UTC        ┆ UTC        ┆            ┆   ┆            ┆           ┆          ┆      │\n",
       "│ …          ┆            ┆            ┆            ┆   ┆            ┆           ┆          ┆      │\n",
       "│ 000721f0fc ┆ 2017-05-30 ┆ 2022-06-04 ┆ 1831.0     ┆ … ┆ Bizkaia    ┆ null      ┆ null     ┆ 9820 │\n",
       "│ 6ccf02ae24 ┆ 01:00:00   ┆ 00:00:00   ┆            ┆   ┆            ┆           ┆          ┆      │\n",
       "│ b673939795 ┆ UTC        ┆ UTC        ┆            ┆   ┆            ┆           ┆          ┆      │\n",
       "│ …          ┆            ┆            ┆            ┆   ┆            ┆           ┆          ┆      │\n",
       "│ …          ┆ …          ┆ …          ┆ …          ┆ … ┆ …          ┆ …         ┆ …        ┆ …    │\n",
       "│ ffeddf4919 ┆ 2018-10-02 ┆ 2021-11-03 ┆ 1128.0     ┆ … ┆ Soria      ┆ null      ┆ null     ┆ 9820 │\n",
       "│ e748beb50a ┆ 01:00:00   ┆ 00:00:00   ┆            ┆   ┆            ┆           ┆          ┆      │\n",
       "│ f7c6b73def ┆ UTC        ┆ UTC        ┆            ┆   ┆            ┆           ┆          ┆      │\n",
       "│ …          ┆            ┆            ┆            ┆   ┆            ┆           ┆          ┆      │\n",
       "│ ffefb9e277 ┆ 2021-07-06 ┆ 2022-06-05 ┆ 334.0      ┆ … ┆ Bizkaia    ┆ Bilbao    ┆ 48012    ┆ 9820 │\n",
       "│ 15b1c3fa50 ┆ 01:00:00   ┆ 00:00:00   ┆            ┆   ┆            ┆           ┆          ┆      │\n",
       "│ 07c457de55 ┆ UTC        ┆ UTC        ┆            ┆   ┆            ┆           ┆          ┆      │\n",
       "│ …          ┆            ┆            ┆            ┆   ┆            ┆           ┆          ┆      │\n",
       "│ fff0adcd6c ┆ 2017-08-17 ┆ 2022-06-05 ┆ 1753.0     ┆ … ┆ Bizkaia    ┆ null      ┆ null     ┆ 9820 │\n",
       "│ db7434496a ┆ 01:00:00   ┆ 00:00:00   ┆            ┆   ┆            ┆           ┆          ┆      │\n",
       "│ 5222f03337 ┆ UTC        ┆ UTC        ┆            ┆   ┆            ┆           ┆          ┆      │\n",
       "│ …          ┆            ┆            ┆            ┆   ┆            ┆           ┆          ┆      │\n",
       "│ fff282fcaa ┆ 2021-11-08 ┆ 2022-06-03 ┆ 207.0      ┆ … ┆ Alicante/A ┆ null      ┆ null     ┆ 9820 │\n",
       "│ 968a999b29 ┆ 01:00:00   ┆ 00:00:00   ┆            ┆   ┆ lacant     ┆           ┆          ┆      │\n",
       "│ 01731ed2ec ┆ UTC        ┆ UTC        ┆            ┆   ┆            ┆           ┆          ┆      │\n",
       "│ …          ┆            ┆            ┆            ┆   ┆            ┆           ┆          ┆      │\n",
       "│ fff3e258f1 ┆ 2021-09-17 ┆ 2022-06-05 ┆ 261.0      ┆ … ┆ Gipuzkoa   ┆ Donostia/ ┆ 20011    ┆ 9820 │\n",
       "│ cb36595561 ┆ 01:00:00   ┆ 00:00:00   ┆            ┆   ┆            ┆ San       ┆          ┆      │\n",
       "│ 63542d204d ┆ UTC        ┆ UTC        ┆            ┆   ┆            ┆ Sebastian ┆          ┆      │\n",
       "│ …          ┆            ┆            ┆            ┆   ┆            ┆           ┆          ┆      │\n",
       "└────────────┴────────────┴────────────┴────────────┴───┴────────────┴───────────┴──────────┴──────┘"
      ],
      "text/html": [
       "<div><style>\n",
       ".dataframe > thead > tr,\n",
       ".dataframe > tbody > tr {\n",
       "  text-align: right;\n",
       "  white-space: pre-wrap;\n",
       "}\n",
       "</style>\n",
       "<small>shape: (25_559, 23)</small><table border=\"1\" class=\"dataframe\"><thead><tr><th>user</th><th>start_date</th><th>end_date</th><th>length_days</th><th>length_years</th><th>potential_samples</th><th>actual_samples</th><th>missing_samples_abs</th><th>missing_samples_pct</th><th>contract_start_date</th><th>contract_end_date</th><th>contracted_tariff</th><th>self_consumption_type</th><th>p1</th><th>p2</th><th>p3</th><th>p4</th><th>p5</th><th>p6</th><th>province</th><th>municipality</th><th>zip_code</th><th>cnae</th></tr><tr><td>str</td><td>datetime[μs, UTC]</td><td>datetime[μs, UTC]</td><td>f64</td><td>f64</td><td>i64</td><td>i64</td><td>i64</td><td>f64</td><td>date</td><td>date</td><td>str</td><td>str</td><td>f64</td><td>f64</td><td>f64</td><td>f64</td><td>f64</td><td>f64</td><td>str</td><td>str</td><td>i64</td><td>i64</td></tr></thead><tbody><tr><td>&quot;00000c5a448d9faa097b761cc98036…</td><td>2022-05-30 01:00:00 UTC</td><td>2022-06-05 00:00:00 UTC</td><td>6.0</td><td>0.016427</td><td>144</td><td>144</td><td>0</td><td>0.0</td><td>2022-05-31</td><td>null</td><td>&quot;2.0TD&quot;</td><td>&quot;&quot;</td><td>2.2</td><td>2.2</td><td>0.0</td><td>0.0</td><td>0.0</td><td>0.0</td><td>&quot;Gipuzkoa&quot;</td><td>null</td><td>null</td><td>9329</td></tr><tr><td>&quot;0001b3b2f18c01c62ed9b2a87de7b4…</td><td>2017-05-31 01:00:00 UTC</td><td>2022-06-05 00:00:00 UTC</td><td>1831.0</td><td>5.013005</td><td>43944</td><td>43863</td><td>81</td><td>0.184326</td><td>2021-06-01</td><td>null</td><td>&quot;2.0TD&quot;</td><td>&quot;&quot;</td><td>3.45</td><td>3.45</td><td>null</td><td>null</td><td>null</td><td>null</td><td>&quot;Bizkaia&quot;</td><td>null</td><td>null</td><td>9820</td></tr><tr><td>&quot;0003de2700e20a1681d69fe287441d…</td><td>2017-05-31 01:00:00 UTC</td><td>2019-11-14 00:00:00 UTC</td><td>897.0</td><td>2.455852</td><td>21528</td><td>21476</td><td>52</td><td>0.241546</td><td>2019-09-02</td><td>2019-11-13</td><td>&quot;2.0A&quot;</td><td>&quot;&quot;</td><td>4.6</td><td>null</td><td>null</td><td>null</td><td>null</td><td>null</td><td>&quot;Gipuzkoa&quot;</td><td>&quot;Donostia/San Sebastian&quot;</td><td>20013</td><td>9820</td></tr><tr><td>&quot;0004150214d14a2b2e6f7075531e66…</td><td>2018-07-12 01:00:00 UTC</td><td>2022-06-05 00:00:00 UTC</td><td>1424.0</td><td>3.8987</td><td>34176</td><td>34169</td><td>7</td><td>0.020482</td><td>2021-06-01</td><td>null</td><td>&quot;2.0TD&quot;</td><td>&quot;&quot;</td><td>9.2</td><td>9.2</td><td>null</td><td>null</td><td>null</td><td>null</td><td>&quot;Gipuzkoa&quot;</td><td>&quot;Irun&quot;</td><td>20304</td><td>4759</td></tr><tr><td>&quot;000721f0fc6ccf02ae24b673939795…</td><td>2017-05-30 01:00:00 UTC</td><td>2022-06-04 00:00:00 UTC</td><td>1831.0</td><td>5.013005</td><td>43944</td><td>43815</td><td>129</td><td>0.293555</td><td>2021-06-01</td><td>null</td><td>&quot;2.0TD&quot;</td><td>&quot;&quot;</td><td>4.4</td><td>4.4</td><td>null</td><td>null</td><td>null</td><td>null</td><td>&quot;Bizkaia&quot;</td><td>null</td><td>null</td><td>9820</td></tr><tr><td>&hellip;</td><td>&hellip;</td><td>&hellip;</td><td>&hellip;</td><td>&hellip;</td><td>&hellip;</td><td>&hellip;</td><td>&hellip;</td><td>&hellip;</td><td>&hellip;</td><td>&hellip;</td><td>&hellip;</td><td>&hellip;</td><td>&hellip;</td><td>&hellip;</td><td>&hellip;</td><td>&hellip;</td><td>&hellip;</td><td>&hellip;</td><td>&hellip;</td><td>&hellip;</td><td>&hellip;</td><td>&hellip;</td></tr><tr><td>&quot;ffeddf4919e748beb50af7c6b73def…</td><td>2018-10-02 01:00:00 UTC</td><td>2021-11-03 00:00:00 UTC</td><td>1128.0</td><td>3.088296</td><td>27072</td><td>27069</td><td>3</td><td>0.011082</td><td>2021-06-01</td><td>null</td><td>&quot;2.0TD&quot;</td><td>&quot;&quot;</td><td>6.0</td><td>6.0</td><td>null</td><td>null</td><td>null</td><td>null</td><td>&quot;Soria&quot;</td><td>null</td><td>null</td><td>9820</td></tr><tr><td>&quot;ffefb9e27715b1c3fa5007c457de55…</td><td>2021-07-06 01:00:00 UTC</td><td>2022-06-05 00:00:00 UTC</td><td>334.0</td><td>0.914442</td><td>8016</td><td>8014</td><td>2</td><td>0.02495</td><td>2021-07-07</td><td>null</td><td>&quot;2.0TD&quot;</td><td>&quot;&quot;</td><td>3.45</td><td>3.45</td><td>0.0</td><td>0.0</td><td>0.0</td><td>0.0</td><td>&quot;Bizkaia&quot;</td><td>&quot;Bilbao&quot;</td><td>48012</td><td>9820</td></tr><tr><td>&quot;fff0adcd6cdb7434496a5222f03337…</td><td>2017-08-17 01:00:00 UTC</td><td>2022-06-05 00:00:00 UTC</td><td>1753.0</td><td>4.799452</td><td>42072</td><td>41102</td><td>970</td><td>2.305571</td><td>2021-06-01</td><td>null</td><td>&quot;2.0TD&quot;</td><td>&quot;&quot;</td><td>4.6</td><td>4.6</td><td>null</td><td>null</td><td>null</td><td>null</td><td>&quot;Bizkaia&quot;</td><td>null</td><td>null</td><td>9820</td></tr><tr><td>&quot;fff282fcaa968a999b2901731ed2ec…</td><td>2021-11-08 01:00:00 UTC</td><td>2022-06-03 00:00:00 UTC</td><td>207.0</td><td>0.566735</td><td>4968</td><td>4967</td><td>1</td><td>0.020129</td><td>2022-02-10</td><td>null</td><td>&quot;2.0TD&quot;</td><td>&quot;&quot;</td><td>3.3</td><td>3.3</td><td>null</td><td>null</td><td>null</td><td>null</td><td>&quot;Alicante/Alacant&quot;</td><td>null</td><td>null</td><td>9820</td></tr><tr><td>&quot;fff3e258f1cb3659556163542d204d…</td><td>2021-09-17 01:00:00 UTC</td><td>2022-06-05 00:00:00 UTC</td><td>261.0</td><td>0.714579</td><td>6264</td><td>6262</td><td>2</td><td>0.031928</td><td>2021-09-18</td><td>null</td><td>&quot;2.0TD&quot;</td><td>&quot;&quot;</td><td>4.6</td><td>4.6</td><td>0.0</td><td>0.0</td><td>0.0</td><td>0.0</td><td>&quot;Gipuzkoa&quot;</td><td>&quot;Donostia/San Sebastian&quot;</td><td>20011</td><td>9820</td></tr></tbody></table></div>"
      ]
     },
     "execution_count": 2,
     "metadata": {},
     "output_type": "execute_result"
    }
   ],
   "execution_count": 2
  },
  {
   "metadata": {
    "ExecuteTime": {
     "end_time": "2025-05-22T12:31:07.099831Z",
     "start_time": "2025-05-22T12:31:07.095746Z"
    }
   },
   "cell_type": "code",
   "source": "import pandas as pd",
   "id": "cf6290dc34380a8e",
   "outputs": [],
   "execution_count": 5
  },
  {
   "metadata": {
    "ExecuteTime": {
     "end_time": "2025-05-22T14:00:06.015944Z",
     "start_time": "2025-05-22T14:00:06.007784Z"
    }
   },
   "cell_type": "code",
   "source": [
    "# Convert dates to timezone-aware datetime objects (UTC)\n",
    "# metadata['start_date'] = pl.(metadata['start_date'], utc=True)\n",
    "# metadata['end_date'] = pd.to_datetime(metadata['end_date'], utc=True)\n",
    "candidate_periods = [\n",
    "    [2016, 1, 1, 2019, 12, 31],\n",
    "    [2016, 7, 1, 2019, 6, 30],\n",
    "    [2017, 1, 1, 2019, 12, 31],\n",
    "    [2017, 3, 1, 2020, 2, 29],\n",
    "    [2017, 5, 1, 2020, 4, 30],\n",
    "    [2017, 5, 15, 2020, 5, 16],\n",
    "    [2017, 5, 25, 2020, 5, 26],\n",
    "    [2017, 6, 1, 2020, 5, 31],\n",
    "    [2017, 7, 1, 2020, 6, 30],\n",
    "]\n",
    "\n",
    "# candidate_periods = [\n",
    "#     (\"2016-01-01 00:00:00+00:00\", \"2019-12-31 23:59:59+00:00\"),\n",
    "#     (\"2016-07-01 00:00:00+00:00\", \"2019-06-30 23:59:59+00:00\"),\n",
    "#     (\"2017-01-01 00:00:00+00:00\", \"2019-12-31 23:59:59+00:00\"),\n",
    "#     (\"2017-03-01 00:00:00+00:00\", \"2020-02-29 23:59:59+00:00\"),\n",
    "#     (\"2017-05-01 00:00:00+00:00\", \"2020-04-30 23:59:59+00:00\"),\n",
    "#     (\"2017-06-01 00:00:00+00:00\", \"2020-05-31 23:59:59+00:00\"),\n",
    "#     (\"2017-07-01 00:00:00+00:00\", \"2020-06-30 23:59:59+00:00\"),\n",
    "# ]"
   ],
   "id": "75b717fd84b60677",
   "outputs": [],
   "execution_count": 106
  },
  {
   "metadata": {
    "ExecuteTime": {
     "end_time": "2025-05-22T14:00:06.798075Z",
     "start_time": "2025-05-22T14:00:06.795397Z"
    }
   },
   "cell_type": "code",
   "source": [
    "# # Create DataFrame\n",
    "# df_candidates = pl.DataFrame({\n",
    "#     \"start_datetime\": [s for s, e in candidate_periods],\n",
    "#     \"end_datetime\": [e for s, e in candidate_periods]\n",
    "# })\n",
    "#\n",
    "# # Convert to datetime\n",
    "# df_candidates = df_candidates.with_columns([\n",
    "#     pl.col(\"start_datetime\").str.strptime(pl.Datetime, format=\"%Y-%m-%d %H:%M:%S%z\"),\n",
    "#     pl.col(\"end_datetime\").str.strptime(pl.Datetime, format=\"%Y-%m-%d %H:%M:%S%z\"),\n",
    "# ])\n",
    "#\n",
    "# print(df_candidates)"
   ],
   "id": "9526981feb2ed11b",
   "outputs": [],
   "execution_count": 107
  },
  {
   "metadata": {
    "ExecuteTime": {
     "end_time": "2025-05-22T14:02:56.744653Z",
     "start_time": "2025-05-22T14:02:56.736743Z"
    }
   },
   "cell_type": "code",
   "source": [
    "def calculate_total_hours(start_date, end_date):\n",
    "    diff = end_date - start_date\n",
    "    total_hours = diff.dt.total_days()\n",
    "    return total_hours\n",
    "\n",
    "# Function to evaluate coverage with fixed timezone handling\n",
    "def evaluate_coverage(metadata_:pl.DataFrame, start_end, coverage_threshold=0.9):\n",
    "    start, end = (pl.datetime(start_end[0],start_end[1],start_end[2], time_zone='UTC'),\n",
    "                  pl.datetime(start_end[3],start_end[4],start_end[5], time_zone='UTC'))\n",
    "\n",
    "    qualified_users = metadata_.filter(\n",
    "        pl.col(\"start_date\") <= start,\n",
    "        pl.col(\"end_date\") >= end)\n",
    "\n",
    "    # n_qualified_users = qualified_users['']\n",
    "    print(f\"Qualified users {qualified_users['user'].unique().len()}\")\n",
    "    # print(qualified_users['user'].unique()[:10])\n",
    "    return qualified_users\n",
    "    # qualified_users.with_columns(total_hours.alias('expected_samples'))\n",
    "    # qualified_users.with_columns((qualified_users['actual_samples'] / qualified_users['expected_samples']).alias('coverage'))\n",
    "    # # qualified_users['coverage'] = qualified_users['actual_samples'] / qualified_users['expected_samples']\n",
    "    # users_meeting_coverage = qualified_users[qualified_users['coverage'] >= coverage_threshold]\n",
    "\n",
    "    # return len(users_meeting_coverage)"
   ],
   "id": "a7f95f49003c788f",
   "outputs": [],
   "execution_count": 116
  },
  {
   "metadata": {},
   "cell_type": "code",
   "source": [
    "# Re-evaluate each candidate period with corrected timezone\n",
    "coverage_results = []\n",
    "for start_end in candidate_periods:\n",
    "    num_users = evaluate_coverage(metadata, start_end)\n",
    "    # coverage_results.append({'qualified_users': num_users})\n",
    "    # coverage_results.append(num_users)\n",
    "# Convert results to DataFrame for clear comparison\n",
    "# coverage_df = df_candidates.with_columns('qualified_users', coverage_results)"
   ],
   "id": "7ce5a2d8dd468b25",
   "outputs": [],
   "execution_count": null
  },
  {
   "metadata": {
    "ExecuteTime": {
     "end_time": "2025-05-22T14:51:24.028238Z",
     "start_time": "2025-05-22T14:51:23.958075Z"
    }
   },
   "cell_type": "code",
   "source": [
    "qualified_users = metadata.filter(\n",
    "    pl.col(\"start_date\") <= pl.datetime(2017, 6, 1, time_zone='UTC'),\n",
    "    pl.col(\"end_date\") >= pl.datetime(2020, 3, 1, time_zone='UTC'),\n",
    "    (pl.col('cnae') > 9699),\n",
    "    (pl.col('cnae') < 9849)\n",
    ")"
   ],
   "id": "77a51aba8461a258",
   "outputs": [],
   "execution_count": 128
  },
  {
   "metadata": {
    "ExecuteTime": {
     "end_time": "2025-05-22T14:10:26.720531Z",
     "start_time": "2025-05-22T14:10:26.716383Z"
    }
   },
   "cell_type": "code",
   "source": "qualified_users.head()[0]",
   "id": "e97ed1e4badc50f7",
   "outputs": [
    {
     "data": {
      "text/plain": [
       "shape: (1, 23)\n",
       "┌─────────────┬────────────┬────────────┬────────────┬───┬──────────┬────────────┬──────────┬──────┐\n",
       "│ user        ┆ start_date ┆ end_date   ┆ length_day ┆ … ┆ province ┆ municipali ┆ zip_code ┆ cnae │\n",
       "│ ---         ┆ ---        ┆ ---        ┆ s          ┆   ┆ ---      ┆ ty         ┆ ---      ┆ ---  │\n",
       "│ str         ┆ datetime[μ ┆ datetime[μ ┆ ---        ┆   ┆ str      ┆ ---        ┆ i64      ┆ i64  │\n",
       "│             ┆ s, UTC]    ┆ s, UTC]    ┆ f64        ┆   ┆          ┆ str        ┆          ┆      │\n",
       "╞═════════════╪════════════╪════════════╪════════════╪═══╪══════════╪════════════╪══════════╪══════╡\n",
       "│ 0001b3b2f18 ┆ 2017-05-31 ┆ 2022-06-05 ┆ 1831.0     ┆ … ┆ Bizkaia  ┆ null       ┆ null     ┆ 9820 │\n",
       "│ c01c62ed9b2 ┆ 01:00:00   ┆ 00:00:00   ┆            ┆   ┆          ┆            ┆          ┆      │\n",
       "│ a87de7b4…   ┆ UTC        ┆ UTC        ┆            ┆   ┆          ┆            ┆          ┆      │\n",
       "└─────────────┴────────────┴────────────┴────────────┴───┴──────────┴────────────┴──────────┴──────┘"
      ],
      "text/html": [
       "<div><style>\n",
       ".dataframe > thead > tr,\n",
       ".dataframe > tbody > tr {\n",
       "  text-align: right;\n",
       "  white-space: pre-wrap;\n",
       "}\n",
       "</style>\n",
       "<small>shape: (1, 23)</small><table border=\"1\" class=\"dataframe\"><thead><tr><th>user</th><th>start_date</th><th>end_date</th><th>length_days</th><th>length_years</th><th>potential_samples</th><th>actual_samples</th><th>missing_samples_abs</th><th>missing_samples_pct</th><th>contract_start_date</th><th>contract_end_date</th><th>contracted_tariff</th><th>self_consumption_type</th><th>p1</th><th>p2</th><th>p3</th><th>p4</th><th>p5</th><th>p6</th><th>province</th><th>municipality</th><th>zip_code</th><th>cnae</th></tr><tr><td>str</td><td>datetime[μs, UTC]</td><td>datetime[μs, UTC]</td><td>f64</td><td>f64</td><td>i64</td><td>i64</td><td>i64</td><td>f64</td><td>date</td><td>date</td><td>str</td><td>str</td><td>f64</td><td>f64</td><td>f64</td><td>f64</td><td>f64</td><td>f64</td><td>str</td><td>str</td><td>i64</td><td>i64</td></tr></thead><tbody><tr><td>&quot;0001b3b2f18c01c62ed9b2a87de7b4…</td><td>2017-05-31 01:00:00 UTC</td><td>2022-06-05 00:00:00 UTC</td><td>1831.0</td><td>5.013005</td><td>43944</td><td>43863</td><td>81</td><td>0.184326</td><td>2021-06-01</td><td>null</td><td>&quot;2.0TD&quot;</td><td>&quot;&quot;</td><td>3.45</td><td>3.45</td><td>null</td><td>null</td><td>null</td><td>null</td><td>&quot;Bizkaia&quot;</td><td>null</td><td>null</td><td>9820</td></tr></tbody></table></div>"
      ]
     },
     "execution_count": 126,
     "metadata": {},
     "output_type": "execute_result"
    }
   ],
   "execution_count": 126
  },
  {
   "metadata": {
    "ExecuteTime": {
     "end_time": "2025-05-22T14:51:25.983122Z",
     "start_time": "2025-05-22T14:51:25.968434Z"
    }
   },
   "cell_type": "code",
   "source": "qualified_users['user'].unique().len()",
   "id": "cfa9527d56343d57",
   "outputs": [
    {
     "data": {
      "text/plain": [
       "4928"
      ]
     },
     "execution_count": 129,
     "metadata": {},
     "output_type": "execute_result"
    }
   ],
   "execution_count": 129
  },
  {
   "metadata": {},
   "cell_type": "code",
   "outputs": [],
   "execution_count": null,
   "source": "",
   "id": "c3abad3696217b49"
  }
 ],
 "metadata": {
  "kernelspec": {
   "display_name": "Python 3",
   "language": "python",
   "name": "python3"
  },
  "language_info": {
   "codemirror_mode": {
    "name": "ipython",
    "version": 2
   },
   "file_extension": ".py",
   "mimetype": "text/x-python",
   "name": "python",
   "nbconvert_exporter": "python",
   "pygments_lexer": "ipython2",
   "version": "2.7.6"
  }
 },
 "nbformat": 4,
 "nbformat_minor": 5
}
