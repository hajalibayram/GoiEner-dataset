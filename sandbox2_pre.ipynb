{
 "cells": [
  {
   "metadata": {
    "collapsed": true,
    "ExecuteTime": {
     "end_time": "2025-05-12T11:59:31.570434Z",
     "start_time": "2025-05-12T11:59:31.566352Z"
    }
   },
   "cell_type": "code",
   "source": [
    "import tarfile\n",
    "from itertools import groupby\n",
    "from zlib import decompress\n",
    "import functools\n",
    "\n",
    "import numpy as np\n",
    "import zstandard\n",
    "\n",
    "import seaborn as sns"
   ],
   "id": "initial_id",
   "outputs": [],
   "execution_count": 1
  },
  {
   "metadata": {
    "ExecuteTime": {
     "end_time": "2025-05-12T11:59:36.360374Z",
     "start_time": "2025-05-12T11:59:36.357139Z"
    }
   },
   "cell_type": "code",
   "source": "from extractors import Extractor",
   "id": "50aae70d870ef35e",
   "outputs": [],
   "execution_count": 3
  },
  {
   "metadata": {
    "ExecuteTime": {
     "end_time": "2025-05-12T11:59:38.786956Z",
     "start_time": "2025-05-12T11:59:36.691817Z"
    }
   },
   "cell_type": "code",
   "source": [
    "raw_pre_path = \"raw/imp-pre.tzst\"\n",
    "pre_path = \"dataset\"\n",
    "extractor = Extractor(raw_pre_path, pre_path)\n",
    "\n",
    "extractor.decompress_tzst()"
   ],
   "id": "a629f662b115dafa",
   "outputs": [
    {
     "ename": "KeyboardInterrupt",
     "evalue": "",
     "output_type": "error",
     "traceback": [
      "\u001B[31m---------------------------------------------------------------------------\u001B[39m",
      "\u001B[31mKeyboardInterrupt\u001B[39m                         Traceback (most recent call last)",
      "\u001B[36mCell\u001B[39m\u001B[36m \u001B[39m\u001B[32mIn[4]\u001B[39m\u001B[32m, line 5\u001B[39m\n\u001B[32m      2\u001B[39m pre_path = \u001B[33m\"\u001B[39m\u001B[33mdataset\u001B[39m\u001B[33m\"\u001B[39m\n\u001B[32m      3\u001B[39m extractor = Extractor(raw_pre_path, pre_path)\n\u001B[32m----> \u001B[39m\u001B[32m5\u001B[39m \u001B[43mextractor\u001B[49m\u001B[43m.\u001B[49m\u001B[43mdecompress_tzst\u001B[49m\u001B[43m(\u001B[49m\u001B[43m)\u001B[49m\n",
      "\u001B[36mFile \u001B[39m\u001B[32m~/phd/dev/GoiEner-dataset/extractors.py:28\u001B[39m, in \u001B[36mExtractor.decompress_tzst\u001B[39m\u001B[34m(self)\u001B[39m\n\u001B[32m     26\u001B[39m \u001B[38;5;28;01mwith\u001B[39;00m \u001B[38;5;28mopen\u001B[39m(input_file, \u001B[33m'\u001B[39m\u001B[33mrb\u001B[39m\u001B[33m'\u001B[39m) \u001B[38;5;28;01mas\u001B[39;00m compressed, \u001B[38;5;28mopen\u001B[39m(tar_path, \u001B[33m'\u001B[39m\u001B[33mwb\u001B[39m\u001B[33m'\u001B[39m) \u001B[38;5;28;01mas\u001B[39;00m decompressed:\n\u001B[32m     27\u001B[39m     decomp = zstandard.ZstdDecompressor()\n\u001B[32m---> \u001B[39m\u001B[32m28\u001B[39m     \u001B[43mdecomp\u001B[49m\u001B[43m.\u001B[49m\u001B[43mcopy_stream\u001B[49m\u001B[43m(\u001B[49m\u001B[43mcompressed\u001B[49m\u001B[43m,\u001B[49m\u001B[43m \u001B[49m\u001B[43mdecompressed\u001B[49m\u001B[43m)\u001B[49m\n\u001B[32m     30\u001B[39m \u001B[38;5;28;01mif\u001B[39;00m tarfile.is_tarfile(tar_path):\n\u001B[32m     31\u001B[39m     \u001B[38;5;28;01mwith\u001B[39;00m tarfile.open(tar_path, \u001B[33m'\u001B[39m\u001B[33mr\u001B[39m\u001B[33m'\u001B[39m) \u001B[38;5;28;01mas\u001B[39;00m tar:\n",
      "\u001B[31mKeyboardInterrupt\u001B[39m: "
     ]
    }
   ],
   "execution_count": 4
  },
  {
   "metadata": {
    "ExecuteTime": {
     "end_time": "2025-05-12T11:59:46.823302Z",
     "start_time": "2025-05-12T11:59:46.730417Z"
    }
   },
   "cell_type": "code",
   "source": "import polars as pl",
   "id": "a5063119ced563b6",
   "outputs": [],
   "execution_count": 5
  },
  {
   "metadata": {
    "ExecuteTime": {
     "end_time": "2025-05-12T11:59:48.515319Z",
     "start_time": "2025-05-12T11:59:48.457358Z"
    }
   },
   "cell_type": "code",
   "source": [
    "metadata = pl.read_csv('raw/metadata.csv', try_parse_dates=True)\n",
    "metadata"
   ],
   "id": "814e1639183a1d19",
   "outputs": [
    {
     "data": {
      "text/plain": [
       "shape: (25_559, 23)\n",
       "┌────────────┬────────────┬────────────┬────────────┬───┬────────────┬───────────┬──────────┬──────┐\n",
       "│ user       ┆ start_date ┆ end_date   ┆ length_day ┆ … ┆ province   ┆ municipal ┆ zip_code ┆ cnae │\n",
       "│ ---        ┆ ---        ┆ ---        ┆ s          ┆   ┆ ---        ┆ ity       ┆ ---      ┆ ---  │\n",
       "│ str        ┆ datetime[μ ┆ datetime[μ ┆ ---        ┆   ┆ str        ┆ ---       ┆ i64      ┆ i64  │\n",
       "│            ┆ s, UTC]    ┆ s, UTC]    ┆ f64        ┆   ┆            ┆ str       ┆          ┆      │\n",
       "╞════════════╪════════════╪════════════╪════════════╪═══╪════════════╪═══════════╪══════════╪══════╡\n",
       "│ 00000c5a44 ┆ 2022-05-30 ┆ 2022-06-05 ┆ 6.0        ┆ … ┆ Gipuzkoa   ┆ null      ┆ null     ┆ 9329 │\n",
       "│ 8d9faa097b ┆ 01:00:00   ┆ 00:00:00   ┆            ┆   ┆            ┆           ┆          ┆      │\n",
       "│ 761cc98036 ┆ UTC        ┆ UTC        ┆            ┆   ┆            ┆           ┆          ┆      │\n",
       "│ …          ┆            ┆            ┆            ┆   ┆            ┆           ┆          ┆      │\n",
       "│ 0001b3b2f1 ┆ 2017-05-31 ┆ 2022-06-05 ┆ 1831.0     ┆ … ┆ Bizkaia    ┆ null      ┆ null     ┆ 9820 │\n",
       "│ 8c01c62ed9 ┆ 01:00:00   ┆ 00:00:00   ┆            ┆   ┆            ┆           ┆          ┆      │\n",
       "│ b2a87de7b4 ┆ UTC        ┆ UTC        ┆            ┆   ┆            ┆           ┆          ┆      │\n",
       "│ …          ┆            ┆            ┆            ┆   ┆            ┆           ┆          ┆      │\n",
       "│ 0003de2700 ┆ 2017-05-31 ┆ 2019-11-14 ┆ 897.0      ┆ … ┆ Gipuzkoa   ┆ Donostia/ ┆ 20013    ┆ 9820 │\n",
       "│ e20a1681d6 ┆ 01:00:00   ┆ 00:00:00   ┆            ┆   ┆            ┆ San       ┆          ┆      │\n",
       "│ 9fe287441d ┆ UTC        ┆ UTC        ┆            ┆   ┆            ┆ Sebastian ┆          ┆      │\n",
       "│ …          ┆            ┆            ┆            ┆   ┆            ┆           ┆          ┆      │\n",
       "│ 0004150214 ┆ 2018-07-12 ┆ 2022-06-05 ┆ 1424.0     ┆ … ┆ Gipuzkoa   ┆ Irun      ┆ 20304    ┆ 4759 │\n",
       "│ d14a2b2e6f ┆ 01:00:00   ┆ 00:00:00   ┆            ┆   ┆            ┆           ┆          ┆      │\n",
       "│ 7075531e66 ┆ UTC        ┆ UTC        ┆            ┆   ┆            ┆           ┆          ┆      │\n",
       "│ …          ┆            ┆            ┆            ┆   ┆            ┆           ┆          ┆      │\n",
       "│ 000721f0fc ┆ 2017-05-30 ┆ 2022-06-04 ┆ 1831.0     ┆ … ┆ Bizkaia    ┆ null      ┆ null     ┆ 9820 │\n",
       "│ 6ccf02ae24 ┆ 01:00:00   ┆ 00:00:00   ┆            ┆   ┆            ┆           ┆          ┆      │\n",
       "│ b673939795 ┆ UTC        ┆ UTC        ┆            ┆   ┆            ┆           ┆          ┆      │\n",
       "│ …          ┆            ┆            ┆            ┆   ┆            ┆           ┆          ┆      │\n",
       "│ …          ┆ …          ┆ …          ┆ …          ┆ … ┆ …          ┆ …         ┆ …        ┆ …    │\n",
       "│ ffeddf4919 ┆ 2018-10-02 ┆ 2021-11-03 ┆ 1128.0     ┆ … ┆ Soria      ┆ null      ┆ null     ┆ 9820 │\n",
       "│ e748beb50a ┆ 01:00:00   ┆ 00:00:00   ┆            ┆   ┆            ┆           ┆          ┆      │\n",
       "│ f7c6b73def ┆ UTC        ┆ UTC        ┆            ┆   ┆            ┆           ┆          ┆      │\n",
       "│ …          ┆            ┆            ┆            ┆   ┆            ┆           ┆          ┆      │\n",
       "│ ffefb9e277 ┆ 2021-07-06 ┆ 2022-06-05 ┆ 334.0      ┆ … ┆ Bizkaia    ┆ Bilbao    ┆ 48012    ┆ 9820 │\n",
       "│ 15b1c3fa50 ┆ 01:00:00   ┆ 00:00:00   ┆            ┆   ┆            ┆           ┆          ┆      │\n",
       "│ 07c457de55 ┆ UTC        ┆ UTC        ┆            ┆   ┆            ┆           ┆          ┆      │\n",
       "│ …          ┆            ┆            ┆            ┆   ┆            ┆           ┆          ┆      │\n",
       "│ fff0adcd6c ┆ 2017-08-17 ┆ 2022-06-05 ┆ 1753.0     ┆ … ┆ Bizkaia    ┆ null      ┆ null     ┆ 9820 │\n",
       "│ db7434496a ┆ 01:00:00   ┆ 00:00:00   ┆            ┆   ┆            ┆           ┆          ┆      │\n",
       "│ 5222f03337 ┆ UTC        ┆ UTC        ┆            ┆   ┆            ┆           ┆          ┆      │\n",
       "│ …          ┆            ┆            ┆            ┆   ┆            ┆           ┆          ┆      │\n",
       "│ fff282fcaa ┆ 2021-11-08 ┆ 2022-06-03 ┆ 207.0      ┆ … ┆ Alicante/A ┆ null      ┆ null     ┆ 9820 │\n",
       "│ 968a999b29 ┆ 01:00:00   ┆ 00:00:00   ┆            ┆   ┆ lacant     ┆           ┆          ┆      │\n",
       "│ 01731ed2ec ┆ UTC        ┆ UTC        ┆            ┆   ┆            ┆           ┆          ┆      │\n",
       "│ …          ┆            ┆            ┆            ┆   ┆            ┆           ┆          ┆      │\n",
       "│ fff3e258f1 ┆ 2021-09-17 ┆ 2022-06-05 ┆ 261.0      ┆ … ┆ Gipuzkoa   ┆ Donostia/ ┆ 20011    ┆ 9820 │\n",
       "│ cb36595561 ┆ 01:00:00   ┆ 00:00:00   ┆            ┆   ┆            ┆ San       ┆          ┆      │\n",
       "│ 63542d204d ┆ UTC        ┆ UTC        ┆            ┆   ┆            ┆ Sebastian ┆          ┆      │\n",
       "│ …          ┆            ┆            ┆            ┆   ┆            ┆           ┆          ┆      │\n",
       "└────────────┴────────────┴────────────┴────────────┴───┴────────────┴───────────┴──────────┴──────┘"
      ],
      "text/html": [
       "<div><style>\n",
       ".dataframe > thead > tr,\n",
       ".dataframe > tbody > tr {\n",
       "  text-align: right;\n",
       "  white-space: pre-wrap;\n",
       "}\n",
       "</style>\n",
       "<small>shape: (25_559, 23)</small><table border=\"1\" class=\"dataframe\"><thead><tr><th>user</th><th>start_date</th><th>end_date</th><th>length_days</th><th>length_years</th><th>potential_samples</th><th>actual_samples</th><th>missing_samples_abs</th><th>missing_samples_pct</th><th>contract_start_date</th><th>contract_end_date</th><th>contracted_tariff</th><th>self_consumption_type</th><th>p1</th><th>p2</th><th>p3</th><th>p4</th><th>p5</th><th>p6</th><th>province</th><th>municipality</th><th>zip_code</th><th>cnae</th></tr><tr><td>str</td><td>datetime[μs, UTC]</td><td>datetime[μs, UTC]</td><td>f64</td><td>f64</td><td>i64</td><td>i64</td><td>i64</td><td>f64</td><td>date</td><td>date</td><td>str</td><td>str</td><td>f64</td><td>f64</td><td>f64</td><td>f64</td><td>f64</td><td>f64</td><td>str</td><td>str</td><td>i64</td><td>i64</td></tr></thead><tbody><tr><td>&quot;00000c5a448d9faa097b761cc98036…</td><td>2022-05-30 01:00:00 UTC</td><td>2022-06-05 00:00:00 UTC</td><td>6.0</td><td>0.016427</td><td>144</td><td>144</td><td>0</td><td>0.0</td><td>2022-05-31</td><td>null</td><td>&quot;2.0TD&quot;</td><td>&quot;&quot;</td><td>2.2</td><td>2.2</td><td>0.0</td><td>0.0</td><td>0.0</td><td>0.0</td><td>&quot;Gipuzkoa&quot;</td><td>null</td><td>null</td><td>9329</td></tr><tr><td>&quot;0001b3b2f18c01c62ed9b2a87de7b4…</td><td>2017-05-31 01:00:00 UTC</td><td>2022-06-05 00:00:00 UTC</td><td>1831.0</td><td>5.013005</td><td>43944</td><td>43863</td><td>81</td><td>0.184326</td><td>2021-06-01</td><td>null</td><td>&quot;2.0TD&quot;</td><td>&quot;&quot;</td><td>3.45</td><td>3.45</td><td>null</td><td>null</td><td>null</td><td>null</td><td>&quot;Bizkaia&quot;</td><td>null</td><td>null</td><td>9820</td></tr><tr><td>&quot;0003de2700e20a1681d69fe287441d…</td><td>2017-05-31 01:00:00 UTC</td><td>2019-11-14 00:00:00 UTC</td><td>897.0</td><td>2.455852</td><td>21528</td><td>21476</td><td>52</td><td>0.241546</td><td>2019-09-02</td><td>2019-11-13</td><td>&quot;2.0A&quot;</td><td>&quot;&quot;</td><td>4.6</td><td>null</td><td>null</td><td>null</td><td>null</td><td>null</td><td>&quot;Gipuzkoa&quot;</td><td>&quot;Donostia/San Sebastian&quot;</td><td>20013</td><td>9820</td></tr><tr><td>&quot;0004150214d14a2b2e6f7075531e66…</td><td>2018-07-12 01:00:00 UTC</td><td>2022-06-05 00:00:00 UTC</td><td>1424.0</td><td>3.8987</td><td>34176</td><td>34169</td><td>7</td><td>0.020482</td><td>2021-06-01</td><td>null</td><td>&quot;2.0TD&quot;</td><td>&quot;&quot;</td><td>9.2</td><td>9.2</td><td>null</td><td>null</td><td>null</td><td>null</td><td>&quot;Gipuzkoa&quot;</td><td>&quot;Irun&quot;</td><td>20304</td><td>4759</td></tr><tr><td>&quot;000721f0fc6ccf02ae24b673939795…</td><td>2017-05-30 01:00:00 UTC</td><td>2022-06-04 00:00:00 UTC</td><td>1831.0</td><td>5.013005</td><td>43944</td><td>43815</td><td>129</td><td>0.293555</td><td>2021-06-01</td><td>null</td><td>&quot;2.0TD&quot;</td><td>&quot;&quot;</td><td>4.4</td><td>4.4</td><td>null</td><td>null</td><td>null</td><td>null</td><td>&quot;Bizkaia&quot;</td><td>null</td><td>null</td><td>9820</td></tr><tr><td>&hellip;</td><td>&hellip;</td><td>&hellip;</td><td>&hellip;</td><td>&hellip;</td><td>&hellip;</td><td>&hellip;</td><td>&hellip;</td><td>&hellip;</td><td>&hellip;</td><td>&hellip;</td><td>&hellip;</td><td>&hellip;</td><td>&hellip;</td><td>&hellip;</td><td>&hellip;</td><td>&hellip;</td><td>&hellip;</td><td>&hellip;</td><td>&hellip;</td><td>&hellip;</td><td>&hellip;</td><td>&hellip;</td></tr><tr><td>&quot;ffeddf4919e748beb50af7c6b73def…</td><td>2018-10-02 01:00:00 UTC</td><td>2021-11-03 00:00:00 UTC</td><td>1128.0</td><td>3.088296</td><td>27072</td><td>27069</td><td>3</td><td>0.011082</td><td>2021-06-01</td><td>null</td><td>&quot;2.0TD&quot;</td><td>&quot;&quot;</td><td>6.0</td><td>6.0</td><td>null</td><td>null</td><td>null</td><td>null</td><td>&quot;Soria&quot;</td><td>null</td><td>null</td><td>9820</td></tr><tr><td>&quot;ffefb9e27715b1c3fa5007c457de55…</td><td>2021-07-06 01:00:00 UTC</td><td>2022-06-05 00:00:00 UTC</td><td>334.0</td><td>0.914442</td><td>8016</td><td>8014</td><td>2</td><td>0.02495</td><td>2021-07-07</td><td>null</td><td>&quot;2.0TD&quot;</td><td>&quot;&quot;</td><td>3.45</td><td>3.45</td><td>0.0</td><td>0.0</td><td>0.0</td><td>0.0</td><td>&quot;Bizkaia&quot;</td><td>&quot;Bilbao&quot;</td><td>48012</td><td>9820</td></tr><tr><td>&quot;fff0adcd6cdb7434496a5222f03337…</td><td>2017-08-17 01:00:00 UTC</td><td>2022-06-05 00:00:00 UTC</td><td>1753.0</td><td>4.799452</td><td>42072</td><td>41102</td><td>970</td><td>2.305571</td><td>2021-06-01</td><td>null</td><td>&quot;2.0TD&quot;</td><td>&quot;&quot;</td><td>4.6</td><td>4.6</td><td>null</td><td>null</td><td>null</td><td>null</td><td>&quot;Bizkaia&quot;</td><td>null</td><td>null</td><td>9820</td></tr><tr><td>&quot;fff282fcaa968a999b2901731ed2ec…</td><td>2021-11-08 01:00:00 UTC</td><td>2022-06-03 00:00:00 UTC</td><td>207.0</td><td>0.566735</td><td>4968</td><td>4967</td><td>1</td><td>0.020129</td><td>2022-02-10</td><td>null</td><td>&quot;2.0TD&quot;</td><td>&quot;&quot;</td><td>3.3</td><td>3.3</td><td>null</td><td>null</td><td>null</td><td>null</td><td>&quot;Alicante/Alacant&quot;</td><td>null</td><td>null</td><td>9820</td></tr><tr><td>&quot;fff3e258f1cb3659556163542d204d…</td><td>2021-09-17 01:00:00 UTC</td><td>2022-06-05 00:00:00 UTC</td><td>261.0</td><td>0.714579</td><td>6264</td><td>6262</td><td>2</td><td>0.031928</td><td>2021-09-18</td><td>null</td><td>&quot;2.0TD&quot;</td><td>&quot;&quot;</td><td>4.6</td><td>4.6</td><td>0.0</td><td>0.0</td><td>0.0</td><td>0.0</td><td>&quot;Gipuzkoa&quot;</td><td>&quot;Donostia/San Sebastian&quot;</td><td>20011</td><td>9820</td></tr></tbody></table></div>"
      ]
     },
     "execution_count": 6,
     "metadata": {},
     "output_type": "execute_result"
    }
   ],
   "execution_count": 6
  },
  {
   "metadata": {
    "ExecuteTime": {
     "end_time": "2025-05-12T13:10:06.768444Z",
     "start_time": "2025-05-12T13:10:06.664179Z"
    }
   },
   "cell_type": "code",
   "source": [
    "metadata_pre_covid = metadata.filter([\n",
    "    pl.col(\"start_date\").is_between(pl.datetime(2000, 5, 31, time_zone=\"UTC\"), pl.datetime(2020, 3, 1, time_zone=\"UTC\"))\n",
    "    ,pl.col(\"end_date\").is_between(pl.datetime(2000, 5, 31, time_zone=\"UTC\"), pl.datetime(2020, 3, 1, time_zone=\"UTC\"))\n",
    "])\n",
    "\n",
    "metadata_pre_covid.head()"
   ],
   "id": "9d6ca47ff67a3721",
   "outputs": [
    {
     "data": {
      "text/plain": [
       "shape: (5, 23)\n",
       "┌────────────┬────────────┬────────────┬────────────┬───┬────────────┬───────────┬──────────┬──────┐\n",
       "│ user       ┆ start_date ┆ end_date   ┆ length_day ┆ … ┆ province   ┆ municipal ┆ zip_code ┆ cnae │\n",
       "│ ---        ┆ ---        ┆ ---        ┆ s          ┆   ┆ ---        ┆ ity       ┆ ---      ┆ ---  │\n",
       "│ str        ┆ datetime[μ ┆ datetime[μ ┆ ---        ┆   ┆ str        ┆ ---       ┆ i64      ┆ i64  │\n",
       "│            ┆ s, UTC]    ┆ s, UTC]    ┆ f64        ┆   ┆            ┆ str       ┆          ┆      │\n",
       "╞════════════╪════════════╪════════════╪════════════╪═══╪════════════╪═══════════╪══════════╪══════╡\n",
       "│ 0003de2700 ┆ 2017-05-31 ┆ 2019-11-14 ┆ 897.0      ┆ … ┆ Gipuzkoa   ┆ Donostia/ ┆ 20013    ┆ 9820 │\n",
       "│ e20a1681d6 ┆ 01:00:00   ┆ 00:00:00   ┆            ┆   ┆            ┆ San       ┆          ┆      │\n",
       "│ 9fe287441d ┆ UTC        ┆ UTC        ┆            ┆   ┆            ┆ Sebastian ┆          ┆      │\n",
       "│ …          ┆            ┆            ┆            ┆   ┆            ┆           ┆          ┆      │\n",
       "│ 002948d031 ┆ 2017-05-31 ┆ 2018-04-17 ┆ 321.0      ┆ … ┆ Araba/Alav ┆ Vitoria-G ┆ 1013     ┆ 9820 │\n",
       "│ 7d4cb8582c ┆ 01:00:00   ┆ 00:00:00   ┆            ┆   ┆ a          ┆ asteiz    ┆          ┆      │\n",
       "│ 2aeefdeab5 ┆ UTC        ┆ UTC        ┆            ┆   ┆            ┆           ┆          ┆      │\n",
       "│ …          ┆            ┆            ┆            ┆   ┆            ┆           ┆          ┆      │\n",
       "│ 00452e5df1 ┆ 2019-07-05 ┆ 2019-10-31 ┆ 118.0      ┆ … ┆ Gipuzkoa   ┆ Donostia/ ┆ 20012    ┆ 9820 │\n",
       "│ dccc6e8445 ┆ 01:00:00   ┆ 00:00:00   ┆            ┆   ┆            ┆ San       ┆          ┆      │\n",
       "│ 5aded6903e ┆ UTC        ┆ UTC        ┆            ┆   ┆            ┆ Sebastian ┆          ┆      │\n",
       "│ …          ┆            ┆            ┆            ┆   ┆            ┆           ┆          ┆      │\n",
       "│ 009da9fed0 ┆ 2017-05-31 ┆ 2020-01-11 ┆ 955.0      ┆ … ┆ Navarra    ┆ null      ┆ null     ┆ 9820 │\n",
       "│ 568a951cc8 ┆ 01:00:00   ┆ 00:00:00   ┆            ┆   ┆            ┆           ┆          ┆      │\n",
       "│ 4f73a2daac ┆ UTC        ┆ UTC        ┆            ┆   ┆            ┆           ┆          ┆      │\n",
       "│ …          ┆            ┆            ┆            ┆   ┆            ┆           ┆          ┆      │\n",
       "│ 012be36202 ┆ 2018-06-12 ┆ 2019-08-03 ┆ 417.0      ┆ … ┆ Araba/Alav ┆ Vitoria-G ┆ 1001     ┆ 9820 │\n",
       "│ 1dfaff2ae2 ┆ 01:00:00   ┆ 00:00:00   ┆            ┆   ┆ a          ┆ asteiz    ┆          ┆      │\n",
       "│ ad9391657a ┆ UTC        ┆ UTC        ┆            ┆   ┆            ┆           ┆          ┆      │\n",
       "│ …          ┆            ┆            ┆            ┆   ┆            ┆           ┆          ┆      │\n",
       "└────────────┴────────────┴────────────┴────────────┴───┴────────────┴───────────┴──────────┴──────┘"
      ],
      "text/html": [
       "<div><style>\n",
       ".dataframe > thead > tr,\n",
       ".dataframe > tbody > tr {\n",
       "  text-align: right;\n",
       "  white-space: pre-wrap;\n",
       "}\n",
       "</style>\n",
       "<small>shape: (5, 23)</small><table border=\"1\" class=\"dataframe\"><thead><tr><th>user</th><th>start_date</th><th>end_date</th><th>length_days</th><th>length_years</th><th>potential_samples</th><th>actual_samples</th><th>missing_samples_abs</th><th>missing_samples_pct</th><th>contract_start_date</th><th>contract_end_date</th><th>contracted_tariff</th><th>self_consumption_type</th><th>p1</th><th>p2</th><th>p3</th><th>p4</th><th>p5</th><th>p6</th><th>province</th><th>municipality</th><th>zip_code</th><th>cnae</th></tr><tr><td>str</td><td>datetime[μs, UTC]</td><td>datetime[μs, UTC]</td><td>f64</td><td>f64</td><td>i64</td><td>i64</td><td>i64</td><td>f64</td><td>date</td><td>date</td><td>str</td><td>str</td><td>f64</td><td>f64</td><td>f64</td><td>f64</td><td>f64</td><td>f64</td><td>str</td><td>str</td><td>i64</td><td>i64</td></tr></thead><tbody><tr><td>&quot;0003de2700e20a1681d69fe287441d…</td><td>2017-05-31 01:00:00 UTC</td><td>2019-11-14 00:00:00 UTC</td><td>897.0</td><td>2.455852</td><td>21528</td><td>21476</td><td>52</td><td>0.241546</td><td>2019-09-02</td><td>2019-11-13</td><td>&quot;2.0A&quot;</td><td>&quot;&quot;</td><td>4.6</td><td>null</td><td>null</td><td>null</td><td>null</td><td>null</td><td>&quot;Gipuzkoa&quot;</td><td>&quot;Donostia/San Sebastian&quot;</td><td>20013</td><td>9820</td></tr><tr><td>&quot;002948d0317d4cb8582c2aeefdeab5…</td><td>2017-05-31 01:00:00 UTC</td><td>2018-04-17 00:00:00 UTC</td><td>321.0</td><td>0.87885</td><td>7704</td><td>7655</td><td>49</td><td>0.636033</td><td>2016-06-16</td><td>2018-04-16</td><td>&quot;2.1A&quot;</td><td>&quot;&quot;</td><td>10.392</td><td>null</td><td>null</td><td>null</td><td>null</td><td>null</td><td>&quot;Araba/Alava&quot;</td><td>&quot;Vitoria-Gasteiz&quot;</td><td>1013</td><td>9820</td></tr><tr><td>&quot;00452e5df1dccc6e84455aded6903e…</td><td>2019-07-05 01:00:00 UTC</td><td>2019-10-31 00:00:00 UTC</td><td>118.0</td><td>0.323066</td><td>2832</td><td>2831</td><td>1</td><td>0.035311</td><td>2019-07-06</td><td>2019-10-30</td><td>&quot;2.0A&quot;</td><td>&quot;&quot;</td><td>4.6</td><td>null</td><td>null</td><td>null</td><td>null</td><td>null</td><td>&quot;Gipuzkoa&quot;</td><td>&quot;Donostia/San Sebastian&quot;</td><td>20012</td><td>9820</td></tr><tr><td>&quot;009da9fed0568a951cc84f73a2daac…</td><td>2017-05-31 01:00:00 UTC</td><td>2020-01-11 00:00:00 UTC</td><td>955.0</td><td>2.614648</td><td>22920</td><td>22868</td><td>52</td><td>0.226876</td><td>2017-02-03</td><td>2020-01-10</td><td>&quot;2.0DHA&quot;</td><td>&quot;&quot;</td><td>3.45</td><td>null</td><td>null</td><td>null</td><td>null</td><td>null</td><td>&quot;Navarra&quot;</td><td>null</td><td>null</td><td>9820</td></tr><tr><td>&quot;012be362021dfaff2ae2ad9391657a…</td><td>2018-06-12 01:00:00 UTC</td><td>2019-08-03 00:00:00 UTC</td><td>417.0</td><td>1.141684</td><td>10008</td><td>10006</td><td>2</td><td>0.019984</td><td>2015-08-12</td><td>2019-08-02</td><td>&quot;2.0A&quot;</td><td>&quot;&quot;</td><td>3.6</td><td>0.0</td><td>0.0</td><td>null</td><td>null</td><td>null</td><td>&quot;Araba/Alava&quot;</td><td>&quot;Vitoria-Gasteiz&quot;</td><td>1001</td><td>9820</td></tr></tbody></table></div>"
      ]
     },
     "execution_count": 26,
     "metadata": {},
     "output_type": "execute_result"
    }
   ],
   "execution_count": 26
  },
  {
   "metadata": {
    "ExecuteTime": {
     "end_time": "2025-05-12T13:10:09.419817Z",
     "start_time": "2025-05-12T13:10:09.411070Z"
    }
   },
   "cell_type": "code",
   "source": "metadata_pre_covid['user'].unique()",
   "id": "543e8e52a71bb55f",
   "outputs": [
    {
     "data": {
      "text/plain": [
       "shape: (889,)\n",
       "Series: 'user' [str]\n",
       "[\n",
       "\t\"149a07d34fb280f41876213ff0eb58…\n",
       "\t\"211789fecf3246fdf6f6ec1012788d…\n",
       "\t\"0d2858bddb029d5a519fd54ae49108…\n",
       "\t\"35f05a1680d442d95da7596ae29261…\n",
       "\t\"1a017a2587824749d4e890a61f8c86…\n",
       "\t…\n",
       "\t\"e68f772ba30734a96f66e3c725a48a…\n",
       "\t\"f608eea11a67d0a832ddd879e27725…\n",
       "\t\"c754a6cef393f338621f1ddd5f7524…\n",
       "\t\"318d5f810b5bd058f0bd28bc1bd1af…\n",
       "\t\"cc8de9255a39f00e9b1ff8ccde5c4a…\n",
       "]"
      ],
      "text/html": [
       "<div><style>\n",
       ".dataframe > thead > tr,\n",
       ".dataframe > tbody > tr {\n",
       "  text-align: right;\n",
       "  white-space: pre-wrap;\n",
       "}\n",
       "</style>\n",
       "<small>shape: (889,)</small><table border=\"1\" class=\"dataframe\"><thead><tr><th>user</th></tr><tr><td>str</td></tr></thead><tbody><tr><td>&quot;149a07d34fb280f41876213ff0eb58…</td></tr><tr><td>&quot;211789fecf3246fdf6f6ec1012788d…</td></tr><tr><td>&quot;0d2858bddb029d5a519fd54ae49108…</td></tr><tr><td>&quot;35f05a1680d442d95da7596ae29261…</td></tr><tr><td>&quot;1a017a2587824749d4e890a61f8c86…</td></tr><tr><td>&hellip;</td></tr><tr><td>&quot;e68f772ba30734a96f66e3c725a48a…</td></tr><tr><td>&quot;f608eea11a67d0a832ddd879e27725…</td></tr><tr><td>&quot;c754a6cef393f338621f1ddd5f7524…</td></tr><tr><td>&quot;318d5f810b5bd058f0bd28bc1bd1af…</td></tr><tr><td>&quot;cc8de9255a39f00e9b1ff8ccde5c4a…</td></tr></tbody></table></div>"
      ]
     },
     "execution_count": 27,
     "metadata": {},
     "output_type": "execute_result"
    }
   ],
   "execution_count": 27
  },
  {
   "metadata": {
    "ExecuteTime": {
     "end_time": "2025-05-12T12:04:56.297320Z",
     "start_time": "2025-05-12T12:04:56.288747Z"
    }
   },
   "cell_type": "code",
   "source": "metadata_pre_covid['municipality'].value_counts()",
   "id": "293ae0750bcecee9",
   "outputs": [
    {
     "data": {
      "text/plain": [
       "shape: (36, 2)\n",
       "┌────────────────────────┬───────┐\n",
       "│ municipality           ┆ count │\n",
       "│ ---                    ┆ ---   │\n",
       "│ str                    ┆ u32   │\n",
       "╞════════════════════════╪═══════╡\n",
       "│ Lugo                   ┆ 3     │\n",
       "│ Getafe                 ┆ 1     │\n",
       "│ Guadalajara            ┆ 8     │\n",
       "│ Coruna A               ┆ 1     │\n",
       "│ Logrono                ┆ 1     │\n",
       "│ …                      ┆ …     │\n",
       "│ Valencia               ┆ 1     │\n",
       "│ Zaragoza               ┆ 1     │\n",
       "│ Vitoria-Gasteiz        ┆ 75    │\n",
       "│ Santiago de Compostela ┆ 1     │\n",
       "│ Torrelavega            ┆ 6     │\n",
       "└────────────────────────┴───────┘"
      ],
      "text/html": [
       "<div><style>\n",
       ".dataframe > thead > tr,\n",
       ".dataframe > tbody > tr {\n",
       "  text-align: right;\n",
       "  white-space: pre-wrap;\n",
       "}\n",
       "</style>\n",
       "<small>shape: (36, 2)</small><table border=\"1\" class=\"dataframe\"><thead><tr><th>municipality</th><th>count</th></tr><tr><td>str</td><td>u32</td></tr></thead><tbody><tr><td>&quot;Lugo&quot;</td><td>3</td></tr><tr><td>&quot;Getafe&quot;</td><td>1</td></tr><tr><td>&quot;Guadalajara&quot;</td><td>8</td></tr><tr><td>&quot;Coruna A&quot;</td><td>1</td></tr><tr><td>&quot;Logrono&quot;</td><td>1</td></tr><tr><td>&hellip;</td><td>&hellip;</td></tr><tr><td>&quot;Valencia&quot;</td><td>1</td></tr><tr><td>&quot;Zaragoza&quot;</td><td>1</td></tr><tr><td>&quot;Vitoria-Gasteiz&quot;</td><td>75</td></tr><tr><td>&quot;Santiago de Compostela&quot;</td><td>1</td></tr><tr><td>&quot;Torrelavega&quot;</td><td>6</td></tr></tbody></table></div>"
      ]
     },
     "execution_count": 15,
     "metadata": {},
     "output_type": "execute_result"
    }
   ],
   "execution_count": 15
  },
  {
   "metadata": {
    "ExecuteTime": {
     "end_time": "2025-05-12T12:04:58.198775Z",
     "start_time": "2025-05-12T12:04:58.187230Z"
    }
   },
   "cell_type": "code",
   "source": "metadata_pre_covid.filter(metadata_pre_covid['province'].is_not_null())",
   "id": "f1902f5fe1b0c23b",
   "outputs": [
    {
     "data": {
      "text/plain": [
       "shape: (885, 23)\n",
       "┌────────────┬────────────┬────────────┬────────────┬───┬────────────┬───────────┬──────────┬──────┐\n",
       "│ user       ┆ start_date ┆ end_date   ┆ length_day ┆ … ┆ province   ┆ municipal ┆ zip_code ┆ cnae │\n",
       "│ ---        ┆ ---        ┆ ---        ┆ s          ┆   ┆ ---        ┆ ity       ┆ ---      ┆ ---  │\n",
       "│ str        ┆ datetime[μ ┆ datetime[μ ┆ ---        ┆   ┆ str        ┆ ---       ┆ i64      ┆ i64  │\n",
       "│            ┆ s, UTC]    ┆ s, UTC]    ┆ f64        ┆   ┆            ┆ str       ┆          ┆      │\n",
       "╞════════════╪════════════╪════════════╪════════════╪═══╪════════════╪═══════════╪══════════╪══════╡\n",
       "│ 0003de2700 ┆ 2017-05-31 ┆ 2019-11-14 ┆ 897.0      ┆ … ┆ Gipuzkoa   ┆ Donostia/ ┆ 20013    ┆ 9820 │\n",
       "│ e20a1681d6 ┆ 01:00:00   ┆ 00:00:00   ┆            ┆   ┆            ┆ San       ┆          ┆      │\n",
       "│ 9fe287441d ┆ UTC        ┆ UTC        ┆            ┆   ┆            ┆ Sebastian ┆          ┆      │\n",
       "│ …          ┆            ┆            ┆            ┆   ┆            ┆           ┆          ┆      │\n",
       "│ 002948d031 ┆ 2017-05-31 ┆ 2018-04-17 ┆ 321.0      ┆ … ┆ Araba/Alav ┆ Vitoria-G ┆ 1013     ┆ 9820 │\n",
       "│ 7d4cb8582c ┆ 01:00:00   ┆ 00:00:00   ┆            ┆   ┆ a          ┆ asteiz    ┆          ┆      │\n",
       "│ 2aeefdeab5 ┆ UTC        ┆ UTC        ┆            ┆   ┆            ┆           ┆          ┆      │\n",
       "│ …          ┆            ┆            ┆            ┆   ┆            ┆           ┆          ┆      │\n",
       "│ 00452e5df1 ┆ 2019-07-05 ┆ 2019-10-31 ┆ 118.0      ┆ … ┆ Gipuzkoa   ┆ Donostia/ ┆ 20012    ┆ 9820 │\n",
       "│ dccc6e8445 ┆ 01:00:00   ┆ 00:00:00   ┆            ┆   ┆            ┆ San       ┆          ┆      │\n",
       "│ 5aded6903e ┆ UTC        ┆ UTC        ┆            ┆   ┆            ┆ Sebastian ┆          ┆      │\n",
       "│ …          ┆            ┆            ┆            ┆   ┆            ┆           ┆          ┆      │\n",
       "│ 009da9fed0 ┆ 2017-05-31 ┆ 2020-01-11 ┆ 955.0      ┆ … ┆ Navarra    ┆ null      ┆ null     ┆ 9820 │\n",
       "│ 568a951cc8 ┆ 01:00:00   ┆ 00:00:00   ┆            ┆   ┆            ┆           ┆          ┆      │\n",
       "│ 4f73a2daac ┆ UTC        ┆ UTC        ┆            ┆   ┆            ┆           ┆          ┆      │\n",
       "│ …          ┆            ┆            ┆            ┆   ┆            ┆           ┆          ┆      │\n",
       "│ 012be36202 ┆ 2018-06-12 ┆ 2019-08-03 ┆ 417.0      ┆ … ┆ Araba/Alav ┆ Vitoria-G ┆ 1001     ┆ 9820 │\n",
       "│ 1dfaff2ae2 ┆ 01:00:00   ┆ 00:00:00   ┆            ┆   ┆ a          ┆ asteiz    ┆          ┆      │\n",
       "│ ad9391657a ┆ UTC        ┆ UTC        ┆            ┆   ┆            ┆           ┆          ┆      │\n",
       "│ …          ┆            ┆            ┆            ┆   ┆            ┆           ┆          ┆      │\n",
       "│ …          ┆ …          ┆ …          ┆ …          ┆ … ┆ …          ┆ …         ┆ …        ┆ …    │\n",
       "│ ff1f8a74e8 ┆ 2018-01-09 ┆ 2018-05-29 ┆ 140.0      ┆ … ┆ Gipuzkoa   ┆ null      ┆ null     ┆ 9810 │\n",
       "│ 292b11c310 ┆ 01:00:00   ┆ 00:00:00   ┆            ┆   ┆            ┆           ┆          ┆      │\n",
       "│ 0a587fbe65 ┆ UTC        ┆ UTC        ┆            ┆   ┆            ┆           ┆          ┆      │\n",
       "│ …          ┆            ┆            ┆            ┆   ┆            ┆           ┆          ┆      │\n",
       "│ ff364d641e ┆ 2018-01-18 ┆ 2019-07-23 ┆ 551.0      ┆ … ┆ Araba/Alav ┆ null      ┆ null     ┆ 9820 │\n",
       "│ 43f98beccd ┆ 01:00:00   ┆ 00:00:00   ┆            ┆   ┆ a          ┆           ┆          ┆      │\n",
       "│ a3da71c73c ┆ UTC        ┆ UTC        ┆            ┆   ┆            ┆           ┆          ┆      │\n",
       "│ …          ┆            ┆            ┆            ┆   ┆            ┆           ┆          ┆      │\n",
       "│ ff7485847e ┆ 2017-05-31 ┆ 2018-01-01 ┆ 215.0      ┆ … ┆ Bizkaia    ┆ null      ┆ null     ┆ 8411 │\n",
       "│ 9b69b2d74d ┆ 01:00:00   ┆ 00:00:00   ┆            ┆   ┆            ┆           ┆          ┆      │\n",
       "│ a193c0d6a4 ┆ UTC        ┆ UTC        ┆            ┆   ┆            ┆           ┆          ┆      │\n",
       "│ …          ┆            ┆            ┆            ┆   ┆            ┆           ┆          ┆      │\n",
       "│ ff9f9e2e65 ┆ 2018-03-08 ┆ 2019-02-28 ┆ 357.0      ┆ … ┆ Bizkaia    ┆ Bilbao    ┆ 48013    ┆ 9820 │\n",
       "│ 04f06216b7 ┆ 01:00:00   ┆ 00:00:00   ┆            ┆   ┆            ┆           ┆          ┆      │\n",
       "│ 5adc86fa07 ┆ UTC        ┆ UTC        ┆            ┆   ┆            ┆           ┆          ┆      │\n",
       "│ …          ┆            ┆            ┆            ┆   ┆            ┆           ┆          ┆      │\n",
       "│ ffc19d83dc ┆ 2017-12-01 ┆ 2019-06-26 ┆ 572.0      ┆ … ┆ Madrid     ┆ null      ┆ null     ┆ 9820 │\n",
       "│ d36a2497ce ┆ 01:00:00   ┆ 00:00:00   ┆            ┆   ┆            ┆           ┆          ┆      │\n",
       "│ 1e7ac11e9d ┆ UTC        ┆ UTC        ┆            ┆   ┆            ┆           ┆          ┆      │\n",
       "│ …          ┆            ┆            ┆            ┆   ┆            ┆           ┆          ┆      │\n",
       "└────────────┴────────────┴────────────┴────────────┴───┴────────────┴───────────┴──────────┴──────┘"
      ],
      "text/html": [
       "<div><style>\n",
       ".dataframe > thead > tr,\n",
       ".dataframe > tbody > tr {\n",
       "  text-align: right;\n",
       "  white-space: pre-wrap;\n",
       "}\n",
       "</style>\n",
       "<small>shape: (885, 23)</small><table border=\"1\" class=\"dataframe\"><thead><tr><th>user</th><th>start_date</th><th>end_date</th><th>length_days</th><th>length_years</th><th>potential_samples</th><th>actual_samples</th><th>missing_samples_abs</th><th>missing_samples_pct</th><th>contract_start_date</th><th>contract_end_date</th><th>contracted_tariff</th><th>self_consumption_type</th><th>p1</th><th>p2</th><th>p3</th><th>p4</th><th>p5</th><th>p6</th><th>province</th><th>municipality</th><th>zip_code</th><th>cnae</th></tr><tr><td>str</td><td>datetime[μs, UTC]</td><td>datetime[μs, UTC]</td><td>f64</td><td>f64</td><td>i64</td><td>i64</td><td>i64</td><td>f64</td><td>date</td><td>date</td><td>str</td><td>str</td><td>f64</td><td>f64</td><td>f64</td><td>f64</td><td>f64</td><td>f64</td><td>str</td><td>str</td><td>i64</td><td>i64</td></tr></thead><tbody><tr><td>&quot;0003de2700e20a1681d69fe287441d…</td><td>2017-05-31 01:00:00 UTC</td><td>2019-11-14 00:00:00 UTC</td><td>897.0</td><td>2.455852</td><td>21528</td><td>21476</td><td>52</td><td>0.241546</td><td>2019-09-02</td><td>2019-11-13</td><td>&quot;2.0A&quot;</td><td>&quot;&quot;</td><td>4.6</td><td>null</td><td>null</td><td>null</td><td>null</td><td>null</td><td>&quot;Gipuzkoa&quot;</td><td>&quot;Donostia/San Sebastian&quot;</td><td>20013</td><td>9820</td></tr><tr><td>&quot;002948d0317d4cb8582c2aeefdeab5…</td><td>2017-05-31 01:00:00 UTC</td><td>2018-04-17 00:00:00 UTC</td><td>321.0</td><td>0.87885</td><td>7704</td><td>7655</td><td>49</td><td>0.636033</td><td>2016-06-16</td><td>2018-04-16</td><td>&quot;2.1A&quot;</td><td>&quot;&quot;</td><td>10.392</td><td>null</td><td>null</td><td>null</td><td>null</td><td>null</td><td>&quot;Araba/Alava&quot;</td><td>&quot;Vitoria-Gasteiz&quot;</td><td>1013</td><td>9820</td></tr><tr><td>&quot;00452e5df1dccc6e84455aded6903e…</td><td>2019-07-05 01:00:00 UTC</td><td>2019-10-31 00:00:00 UTC</td><td>118.0</td><td>0.323066</td><td>2832</td><td>2831</td><td>1</td><td>0.035311</td><td>2019-07-06</td><td>2019-10-30</td><td>&quot;2.0A&quot;</td><td>&quot;&quot;</td><td>4.6</td><td>null</td><td>null</td><td>null</td><td>null</td><td>null</td><td>&quot;Gipuzkoa&quot;</td><td>&quot;Donostia/San Sebastian&quot;</td><td>20012</td><td>9820</td></tr><tr><td>&quot;009da9fed0568a951cc84f73a2daac…</td><td>2017-05-31 01:00:00 UTC</td><td>2020-01-11 00:00:00 UTC</td><td>955.0</td><td>2.614648</td><td>22920</td><td>22868</td><td>52</td><td>0.226876</td><td>2017-02-03</td><td>2020-01-10</td><td>&quot;2.0DHA&quot;</td><td>&quot;&quot;</td><td>3.45</td><td>null</td><td>null</td><td>null</td><td>null</td><td>null</td><td>&quot;Navarra&quot;</td><td>null</td><td>null</td><td>9820</td></tr><tr><td>&quot;012be362021dfaff2ae2ad9391657a…</td><td>2018-06-12 01:00:00 UTC</td><td>2019-08-03 00:00:00 UTC</td><td>417.0</td><td>1.141684</td><td>10008</td><td>10006</td><td>2</td><td>0.019984</td><td>2015-08-12</td><td>2019-08-02</td><td>&quot;2.0A&quot;</td><td>&quot;&quot;</td><td>3.6</td><td>0.0</td><td>0.0</td><td>null</td><td>null</td><td>null</td><td>&quot;Araba/Alava&quot;</td><td>&quot;Vitoria-Gasteiz&quot;</td><td>1001</td><td>9820</td></tr><tr><td>&hellip;</td><td>&hellip;</td><td>&hellip;</td><td>&hellip;</td><td>&hellip;</td><td>&hellip;</td><td>&hellip;</td><td>&hellip;</td><td>&hellip;</td><td>&hellip;</td><td>&hellip;</td><td>&hellip;</td><td>&hellip;</td><td>&hellip;</td><td>&hellip;</td><td>&hellip;</td><td>&hellip;</td><td>&hellip;</td><td>&hellip;</td><td>&hellip;</td><td>&hellip;</td><td>&hellip;</td><td>&hellip;</td></tr><tr><td>&quot;ff1f8a74e8292b11c3100a587fbe65…</td><td>2018-01-09 01:00:00 UTC</td><td>2018-05-29 00:00:00 UTC</td><td>140.0</td><td>0.383299</td><td>3360</td><td>3359</td><td>1</td><td>0.029762</td><td>2017-03-21</td><td>2018-05-28</td><td>&quot;2.0A&quot;</td><td>&quot;&quot;</td><td>1.15</td><td>null</td><td>null</td><td>null</td><td>null</td><td>null</td><td>&quot;Gipuzkoa&quot;</td><td>null</td><td>null</td><td>9810</td></tr><tr><td>&quot;ff364d641e43f98beccda3da71c73c…</td><td>2018-01-18 01:00:00 UTC</td><td>2019-07-23 00:00:00 UTC</td><td>551.0</td><td>1.508556</td><td>13224</td><td>13221</td><td>3</td><td>0.022686</td><td>2017-11-17</td><td>2019-07-22</td><td>&quot;2.0DHA&quot;</td><td>&quot;&quot;</td><td>3.45</td><td>null</td><td>null</td><td>null</td><td>null</td><td>null</td><td>&quot;Araba/Alava&quot;</td><td>null</td><td>null</td><td>9820</td></tr><tr><td>&quot;ff7485847e9b69b2d74da193c0d6a4…</td><td>2017-05-31 01:00:00 UTC</td><td>2018-01-01 00:00:00 UTC</td><td>215.0</td><td>0.588638</td><td>5160</td><td>5112</td><td>48</td><td>0.930233</td><td>2017-06-01</td><td>2017-12-31</td><td>&quot;2.0DHA&quot;</td><td>&quot;&quot;</td><td>0.345</td><td>null</td><td>null</td><td>null</td><td>null</td><td>null</td><td>&quot;Bizkaia&quot;</td><td>null</td><td>null</td><td>8411</td></tr><tr><td>&quot;ff9f9e2e6504f06216b75adc86fa07…</td><td>2018-03-08 01:00:00 UTC</td><td>2019-02-28 00:00:00 UTC</td><td>357.0</td><td>0.977413</td><td>8568</td><td>8566</td><td>2</td><td>0.023343</td><td>2015-07-22</td><td>2019-02-27</td><td>&quot;2.0DHA&quot;</td><td>&quot;&quot;</td><td>3.45</td><td>3.45</td><td>0.0</td><td>null</td><td>null</td><td>null</td><td>&quot;Bizkaia&quot;</td><td>&quot;Bilbao&quot;</td><td>48013</td><td>9820</td></tr><tr><td>&quot;ffc19d83dcd36a2497ce1e7ac11e9d…</td><td>2017-12-01 01:00:00 UTC</td><td>2019-06-26 00:00:00 UTC</td><td>572.0</td><td>1.566051</td><td>13728</td><td>13725</td><td>3</td><td>0.021853</td><td>2017-11-04</td><td>2019-06-25</td><td>&quot;2.0DHA&quot;</td><td>&quot;&quot;</td><td>2.3</td><td>null</td><td>null</td><td>null</td><td>null</td><td>null</td><td>&quot;Madrid&quot;</td><td>null</td><td>null</td><td>9820</td></tr></tbody></table></div>"
      ]
     },
     "execution_count": 16,
     "metadata": {},
     "output_type": "execute_result"
    }
   ],
   "execution_count": 16
  },
  {
   "metadata": {
    "ExecuteTime": {
     "end_time": "2025-05-12T12:04:59.672602Z",
     "start_time": "2025-05-12T12:04:59.668467Z"
    }
   },
   "cell_type": "code",
   "source": [
    "def getUniqueCount(df:pl.DataFrame, group_by:str):\n",
    "    return df.group_by(group_by).len().sort('len', descending=True)"
   ],
   "id": "7c60d02a81d67585",
   "outputs": [],
   "execution_count": 17
  },
  {
   "metadata": {
    "ExecuteTime": {
     "end_time": "2025-05-12T12:04:59.851519Z",
     "start_time": "2025-05-12T12:04:59.840989Z"
    }
   },
   "cell_type": "code",
   "source": "getUniqueCount(metadata_pre_covid, 'cnae')",
   "id": "18df6d92f3a83d26",
   "outputs": [
    {
     "data": {
      "text/plain": [
       "shape: (82, 2)\n",
       "┌──────┬─────┐\n",
       "│ cnae ┆ len │\n",
       "│ ---  ┆ --- │\n",
       "│ i64  ┆ u32 │\n",
       "╞══════╪═════╡\n",
       "│ 9820 ┆ 650 │\n",
       "│ 8411 ┆ 36  │\n",
       "│ 9810 ┆ 23  │\n",
       "│ 9821 ┆ 18  │\n",
       "│ 5210 ┆ 12  │\n",
       "│ …    ┆ …   │\n",
       "│ 8122 ┆ 1   │\n",
       "│ 5812 ┆ 1   │\n",
       "│ 4399 ┆ 1   │\n",
       "│ 4121 ┆ 1   │\n",
       "│ 4617 ┆ 1   │\n",
       "└──────┴─────┘"
      ],
      "text/html": [
       "<div><style>\n",
       ".dataframe > thead > tr,\n",
       ".dataframe > tbody > tr {\n",
       "  text-align: right;\n",
       "  white-space: pre-wrap;\n",
       "}\n",
       "</style>\n",
       "<small>shape: (82, 2)</small><table border=\"1\" class=\"dataframe\"><thead><tr><th>cnae</th><th>len</th></tr><tr><td>i64</td><td>u32</td></tr></thead><tbody><tr><td>9820</td><td>650</td></tr><tr><td>8411</td><td>36</td></tr><tr><td>9810</td><td>23</td></tr><tr><td>9821</td><td>18</td></tr><tr><td>5210</td><td>12</td></tr><tr><td>&hellip;</td><td>&hellip;</td></tr><tr><td>8122</td><td>1</td></tr><tr><td>5812</td><td>1</td></tr><tr><td>4399</td><td>1</td></tr><tr><td>4121</td><td>1</td></tr><tr><td>4617</td><td>1</td></tr></tbody></table></div>"
      ]
     },
     "execution_count": 18,
     "metadata": {},
     "output_type": "execute_result"
    }
   ],
   "execution_count": 18
  },
  {
   "metadata": {},
   "cell_type": "markdown",
   "source": "# PLOTS",
   "id": "1c59595b95fda8e2"
  },
  {
   "metadata": {
    "ExecuteTime": {
     "end_time": "2025-05-12T11:48:21.932136Z",
     "start_time": "2025-05-12T11:48:21.921663Z"
    }
   },
   "cell_type": "code",
   "source": "import seaborn as sns",
   "id": "92be3e12a21244ec",
   "outputs": [],
   "execution_count": 15
  },
  {
   "metadata": {
    "ExecuteTime": {
     "end_time": "2025-05-12T11:18:01.154742Z",
     "start_time": "2025-05-12T11:18:01.148343Z"
    }
   },
   "cell_type": "code",
   "source": [
    "df = pl.read_csv('dataset/goi4_pst/imp_csv/9d8f82f21c8e09dba6531395dac2bd59c2d11b612a23e27708764830bf966c9f.csv', try_parse_dates=True, schema_overrides={'kWh':pl.Float64})\n",
    "df.head()"
   ],
   "id": "18fb063a9ec8b01d",
   "outputs": [
    {
     "data": {
      "text/plain": [
       "shape: (5, 3)\n",
       "┌─────────────────────┬─────┬─────────┐\n",
       "│ timestamp           ┆ kWh ┆ imputed │\n",
       "│ ---                 ┆ --- ┆ ---     │\n",
       "│ datetime[μs]        ┆ f64 ┆ i64     │\n",
       "╞═════════════════════╪═════╪═════════╡\n",
       "│ 2021-05-31 00:00:00 ┆ 0.0 ┆ 0       │\n",
       "│ 2021-05-31 01:00:00 ┆ 0.0 ┆ 0       │\n",
       "│ 2021-05-31 02:00:00 ┆ 0.0 ┆ 0       │\n",
       "│ 2021-05-31 03:00:00 ┆ 0.0 ┆ 0       │\n",
       "│ 2021-05-31 04:00:00 ┆ 0.0 ┆ 0       │\n",
       "└─────────────────────┴─────┴─────────┘"
      ],
      "text/html": [
       "<div><style>\n",
       ".dataframe > thead > tr,\n",
       ".dataframe > tbody > tr {\n",
       "  text-align: right;\n",
       "  white-space: pre-wrap;\n",
       "}\n",
       "</style>\n",
       "<small>shape: (5, 3)</small><table border=\"1\" class=\"dataframe\"><thead><tr><th>timestamp</th><th>kWh</th><th>imputed</th></tr><tr><td>datetime[μs]</td><td>f64</td><td>i64</td></tr></thead><tbody><tr><td>2021-05-31 00:00:00</td><td>0.0</td><td>0</td></tr><tr><td>2021-05-31 01:00:00</td><td>0.0</td><td>0</td></tr><tr><td>2021-05-31 02:00:00</td><td>0.0</td><td>0</td></tr><tr><td>2021-05-31 03:00:00</td><td>0.0</td><td>0</td></tr><tr><td>2021-05-31 04:00:00</td><td>0.0</td><td>0</td></tr></tbody></table></div>"
      ]
     },
     "execution_count": 14,
     "metadata": {},
     "output_type": "execute_result"
    }
   ],
   "execution_count": 14
  },
  {
   "metadata": {
    "ExecuteTime": {
     "end_time": "2025-05-12T11:18:03.637095Z",
     "start_time": "2025-05-12T11:18:03.632859Z"
    }
   },
   "cell_type": "code",
   "source": [
    "def avg(df:pl.DataFrame, time_col = 'timestamp', value_col = 'kWh', period='1mo'):\n",
    "    df_avg_m = df.group_by_dynamic(time_col, every=period, period=period, closed='left').agg(\n",
    "        pl.col(value_col).mean()\n",
    "    )\n",
    "    return df_avg_m\n",
    "\n",
    "def plot(df:pl.DataFrame, time_col='timestamp', value_col='kWh', color_col='profile_id'):\n",
    "    sns.relplot(\n",
    "        data=df, kind=\"line\",\n",
    "        hue=color_col,\n",
    "        x=time_col, y=value_col)\n",
    "\n",
    "def avg_plot(df:pl.DataFrame, time_col = 'timestamp', value_col = 'kWh', period='1mo',  color_col='profile_id',):\n",
    "    df_avg_m = df.group_by_dynamic(time_col, every=period, period=period, closed='left').agg(\n",
    "        pl.col(value_col).mean()\n",
    "    )\n",
    "    sns.relplot(\n",
    "        data=df_avg_m, kind=\"line\",\n",
    "        hue=color_col,\n",
    "        x=time_col, y=value_col)\n",
    "\n",
    "    return df_avg_m"
   ],
   "id": "e74b9d5bcdaa539c",
   "outputs": [],
   "execution_count": 15
  },
  {
   "metadata": {
    "ExecuteTime": {
     "end_time": "2025-05-12T11:18:04.413509Z",
     "start_time": "2025-05-12T11:18:04.195303Z"
    }
   },
   "cell_type": "code",
   "source": "avg_plot(df, color_col=None)",
   "id": "417d4545b9a58ac9",
   "outputs": [
    {
     "data": {
      "text/plain": [
       "shape: (14, 2)\n",
       "┌─────────────────────┬───────────┐\n",
       "│ timestamp           ┆ kWh       │\n",
       "│ ---                 ┆ ---       │\n",
       "│ datetime[μs]        ┆ f64       │\n",
       "╞═════════════════════╪═══════════╡\n",
       "│ 2021-05-01 00:00:00 ┆ 0.0       │\n",
       "│ 2021-06-01 00:00:00 ┆ 0.0       │\n",
       "│ 2021-07-01 00:00:00 ┆ 0.0       │\n",
       "│ 2021-08-01 00:00:00 ┆ 0.0       │\n",
       "│ 2021-09-01 00:00:00 ┆ 0.0892875 │\n",
       "│ …                   ┆ …         │\n",
       "│ 2022-02-01 00:00:00 ┆ 0.16494   │\n",
       "│ 2022-03-01 00:00:00 ┆ 0.176119  │\n",
       "│ 2022-04-01 00:00:00 ┆ 0.145157  │\n",
       "│ 2022-05-01 00:00:00 ┆ 0.154391  │\n",
       "│ 2022-06-01 00:00:00 ┆ 0.139206  │\n",
       "└─────────────────────┴───────────┘"
      ],
      "text/html": [
       "<div><style>\n",
       ".dataframe > thead > tr,\n",
       ".dataframe > tbody > tr {\n",
       "  text-align: right;\n",
       "  white-space: pre-wrap;\n",
       "}\n",
       "</style>\n",
       "<small>shape: (14, 2)</small><table border=\"1\" class=\"dataframe\"><thead><tr><th>timestamp</th><th>kWh</th></tr><tr><td>datetime[μs]</td><td>f64</td></tr></thead><tbody><tr><td>2021-05-01 00:00:00</td><td>0.0</td></tr><tr><td>2021-06-01 00:00:00</td><td>0.0</td></tr><tr><td>2021-07-01 00:00:00</td><td>0.0</td></tr><tr><td>2021-08-01 00:00:00</td><td>0.0</td></tr><tr><td>2021-09-01 00:00:00</td><td>0.0892875</td></tr><tr><td>&hellip;</td><td>&hellip;</td></tr><tr><td>2022-02-01 00:00:00</td><td>0.16494</td></tr><tr><td>2022-03-01 00:00:00</td><td>0.176119</td></tr><tr><td>2022-04-01 00:00:00</td><td>0.145157</td></tr><tr><td>2022-05-01 00:00:00</td><td>0.154391</td></tr><tr><td>2022-06-01 00:00:00</td><td>0.139206</td></tr></tbody></table></div>"
      ]
     },
     "execution_count": 16,
     "metadata": {},
     "output_type": "execute_result"
    },
    {
     "data": {
      "text/plain": [
       "<Figure size 500x500 with 1 Axes>"
      ],
      "image/png": "[encoded data removed]"
     },
     "metadata": {},
     "output_type": "display_data"
    }
   ],
   "execution_count": 16
  },
  {
   "metadata": {},
   "cell_type": "markdown",
   "source": [
    "# LIST OF HOUSEHOLD PROFILES\n",
    "\n",
    "T - 97XX-98XX Activities of households\n",
    "\n",
    "https://www.nature.com/articles/s41597-023-02846-0/tables/1"
   ],
   "id": "902f337a9d8a6f77"
  },
  {
   "metadata": {
    "ExecuteTime": {
     "end_time": "2025-05-12T12:05:06.255915Z",
     "start_time": "2025-05-12T12:05:06.243926Z"
    }
   },
   "cell_type": "code",
   "source": [
    "household_365_filter = (pl.col('cnae') > 9699) & (pl.col('cnae') < 9849) & (pl.col('length_years') >= 0.99)\n",
    "# household_filter = (pl.col('cnae') > 9699) & (pl.col('cnae') < 9849)\n",
    "\n",
    "metadata_pre_household_activities = metadata_pre_covid.filter(household_365_filter)\n",
    "household_profiles = metadata_pre_household_activities['user'].unique().to_list()\n",
    "len(household_profiles)"
   ],
   "id": "acffe1aa46c01886",
   "outputs": [
    {
     "data": {
      "text/plain": [
       "388"
      ]
     },
     "execution_count": 19,
     "metadata": {},
     "output_type": "execute_result"
    }
   ],
   "execution_count": 19
  },
  {
   "metadata": {
    "ExecuteTime": {
     "end_time": "2025-05-12T12:05:41.515371Z",
     "start_time": "2025-05-12T12:05:41.490522Z"
    }
   },
   "cell_type": "code",
   "source": "household_stats = metadata_pre_household_activities.describe()",
   "id": "70b3cdf0c2f5400d",
   "outputs": [],
   "execution_count": 20
  },
  {
   "metadata": {
    "ExecuteTime": {
     "end_time": "2025-05-12T12:05:41.978583Z",
     "start_time": "2025-05-12T12:05:41.972204Z"
    }
   },
   "cell_type": "code",
   "source": [
    "min_days_household_stat = int(household_stats.filter(pl.col('statistic') == \"min\")['length_days'][0])\n",
    "max_days_household_stat = int(household_stats.filter(pl.col('statistic') == \"max\")['length_days'][0])"
   ],
   "id": "d98ce2d2312a524",
   "outputs": [],
   "execution_count": 21
  },
  {
   "metadata": {
    "ExecuteTime": {
     "end_time": "2025-05-12T12:06:00.369259Z",
     "start_time": "2025-05-12T12:05:47.360124Z"
    }
   },
   "cell_type": "code",
   "source": [
    "range_min_max_household_stat = range(min_days_household_stat, max_days_household_stat)\n",
    "\n",
    "pre_household_users_length_days_cum = [len(metadata_pre_household_activities.filter(pl.col('length_days') >= n_day)['user'].unique().to_list())  for n_day in range_min_max_household_stat]\n",
    "pre_users_length_days_cum = [len(metadata_pre_covid.filter(pl.col('length_days') >= n_day)['user'].unique().to_list())  for n_day in range_min_max_household_stat]\n",
    "users_length_days_cum = [len(metadata.filter(pl.col('length_days') >= n_day)['user'].unique().to_list())  for n_day in range_min_max_household_stat]\n"
   ],
   "id": "d079c7c27caf7db4",
   "outputs": [],
   "execution_count": 22
  },
  {
   "metadata": {
    "ExecuteTime": {
     "end_time": "2025-05-12T13:10:37.818850Z",
     "start_time": "2025-05-12T13:10:37.814081Z"
    }
   },
   "cell_type": "code",
   "source": [
    "df_n_users = pl.DataFrame({\n",
    "    \"Min days present\": range_min_max_household_stat,\n",
    "    \"# users (pre-COVID, household)\": pre_household_users_length_days_cum,\n",
    "    \"# users (pre-COVID)\": pre_users_length_days_cum,\n",
    "    \"# users (all)\": users_length_days_cum,\n",
    "})"
   ],
   "id": "f903f0fa123a79c",
   "outputs": [],
   "execution_count": 28
  },
  {
   "metadata": {
    "ExecuteTime": {
     "end_time": "2025-05-12T13:10:40.201991Z",
     "start_time": "2025-05-12T13:10:40.197511Z"
    }
   },
   "cell_type": "code",
   "source": "df_n_users",
   "id": "9fbd164dd3b57ffe",
   "outputs": [
    {
     "data": {
      "text/plain": [
       "shape: (1_490, 4)\n",
       "┌──────────────────┬────────────────────────────────┬─────────────────────┬───────────────┐\n",
       "│ Min days present ┆ # users (pre-COVID, household) ┆ # users (pre-COVID) ┆ # users (all) │\n",
       "│ ---              ┆ ---                            ┆ ---                 ┆ ---           │\n",
       "│ i64              ┆ i64                            ┆ i64                 ┆ i64           │\n",
       "╞══════════════════╪════════════════════════════════╪═════════════════════╪═══════════════╡\n",
       "│ 362              ┆ 388                            ┆ 468                 ┆ 20487         │\n",
       "│ 363              ┆ 386                            ┆ 466                 ┆ 20452         │\n",
       "│ 364              ┆ 385                            ┆ 465                 ┆ 20442         │\n",
       "│ 365              ┆ 385                            ┆ 464                 ┆ 20438         │\n",
       "│ 366              ┆ 380                            ┆ 459                 ┆ 20420         │\n",
       "│ …                ┆ …                              ┆ …                   ┆ …             │\n",
       "│ 1847             ┆ 1                              ┆ 1                   ┆ 33            │\n",
       "│ 1848             ┆ 1                              ┆ 1                   ┆ 32            │\n",
       "│ 1849             ┆ 1                              ┆ 1                   ┆ 32            │\n",
       "│ 1850             ┆ 1                              ┆ 1                   ┆ 32            │\n",
       "│ 1851             ┆ 1                              ┆ 1                   ┆ 32            │\n",
       "└──────────────────┴────────────────────────────────┴─────────────────────┴───────────────┘"
      ],
      "text/html": [
       "<div><style>\n",
       ".dataframe > thead > tr,\n",
       ".dataframe > tbody > tr {\n",
       "  text-align: right;\n",
       "  white-space: pre-wrap;\n",
       "}\n",
       "</style>\n",
       "<small>shape: (1_490, 4)</small><table border=\"1\" class=\"dataframe\"><thead><tr><th>Min days present</th><th># users (pre-COVID, household)</th><th># users (pre-COVID)</th><th># users (all)</th></tr><tr><td>i64</td><td>i64</td><td>i64</td><td>i64</td></tr></thead><tbody><tr><td>362</td><td>388</td><td>468</td><td>20487</td></tr><tr><td>363</td><td>386</td><td>466</td><td>20452</td></tr><tr><td>364</td><td>385</td><td>465</td><td>20442</td></tr><tr><td>365</td><td>385</td><td>464</td><td>20438</td></tr><tr><td>366</td><td>380</td><td>459</td><td>20420</td></tr><tr><td>&hellip;</td><td>&hellip;</td><td>&hellip;</td><td>&hellip;</td></tr><tr><td>1847</td><td>1</td><td>1</td><td>33</td></tr><tr><td>1848</td><td>1</td><td>1</td><td>32</td></tr><tr><td>1849</td><td>1</td><td>1</td><td>32</td></tr><tr><td>1850</td><td>1</td><td>1</td><td>32</td></tr><tr><td>1851</td><td>1</td><td>1</td><td>32</td></tr></tbody></table></div>"
      ]
     },
     "execution_count": 29,
     "metadata": {},
     "output_type": "execute_result"
    }
   ],
   "execution_count": 29
  },
  {
   "metadata": {
    "ExecuteTime": {
     "end_time": "2025-05-12T13:10:42.902141Z",
     "start_time": "2025-05-12T13:10:42.894341Z"
    }
   },
   "cell_type": "code",
   "source": [
    "dfm = df_n_users.unpivot(index = df_n_users.columns[0], variable_name='cols', value_name='# users')\n",
    "dfm"
   ],
   "id": "9761f5fb2bbd7995",
   "outputs": [
    {
     "data": {
      "text/plain": [
       "shape: (4_470, 3)\n",
       "┌──────────────────┬────────────────────────────────┬─────────┐\n",
       "│ Min days present ┆ cols                           ┆ # users │\n",
       "│ ---              ┆ ---                            ┆ ---     │\n",
       "│ i64              ┆ str                            ┆ i64     │\n",
       "╞══════════════════╪════════════════════════════════╪═════════╡\n",
       "│ 362              ┆ # users (pre-COVID, household) ┆ 388     │\n",
       "│ 363              ┆ # users (pre-COVID, household) ┆ 386     │\n",
       "│ 364              ┆ # users (pre-COVID, household) ┆ 385     │\n",
       "│ 365              ┆ # users (pre-COVID, household) ┆ 385     │\n",
       "│ 366              ┆ # users (pre-COVID, household) ┆ 380     │\n",
       "│ …                ┆ …                              ┆ …       │\n",
       "│ 1847             ┆ # users (all)                  ┆ 33      │\n",
       "│ 1848             ┆ # users (all)                  ┆ 32      │\n",
       "│ 1849             ┆ # users (all)                  ┆ 32      │\n",
       "│ 1850             ┆ # users (all)                  ┆ 32      │\n",
       "│ 1851             ┆ # users (all)                  ┆ 32      │\n",
       "└──────────────────┴────────────────────────────────┴─────────┘"
      ],
      "text/html": [
       "<div><style>\n",
       ".dataframe > thead > tr,\n",
       ".dataframe > tbody > tr {\n",
       "  text-align: right;\n",
       "  white-space: pre-wrap;\n",
       "}\n",
       "</style>\n",
       "<small>shape: (4_470, 3)</small><table border=\"1\" class=\"dataframe\"><thead><tr><th>Min days present</th><th>cols</th><th># users</th></tr><tr><td>i64</td><td>str</td><td>i64</td></tr></thead><tbody><tr><td>362</td><td>&quot;# users (pre-COVID, household)&quot;</td><td>388</td></tr><tr><td>363</td><td>&quot;# users (pre-COVID, household)&quot;</td><td>386</td></tr><tr><td>364</td><td>&quot;# users (pre-COVID, household)&quot;</td><td>385</td></tr><tr><td>365</td><td>&quot;# users (pre-COVID, household)&quot;</td><td>385</td></tr><tr><td>366</td><td>&quot;# users (pre-COVID, household)&quot;</td><td>380</td></tr><tr><td>&hellip;</td><td>&hellip;</td><td>&hellip;</td></tr><tr><td>1847</td><td>&quot;# users (all)&quot;</td><td>33</td></tr><tr><td>1848</td><td>&quot;# users (all)&quot;</td><td>32</td></tr><tr><td>1849</td><td>&quot;# users (all)&quot;</td><td>32</td></tr><tr><td>1850</td><td>&quot;# users (all)&quot;</td><td>32</td></tr><tr><td>1851</td><td>&quot;# users (all)&quot;</td><td>32</td></tr></tbody></table></div>"
      ]
     },
     "execution_count": 30,
     "metadata": {},
     "output_type": "execute_result"
    }
   ],
   "execution_count": 30
  },
  {
   "metadata": {
    "ExecuteTime": {
     "end_time": "2025-05-12T13:10:44.730444Z",
     "start_time": "2025-05-12T13:10:44.427772Z"
    }
   },
   "cell_type": "code",
   "source": [
    "p = sns.lineplot(data = dfm,\n",
    "             x = dfm.columns[0], y= dfm.columns[-1], hue='cols')\n",
    "p.set_title(\"Number of users available\")"
   ],
   "id": "34d1b8eb727a2834",
   "outputs": [
    {
     "data": {
      "text/plain": [
       "Text(0.5, 1.0, 'Number of users available')"
      ]
     },
     "execution_count": 31,
     "metadata": {},
     "output_type": "execute_result"
    },
    {
     "data": {
      "text/plain": [
       "<Figure size 640x480 with 1 Axes>"
      ],
      "image/png": "[encoded data removed]"
     },
     "metadata": {},
     "output_type": "display_data"
    }
   ],
   "execution_count": 31
  },
  {
   "metadata": {},
   "cell_type": "markdown",
   "source": "# COMBINE",
   "id": "79abd8da4f453288"
  },
  {
   "metadata": {
    "ExecuteTime": {
     "end_time": "2025-05-12T13:12:29.877848Z",
     "start_time": "2025-05-12T13:12:29.872940Z"
    }
   },
   "cell_type": "code",
   "source": "import glob",
   "id": "218e812af70aa517",
   "outputs": [],
   "execution_count": 32
  },
  {
   "metadata": {
    "ExecuteTime": {
     "end_time": "2025-05-12T13:12:32.359147Z",
     "start_time": "2025-05-12T13:12:32.265492Z"
    }
   },
   "cell_type": "code",
   "source": [
    "source_folder = 'dataset/goi4_pre/imp_csv'\n",
    "csv_files = glob.glob(f\"{source_folder}/*.csv\")"
   ],
   "id": "2487eb0e1f80285c",
   "outputs": [],
   "execution_count": 33
  },
  {
   "metadata": {
    "ExecuteTime": {
     "end_time": "2025-05-12T13:12:36.012054Z",
     "start_time": "2025-05-12T13:12:36.000345Z"
    }
   },
   "cell_type": "code",
   "source": [
    "df_household_activities = metadata_pre_household_activities.filter(household_365_filter)\n",
    "household_profiles = df_household_activities['user'].unique().to_list()\n",
    "len(household_profiles)"
   ],
   "id": "1b1404b771c8143b",
   "outputs": [
    {
     "data": {
      "text/plain": [
       "388"
      ]
     },
     "execution_count": 34,
     "metadata": {},
     "output_type": "execute_result"
    }
   ],
   "execution_count": 34
  },
  {
   "metadata": {
    "ExecuteTime": {
     "end_time": "2025-05-12T13:12:42.907314Z",
     "start_time": "2025-05-12T13:12:41.051567Z"
    }
   },
   "cell_type": "code",
   "source": [
    "dataframes = pl.DataFrame()\n",
    "for csv_file in csv_files:\n",
    "    # print(f\"processing {csv_file}\")\n",
    "    profile_id = csv_file.split('/')[-1].split('.')[0]\n",
    "    if profile_id not in household_profiles:\n",
    "        # print(f\"skipping {csv_file}\")\n",
    "        continue\n",
    "\n",
    "    df = pl.read_csv(csv_file, try_parse_dates=True, schema_overrides={'kWh':pl.Float64})\n",
    "    # print(df.head())\n",
    "    df = df.with_columns(pl.lit(profile_id).alias('profile_id'))\n",
    "    if not dataframes.columns:\n",
    "        dataframes = df.clone()\n",
    "        continue\n",
    "    dataframes.extend(df)\n",
    "\n",
    "dataframes.head()"
   ],
   "id": "b520e2f7e3d2661c",
   "outputs": [
    {
     "data": {
      "text/plain": [
       "shape: (5, 4)\n",
       "┌─────────────────────┬───────┬─────────┬─────────────────────────────────┐\n",
       "│ timestamp           ┆ kWh   ┆ imputed ┆ profile_id                      │\n",
       "│ ---                 ┆ ---   ┆ ---     ┆ ---                             │\n",
       "│ datetime[μs]        ┆ f64   ┆ i64     ┆ str                             │\n",
       "╞═════════════════════╪═══════╪═════════╪═════════════════════════════════╡\n",
       "│ 2017-05-31 01:00:00 ┆ 0.785 ┆ 0       ┆ f4adb8579bde3666d0b784204add18… │\n",
       "│ 2017-05-31 02:00:00 ┆ 1.138 ┆ 0       ┆ f4adb8579bde3666d0b784204add18… │\n",
       "│ 2017-05-31 03:00:00 ┆ 0.771 ┆ 0       ┆ f4adb8579bde3666d0b784204add18… │\n",
       "│ 2017-05-31 04:00:00 ┆ 0.981 ┆ 0       ┆ f4adb8579bde3666d0b784204add18… │\n",
       "│ 2017-05-31 05:00:00 ┆ 0.891 ┆ 0       ┆ f4adb8579bde3666d0b784204add18… │\n",
       "└─────────────────────┴───────┴─────────┴─────────────────────────────────┘"
      ],
      "text/html": [
       "<div><style>\n",
       ".dataframe > thead > tr,\n",
       ".dataframe > tbody > tr {\n",
       "  text-align: right;\n",
       "  white-space: pre-wrap;\n",
       "}\n",
       "</style>\n",
       "<small>shape: (5, 4)</small><table border=\"1\" class=\"dataframe\"><thead><tr><th>timestamp</th><th>kWh</th><th>imputed</th><th>profile_id</th></tr><tr><td>datetime[μs]</td><td>f64</td><td>i64</td><td>str</td></tr></thead><tbody><tr><td>2017-05-31 01:00:00</td><td>0.785</td><td>0</td><td>&quot;f4adb8579bde3666d0b784204add18…</td></tr><tr><td>2017-05-31 02:00:00</td><td>1.138</td><td>0</td><td>&quot;f4adb8579bde3666d0b784204add18…</td></tr><tr><td>2017-05-31 03:00:00</td><td>0.771</td><td>0</td><td>&quot;f4adb8579bde3666d0b784204add18…</td></tr><tr><td>2017-05-31 04:00:00</td><td>0.981</td><td>0</td><td>&quot;f4adb8579bde3666d0b784204add18…</td></tr><tr><td>2017-05-31 05:00:00</td><td>0.891</td><td>0</td><td>&quot;f4adb8579bde3666d0b784204add18…</td></tr></tbody></table></div>"
      ]
     },
     "execution_count": 35,
     "metadata": {},
     "output_type": "execute_result"
    }
   ],
   "execution_count": 35
  },
  {
   "metadata": {
    "ExecuteTime": {
     "end_time": "2025-05-12T13:13:02.049547Z",
     "start_time": "2025-05-12T13:13:01.160312Z"
    }
   },
   "cell_type": "code",
   "source": "dataframes.write_csv(\"dataset/goi4_pre/household_activities_all.csv\")",
   "id": "15fd63ff2de19311",
   "outputs": [],
   "execution_count": 36
  },
  {
   "metadata": {
    "ExecuteTime": {
     "end_time": "2025-05-12T13:13:07.369050Z",
     "start_time": "2025-05-12T13:13:05.491903Z"
    }
   },
   "cell_type": "code",
   "source": [
    "dataframes = pl.read_csv(\"dataset/goi4_pre/household_activities_all.csv\")\n",
    "dataframes.head()"
   ],
   "id": "86c145517e25f977",
   "outputs": [
    {
     "data": {
      "text/plain": [
       "shape: (5, 4)\n",
       "┌────────────────────────────┬───────┬─────────┬─────────────────────────────────┐\n",
       "│ timestamp                  ┆ kWh   ┆ imputed ┆ profile_id                      │\n",
       "│ ---                        ┆ ---   ┆ ---     ┆ ---                             │\n",
       "│ str                        ┆ f64   ┆ i64     ┆ str                             │\n",
       "╞════════════════════════════╪═══════╪═════════╪═════════════════════════════════╡\n",
       "│ 2017-05-31T01:00:00.000000 ┆ 0.785 ┆ 0       ┆ f4adb8579bde3666d0b784204add18… │\n",
       "│ 2017-05-31T02:00:00.000000 ┆ 1.138 ┆ 0       ┆ f4adb8579bde3666d0b784204add18… │\n",
       "│ 2017-05-31T03:00:00.000000 ┆ 0.771 ┆ 0       ┆ f4adb8579bde3666d0b784204add18… │\n",
       "│ 2017-05-31T04:00:00.000000 ┆ 0.981 ┆ 0       ┆ f4adb8579bde3666d0b784204add18… │\n",
       "│ 2017-05-31T05:00:00.000000 ┆ 0.891 ┆ 0       ┆ f4adb8579bde3666d0b784204add18… │\n",
       "└────────────────────────────┴───────┴─────────┴─────────────────────────────────┘"
      ],
      "text/html": [
       "<div><style>\n",
       ".dataframe > thead > tr,\n",
       ".dataframe > tbody > tr {\n",
       "  text-align: right;\n",
       "  white-space: pre-wrap;\n",
       "}\n",
       "</style>\n",
       "<small>shape: (5, 4)</small><table border=\"1\" class=\"dataframe\"><thead><tr><th>timestamp</th><th>kWh</th><th>imputed</th><th>profile_id</th></tr><tr><td>str</td><td>f64</td><td>i64</td><td>str</td></tr></thead><tbody><tr><td>&quot;2017-05-31T01:00:00.000000&quot;</td><td>0.785</td><td>0</td><td>&quot;f4adb8579bde3666d0b784204add18…</td></tr><tr><td>&quot;2017-05-31T02:00:00.000000&quot;</td><td>1.138</td><td>0</td><td>&quot;f4adb8579bde3666d0b784204add18…</td></tr><tr><td>&quot;2017-05-31T03:00:00.000000&quot;</td><td>0.771</td><td>0</td><td>&quot;f4adb8579bde3666d0b784204add18…</td></tr><tr><td>&quot;2017-05-31T04:00:00.000000&quot;</td><td>0.981</td><td>0</td><td>&quot;f4adb8579bde3666d0b784204add18…</td></tr><tr><td>&quot;2017-05-31T05:00:00.000000&quot;</td><td>0.891</td><td>0</td><td>&quot;f4adb8579bde3666d0b784204add18…</td></tr></tbody></table></div>"
      ]
     },
     "execution_count": 37,
     "metadata": {},
     "output_type": "execute_result"
    }
   ],
   "execution_count": 37
  },
  {
   "metadata": {
    "jupyter": {
     "is_executing": true
    },
    "ExecuteTime": {
     "start_time": "2025-05-12T09:32:12.264230Z"
    }
   },
   "cell_type": "code",
   "outputs": [],
   "execution_count": null,
   "source": [
    "df_avg = dataframes.group_by_dynamic('timestamp', group_by= 'profile_id', every='1mo', period='1mo', closed='right').agg(\n",
    "        pl.col('kWh').mean()\n",
    "    )\n",
    "df_avg.head()"
   ],
   "id": "dd66f0fc576cb614"
  },
  {
   "metadata": {
    "ExecuteTime": {
     "end_time": "2025-04-09T15:13:31.845199Z",
     "start_time": "2025-04-09T15:13:29.980577Z"
    }
   },
   "cell_type": "code",
   "source": [
    "_df = dataframes.filter((pl.col('profile_id').str.starts_with('50')))\n",
    "_df"
   ],
   "id": "973db38e890c597",
   "outputs": [
    {
     "data": {
      "text/plain": [
       "shape: (577_025, 4)\n",
       "┌─────────────────────┬───────┬─────────┬─────────────────────────────────┐\n",
       "│ timestamp           ┆ kWh   ┆ imputed ┆ profile_id                      │\n",
       "│ ---                 ┆ ---   ┆ ---     ┆ ---                             │\n",
       "│ datetime[μs]        ┆ f64   ┆ i64     ┆ str                             │\n",
       "╞═════════════════════╪═══════╪═════════╪═════════════════════════════════╡\n",
       "│ 2021-05-31 00:00:00 ┆ 0.344 ┆ 0       ┆ 50763044cb11d4c00dea544f8c418e… │\n",
       "│ 2021-05-31 01:00:00 ┆ 0.11  ┆ 0       ┆ 50763044cb11d4c00dea544f8c418e… │\n",
       "│ 2021-05-31 02:00:00 ┆ 0.106 ┆ 0       ┆ 50763044cb11d4c00dea544f8c418e… │\n",
       "│ 2021-05-31 03:00:00 ┆ 0.082 ┆ 0       ┆ 50763044cb11d4c00dea544f8c418e… │\n",
       "│ 2021-05-31 04:00:00 ┆ 0.133 ┆ 0       ┆ 50763044cb11d4c00dea544f8c418e… │\n",
       "│ …                   ┆ …     ┆ …       ┆ …                               │\n",
       "│ 2022-06-04 20:00:00 ┆ 0.044 ┆ 0       ┆ 50da64c7686a499cab8342c724e57b… │\n",
       "│ 2022-06-04 21:00:00 ┆ 0.086 ┆ 0       ┆ 50da64c7686a499cab8342c724e57b… │\n",
       "│ 2022-06-04 22:00:00 ┆ 0.075 ┆ 0       ┆ 50da64c7686a499cab8342c724e57b… │\n",
       "│ 2022-06-04 23:00:00 ┆ 0.101 ┆ 0       ┆ 50da64c7686a499cab8342c724e57b… │\n",
       "│ 2022-06-05 00:00:00 ┆ 0.203 ┆ 0       ┆ 50da64c7686a499cab8342c724e57b… │\n",
       "└─────────────────────┴───────┴─────────┴─────────────────────────────────┘"
      ],
      "text/html": [
       "<div><style>\n",
       ".dataframe > thead > tr,\n",
       ".dataframe > tbody > tr {\n",
       "  text-align: right;\n",
       "  white-space: pre-wrap;\n",
       "}\n",
       "</style>\n",
       "<small>shape: (577_025, 4)</small><table border=\"1\" class=\"dataframe\"><thead><tr><th>timestamp</th><th>kWh</th><th>imputed</th><th>profile_id</th></tr><tr><td>datetime[μs]</td><td>f64</td><td>i64</td><td>str</td></tr></thead><tbody><tr><td>2021-05-31 00:00:00</td><td>0.344</td><td>0</td><td>&quot;50763044cb11d4c00dea544f8c418e…</td></tr><tr><td>2021-05-31 01:00:00</td><td>0.11</td><td>0</td><td>&quot;50763044cb11d4c00dea544f8c418e…</td></tr><tr><td>2021-05-31 02:00:00</td><td>0.106</td><td>0</td><td>&quot;50763044cb11d4c00dea544f8c418e…</td></tr><tr><td>2021-05-31 03:00:00</td><td>0.082</td><td>0</td><td>&quot;50763044cb11d4c00dea544f8c418e…</td></tr><tr><td>2021-05-31 04:00:00</td><td>0.133</td><td>0</td><td>&quot;50763044cb11d4c00dea544f8c418e…</td></tr><tr><td>&hellip;</td><td>&hellip;</td><td>&hellip;</td><td>&hellip;</td></tr><tr><td>2022-06-04 20:00:00</td><td>0.044</td><td>0</td><td>&quot;50da64c7686a499cab8342c724e57b…</td></tr><tr><td>2022-06-04 21:00:00</td><td>0.086</td><td>0</td><td>&quot;50da64c7686a499cab8342c724e57b…</td></tr><tr><td>2022-06-04 22:00:00</td><td>0.075</td><td>0</td><td>&quot;50da64c7686a499cab8342c724e57b…</td></tr><tr><td>2022-06-04 23:00:00</td><td>0.101</td><td>0</td><td>&quot;50da64c7686a499cab8342c724e57b…</td></tr><tr><td>2022-06-05 00:00:00</td><td>0.203</td><td>0</td><td>&quot;50da64c7686a499cab8342c724e57b…</td></tr></tbody></table></div>"
      ]
     },
     "execution_count": 56,
     "metadata": {},
     "output_type": "execute_result"
    }
   ],
   "execution_count": 56
  },
  {
   "metadata": {
    "ExecuteTime": {
     "end_time": "2025-05-12T13:19:25.239460Z",
     "start_time": "2025-05-12T13:13:31.183949Z"
    }
   },
   "cell_type": "code",
   "source": [
    "sns.relplot(\n",
    "    data=dataframes, kind=\"line\",\n",
    "    hue='profile_id', legend=False,\n",
    "    x='timestamp', y='kWh',\n",
    "    height=6, aspect=2,\n",
    "    )\n"
   ],
   "id": "7d5e55e03d995028",
   "outputs": [
    {
     "data": {
      "text/plain": [
       "<seaborn.axisgrid.FacetGrid at 0x127919550>"
      ]
     },
     "execution_count": 39,
     "metadata": {},
     "output_type": "execute_result"
    },
    {
     "name": "stdout",
     "output_type": "stream",
     "text": [
      "Error in callback <function flush_figures at 0x29bc12200> (for post_execute), with arguments args (),kwargs {}:\n"
     ]
    },
    {
     "ename": "KeyboardInterrupt",
     "evalue": "",
     "output_type": "error",
     "traceback": [
      "\u001B[31m---------------------------------------------------------------------------\u001B[39m",
      "\u001B[31mKeyboardInterrupt\u001B[39m                         Traceback (most recent call last)",
      "\u001B[36mFile \u001B[39m\u001B[32m~/phd/dev/GoiEner-dataset/.venv/lib/python3.13/site-packages/matplotlib_inline/backend_inline.py:126\u001B[39m, in \u001B[36mflush_figures\u001B[39m\u001B[34m()\u001B[39m\n\u001B[32m    123\u001B[39m \u001B[38;5;28;01mif\u001B[39;00m InlineBackend.instance().close_figures:\n\u001B[32m    124\u001B[39m     \u001B[38;5;66;03m# ignore the tracking, just draw and close all figures\u001B[39;00m\n\u001B[32m    125\u001B[39m     \u001B[38;5;28;01mtry\u001B[39;00m:\n\u001B[32m--> \u001B[39m\u001B[32m126\u001B[39m         \u001B[38;5;28;01mreturn\u001B[39;00m \u001B[43mshow\u001B[49m\u001B[43m(\u001B[49m\u001B[38;5;28;43;01mTrue\u001B[39;49;00m\u001B[43m)\u001B[49m\n\u001B[32m    127\u001B[39m     \u001B[38;5;28;01mexcept\u001B[39;00m \u001B[38;5;167;01mException\u001B[39;00m \u001B[38;5;28;01mas\u001B[39;00m e:\n\u001B[32m    128\u001B[39m         \u001B[38;5;66;03m# safely show traceback if in IPython, else raise\u001B[39;00m\n\u001B[32m    129\u001B[39m         ip = get_ipython()\n",
      "\u001B[36mFile \u001B[39m\u001B[32m~/phd/dev/GoiEner-dataset/.venv/lib/python3.13/site-packages/matplotlib_inline/backend_inline.py:90\u001B[39m, in \u001B[36mshow\u001B[39m\u001B[34m(close, block)\u001B[39m\n\u001B[32m     88\u001B[39m \u001B[38;5;28;01mtry\u001B[39;00m:\n\u001B[32m     89\u001B[39m     \u001B[38;5;28;01mfor\u001B[39;00m figure_manager \u001B[38;5;129;01min\u001B[39;00m Gcf.get_all_fig_managers():\n\u001B[32m---> \u001B[39m\u001B[32m90\u001B[39m         \u001B[43mdisplay\u001B[49m\u001B[43m(\u001B[49m\n\u001B[32m     91\u001B[39m \u001B[43m            \u001B[49m\u001B[43mfigure_manager\u001B[49m\u001B[43m.\u001B[49m\u001B[43mcanvas\u001B[49m\u001B[43m.\u001B[49m\u001B[43mfigure\u001B[49m\u001B[43m,\u001B[49m\n\u001B[32m     92\u001B[39m \u001B[43m            \u001B[49m\u001B[43mmetadata\u001B[49m\u001B[43m=\u001B[49m\u001B[43m_fetch_figure_metadata\u001B[49m\u001B[43m(\u001B[49m\u001B[43mfigure_manager\u001B[49m\u001B[43m.\u001B[49m\u001B[43mcanvas\u001B[49m\u001B[43m.\u001B[49m\u001B[43mfigure\u001B[49m\u001B[43m)\u001B[49m\n\u001B[32m     93\u001B[39m \u001B[43m        \u001B[49m\u001B[43m)\u001B[49m\n\u001B[32m     94\u001B[39m \u001B[38;5;28;01mfinally\u001B[39;00m:\n\u001B[32m     95\u001B[39m     show._to_draw = []\n",
      "\u001B[36mFile \u001B[39m\u001B[32m~/phd/dev/GoiEner-dataset/.venv/lib/python3.13/site-packages/IPython/core/display_functions.py:278\u001B[39m, in \u001B[36mdisplay\u001B[39m\u001B[34m(include, exclude, metadata, transient, display_id, raw, clear, *objs, **kwargs)\u001B[39m\n\u001B[32m    276\u001B[39m     publish_display_data(data=obj, metadata=metadata, **kwargs)\n\u001B[32m    277\u001B[39m \u001B[38;5;28;01melse\u001B[39;00m:\n\u001B[32m--> \u001B[39m\u001B[32m278\u001B[39m     format_dict, md_dict = \u001B[38;5;28;43mformat\u001B[39;49m\u001B[43m(\u001B[49m\u001B[43mobj\u001B[49m\u001B[43m,\u001B[49m\u001B[43m \u001B[49m\u001B[43minclude\u001B[49m\u001B[43m=\u001B[49m\u001B[43minclude\u001B[49m\u001B[43m,\u001B[49m\u001B[43m \u001B[49m\u001B[43mexclude\u001B[49m\u001B[43m=\u001B[49m\u001B[43mexclude\u001B[49m\u001B[43m)\u001B[49m\n\u001B[32m    279\u001B[39m     \u001B[38;5;28;01mif\u001B[39;00m \u001B[38;5;129;01mnot\u001B[39;00m format_dict:\n\u001B[32m    280\u001B[39m         \u001B[38;5;66;03m# nothing to display (e.g. _ipython_display_ took over)\u001B[39;00m\n\u001B[32m    281\u001B[39m         \u001B[38;5;28;01mcontinue\u001B[39;00m\n",
      "\u001B[36mFile \u001B[39m\u001B[32m~/phd/dev/GoiEner-dataset/.venv/lib/python3.13/site-packages/IPython/core/formatters.py:238\u001B[39m, in \u001B[36mDisplayFormatter.format\u001B[39m\u001B[34m(self, obj, include, exclude)\u001B[39m\n\u001B[32m    236\u001B[39m md = \u001B[38;5;28;01mNone\u001B[39;00m\n\u001B[32m    237\u001B[39m \u001B[38;5;28;01mtry\u001B[39;00m:\n\u001B[32m--> \u001B[39m\u001B[32m238\u001B[39m     data = \u001B[43mformatter\u001B[49m\u001B[43m(\u001B[49m\u001B[43mobj\u001B[49m\u001B[43m)\u001B[49m\n\u001B[32m    239\u001B[39m \u001B[38;5;28;01mexcept\u001B[39;00m:\n\u001B[32m    240\u001B[39m     \u001B[38;5;66;03m# FIXME: log the exception\u001B[39;00m\n\u001B[32m    241\u001B[39m     \u001B[38;5;28;01mraise\u001B[39;00m\n",
      "\u001B[36mFile \u001B[39m\u001B[32m~/phd/dev/GoiEner-dataset/.venv/lib/python3.13/site-packages/decorator.py:235\u001B[39m, in \u001B[36mdecorate.<locals>.fun\u001B[39m\u001B[34m(*args, **kw)\u001B[39m\n\u001B[32m    233\u001B[39m \u001B[38;5;28;01mif\u001B[39;00m \u001B[38;5;129;01mnot\u001B[39;00m kwsyntax:\n\u001B[32m    234\u001B[39m     args, kw = fix(args, kw, sig)\n\u001B[32m--> \u001B[39m\u001B[32m235\u001B[39m \u001B[38;5;28;01mreturn\u001B[39;00m \u001B[43mcaller\u001B[49m\u001B[43m(\u001B[49m\u001B[43mfunc\u001B[49m\u001B[43m,\u001B[49m\u001B[43m \u001B[49m\u001B[43m*\u001B[49m\u001B[43m(\u001B[49m\u001B[43mextras\u001B[49m\u001B[43m \u001B[49m\u001B[43m+\u001B[49m\u001B[43m \u001B[49m\u001B[43margs\u001B[49m\u001B[43m)\u001B[49m\u001B[43m,\u001B[49m\u001B[43m \u001B[49m\u001B[43m*\u001B[49m\u001B[43m*\u001B[49m\u001B[43mkw\u001B[49m\u001B[43m)\u001B[49m\n",
      "\u001B[36mFile \u001B[39m\u001B[32m~/phd/dev/GoiEner-dataset/.venv/lib/python3.13/site-packages/IPython/core/formatters.py:282\u001B[39m, in \u001B[36mcatch_format_error\u001B[39m\u001B[34m(method, self, *args, **kwargs)\u001B[39m\n\u001B[32m    280\u001B[39m \u001B[38;5;250m\u001B[39m\u001B[33;03m\"\"\"show traceback on failed format call\"\"\"\u001B[39;00m\n\u001B[32m    281\u001B[39m \u001B[38;5;28;01mtry\u001B[39;00m:\n\u001B[32m--> \u001B[39m\u001B[32m282\u001B[39m     r = \u001B[43mmethod\u001B[49m\u001B[43m(\u001B[49m\u001B[38;5;28;43mself\u001B[39;49m\u001B[43m,\u001B[49m\u001B[43m \u001B[49m\u001B[43m*\u001B[49m\u001B[43margs\u001B[49m\u001B[43m,\u001B[49m\u001B[43m \u001B[49m\u001B[43m*\u001B[49m\u001B[43m*\u001B[49m\u001B[43mkwargs\u001B[49m\u001B[43m)\u001B[49m\n\u001B[32m    283\u001B[39m \u001B[38;5;28;01mexcept\u001B[39;00m \u001B[38;5;167;01mNotImplementedError\u001B[39;00m:\n\u001B[32m    284\u001B[39m     \u001B[38;5;66;03m# don't warn on NotImplementedErrors\u001B[39;00m\n\u001B[32m    285\u001B[39m     \u001B[38;5;28;01mreturn\u001B[39;00m \u001B[38;5;28mself\u001B[39m._check_return(\u001B[38;5;28;01mNone\u001B[39;00m, args[\u001B[32m0\u001B[39m])\n",
      "\u001B[36mFile \u001B[39m\u001B[32m~/phd/dev/GoiEner-dataset/.venv/lib/python3.13/site-packages/IPython/core/formatters.py:402\u001B[39m, in \u001B[36mBaseFormatter.__call__\u001B[39m\u001B[34m(self, obj)\u001B[39m\n\u001B[32m    400\u001B[39m     \u001B[38;5;28;01mpass\u001B[39;00m\n\u001B[32m    401\u001B[39m \u001B[38;5;28;01melse\u001B[39;00m:\n\u001B[32m--> \u001B[39m\u001B[32m402\u001B[39m     \u001B[38;5;28;01mreturn\u001B[39;00m \u001B[43mprinter\u001B[49m\u001B[43m(\u001B[49m\u001B[43mobj\u001B[49m\u001B[43m)\u001B[49m\n\u001B[32m    403\u001B[39m \u001B[38;5;66;03m# Finally look for special method names\u001B[39;00m\n\u001B[32m    404\u001B[39m method = get_real_method(obj, \u001B[38;5;28mself\u001B[39m.print_method)\n",
      "\u001B[36mFile \u001B[39m\u001B[32m~/phd/dev/GoiEner-dataset/.venv/lib/python3.13/site-packages/IPython/core/pylabtools.py:170\u001B[39m, in \u001B[36mprint_figure\u001B[39m\u001B[34m(fig, fmt, bbox_inches, base64, **kwargs)\u001B[39m\n\u001B[32m    167\u001B[39m     \u001B[38;5;28;01mfrom\u001B[39;00m\u001B[38;5;250m \u001B[39m\u001B[34;01mmatplotlib\u001B[39;00m\u001B[34;01m.\u001B[39;00m\u001B[34;01mbackend_bases\u001B[39;00m\u001B[38;5;250m \u001B[39m\u001B[38;5;28;01mimport\u001B[39;00m FigureCanvasBase\n\u001B[32m    168\u001B[39m     FigureCanvasBase(fig)\n\u001B[32m--> \u001B[39m\u001B[32m170\u001B[39m \u001B[43mfig\u001B[49m\u001B[43m.\u001B[49m\u001B[43mcanvas\u001B[49m\u001B[43m.\u001B[49m\u001B[43mprint_figure\u001B[49m\u001B[43m(\u001B[49m\u001B[43mbytes_io\u001B[49m\u001B[43m,\u001B[49m\u001B[43m \u001B[49m\u001B[43m*\u001B[49m\u001B[43m*\u001B[49m\u001B[43mkw\u001B[49m\u001B[43m)\u001B[49m\n\u001B[32m    171\u001B[39m data = bytes_io.getvalue()\n\u001B[32m    172\u001B[39m \u001B[38;5;28;01mif\u001B[39;00m fmt == \u001B[33m'\u001B[39m\u001B[33msvg\u001B[39m\u001B[33m'\u001B[39m:\n",
      "\u001B[36mFile \u001B[39m\u001B[32m~/phd/dev/GoiEner-dataset/.venv/lib/python3.13/site-packages/matplotlib/backend_bases.py:2184\u001B[39m, in \u001B[36mFigureCanvasBase.print_figure\u001B[39m\u001B[34m(self, filename, dpi, facecolor, edgecolor, orientation, format, bbox_inches, pad_inches, bbox_extra_artists, backend, **kwargs)\u001B[39m\n\u001B[32m   2180\u001B[39m \u001B[38;5;28;01mtry\u001B[39;00m:\n\u001B[32m   2181\u001B[39m     \u001B[38;5;66;03m# _get_renderer may change the figure dpi (as vector formats\u001B[39;00m\n\u001B[32m   2182\u001B[39m     \u001B[38;5;66;03m# force the figure dpi to 72), so we need to set it again here.\u001B[39;00m\n\u001B[32m   2183\u001B[39m     \u001B[38;5;28;01mwith\u001B[39;00m cbook._setattr_cm(\u001B[38;5;28mself\u001B[39m.figure, dpi=dpi):\n\u001B[32m-> \u001B[39m\u001B[32m2184\u001B[39m         result = \u001B[43mprint_method\u001B[49m\u001B[43m(\u001B[49m\n\u001B[32m   2185\u001B[39m \u001B[43m            \u001B[49m\u001B[43mfilename\u001B[49m\u001B[43m,\u001B[49m\n\u001B[32m   2186\u001B[39m \u001B[43m            \u001B[49m\u001B[43mfacecolor\u001B[49m\u001B[43m=\u001B[49m\u001B[43mfacecolor\u001B[49m\u001B[43m,\u001B[49m\n\u001B[32m   2187\u001B[39m \u001B[43m            \u001B[49m\u001B[43medgecolor\u001B[49m\u001B[43m=\u001B[49m\u001B[43medgecolor\u001B[49m\u001B[43m,\u001B[49m\n\u001B[32m   2188\u001B[39m \u001B[43m            \u001B[49m\u001B[43morientation\u001B[49m\u001B[43m=\u001B[49m\u001B[43morientation\u001B[49m\u001B[43m,\u001B[49m\n\u001B[32m   2189\u001B[39m \u001B[43m            \u001B[49m\u001B[43mbbox_inches_restore\u001B[49m\u001B[43m=\u001B[49m\u001B[43m_bbox_inches_restore\u001B[49m\u001B[43m,\u001B[49m\n\u001B[32m   2190\u001B[39m \u001B[43m            \u001B[49m\u001B[43m*\u001B[49m\u001B[43m*\u001B[49m\u001B[43mkwargs\u001B[49m\u001B[43m)\u001B[49m\n\u001B[32m   2191\u001B[39m \u001B[38;5;28;01mfinally\u001B[39;00m:\n\u001B[32m   2192\u001B[39m     \u001B[38;5;28;01mif\u001B[39;00m bbox_inches \u001B[38;5;129;01mand\u001B[39;00m restore_bbox:\n",
      "\u001B[36mFile \u001B[39m\u001B[32m~/phd/dev/GoiEner-dataset/.venv/lib/python3.13/site-packages/matplotlib/backend_bases.py:2040\u001B[39m, in \u001B[36mFigureCanvasBase._switch_canvas_and_return_print_method.<locals>.<lambda>\u001B[39m\u001B[34m(*args, **kwargs)\u001B[39m\n\u001B[32m   2036\u001B[39m     optional_kws = {  \u001B[38;5;66;03m# Passed by print_figure for other renderers.\u001B[39;00m\n\u001B[32m   2037\u001B[39m         \u001B[33m\"\u001B[39m\u001B[33mdpi\u001B[39m\u001B[33m\"\u001B[39m, \u001B[33m\"\u001B[39m\u001B[33mfacecolor\u001B[39m\u001B[33m\"\u001B[39m, \u001B[33m\"\u001B[39m\u001B[33medgecolor\u001B[39m\u001B[33m\"\u001B[39m, \u001B[33m\"\u001B[39m\u001B[33morientation\u001B[39m\u001B[33m\"\u001B[39m,\n\u001B[32m   2038\u001B[39m         \u001B[33m\"\u001B[39m\u001B[33mbbox_inches_restore\u001B[39m\u001B[33m\"\u001B[39m}\n\u001B[32m   2039\u001B[39m     skip = optional_kws - {*inspect.signature(meth).parameters}\n\u001B[32m-> \u001B[39m\u001B[32m2040\u001B[39m     print_method = functools.wraps(meth)(\u001B[38;5;28;01mlambda\u001B[39;00m *args, **kwargs: \u001B[43mmeth\u001B[49m\u001B[43m(\u001B[49m\n\u001B[32m   2041\u001B[39m \u001B[43m        \u001B[49m\u001B[43m*\u001B[49m\u001B[43margs\u001B[49m\u001B[43m,\u001B[49m\u001B[43m \u001B[49m\u001B[43m*\u001B[49m\u001B[43m*\u001B[49m\u001B[43m{\u001B[49m\u001B[43mk\u001B[49m\u001B[43m:\u001B[49m\u001B[43m \u001B[49m\u001B[43mv\u001B[49m\u001B[43m \u001B[49m\u001B[38;5;28;43;01mfor\u001B[39;49;00m\u001B[43m \u001B[49m\u001B[43mk\u001B[49m\u001B[43m,\u001B[49m\u001B[43m \u001B[49m\u001B[43mv\u001B[49m\u001B[43m \u001B[49m\u001B[38;5;129;43;01min\u001B[39;49;00m\u001B[43m \u001B[49m\u001B[43mkwargs\u001B[49m\u001B[43m.\u001B[49m\u001B[43mitems\u001B[49m\u001B[43m(\u001B[49m\u001B[43m)\u001B[49m\u001B[43m \u001B[49m\u001B[38;5;28;43;01mif\u001B[39;49;00m\u001B[43m \u001B[49m\u001B[43mk\u001B[49m\u001B[43m \u001B[49m\u001B[38;5;129;43;01mnot\u001B[39;49;00m\u001B[43m \u001B[49m\u001B[38;5;129;43;01min\u001B[39;49;00m\u001B[43m \u001B[49m\u001B[43mskip\u001B[49m\u001B[43m}\u001B[49m\u001B[43m)\u001B[49m)\n\u001B[32m   2042\u001B[39m \u001B[38;5;28;01melse\u001B[39;00m:  \u001B[38;5;66;03m# Let third-parties do as they see fit.\u001B[39;00m\n\u001B[32m   2043\u001B[39m     print_method = meth\n",
      "\u001B[36mFile \u001B[39m\u001B[32m~/phd/dev/GoiEner-dataset/.venv/lib/python3.13/site-packages/matplotlib/backends/backend_agg.py:481\u001B[39m, in \u001B[36mFigureCanvasAgg.print_png\u001B[39m\u001B[34m(self, filename_or_obj, metadata, pil_kwargs)\u001B[39m\n\u001B[32m    434\u001B[39m \u001B[38;5;28;01mdef\u001B[39;00m\u001B[38;5;250m \u001B[39m\u001B[34mprint_png\u001B[39m(\u001B[38;5;28mself\u001B[39m, filename_or_obj, *, metadata=\u001B[38;5;28;01mNone\u001B[39;00m, pil_kwargs=\u001B[38;5;28;01mNone\u001B[39;00m):\n\u001B[32m    435\u001B[39m \u001B[38;5;250m    \u001B[39m\u001B[33;03m\"\"\"\u001B[39;00m\n\u001B[32m    436\u001B[39m \u001B[33;03m    Write the figure to a PNG file.\u001B[39;00m\n\u001B[32m    437\u001B[39m \n\u001B[32m   (...)\u001B[39m\u001B[32m    479\u001B[39m \u001B[33;03m        *metadata*, including the default 'Software' key.\u001B[39;00m\n\u001B[32m    480\u001B[39m \u001B[33;03m    \"\"\"\u001B[39;00m\n\u001B[32m--> \u001B[39m\u001B[32m481\u001B[39m     \u001B[38;5;28;43mself\u001B[39;49m\u001B[43m.\u001B[49m\u001B[43m_print_pil\u001B[49m\u001B[43m(\u001B[49m\u001B[43mfilename_or_obj\u001B[49m\u001B[43m,\u001B[49m\u001B[43m \u001B[49m\u001B[33;43m\"\u001B[39;49m\u001B[33;43mpng\u001B[39;49m\u001B[33;43m\"\u001B[39;49m\u001B[43m,\u001B[49m\u001B[43m \u001B[49m\u001B[43mpil_kwargs\u001B[49m\u001B[43m,\u001B[49m\u001B[43m \u001B[49m\u001B[43mmetadata\u001B[49m\u001B[43m)\u001B[49m\n",
      "\u001B[36mFile \u001B[39m\u001B[32m~/phd/dev/GoiEner-dataset/.venv/lib/python3.13/site-packages/matplotlib/backends/backend_agg.py:429\u001B[39m, in \u001B[36mFigureCanvasAgg._print_pil\u001B[39m\u001B[34m(self, filename_or_obj, fmt, pil_kwargs, metadata)\u001B[39m\n\u001B[32m    424\u001B[39m \u001B[38;5;28;01mdef\u001B[39;00m\u001B[38;5;250m \u001B[39m\u001B[34m_print_pil\u001B[39m(\u001B[38;5;28mself\u001B[39m, filename_or_obj, fmt, pil_kwargs, metadata=\u001B[38;5;28;01mNone\u001B[39;00m):\n\u001B[32m    425\u001B[39m \u001B[38;5;250m    \u001B[39m\u001B[33;03m\"\"\"\u001B[39;00m\n\u001B[32m    426\u001B[39m \u001B[33;03m    Draw the canvas, then save it using `.image.imsave` (to which\u001B[39;00m\n\u001B[32m    427\u001B[39m \u001B[33;03m    *pil_kwargs* and *metadata* are forwarded).\u001B[39;00m\n\u001B[32m    428\u001B[39m \u001B[33;03m    \"\"\"\u001B[39;00m\n\u001B[32m--> \u001B[39m\u001B[32m429\u001B[39m     \u001B[43mFigureCanvasAgg\u001B[49m\u001B[43m.\u001B[49m\u001B[43mdraw\u001B[49m\u001B[43m(\u001B[49m\u001B[38;5;28;43mself\u001B[39;49m\u001B[43m)\u001B[49m\n\u001B[32m    430\u001B[39m     mpl.image.imsave(\n\u001B[32m    431\u001B[39m         filename_or_obj, \u001B[38;5;28mself\u001B[39m.buffer_rgba(), \u001B[38;5;28mformat\u001B[39m=fmt, origin=\u001B[33m\"\u001B[39m\u001B[33mupper\u001B[39m\u001B[33m\"\u001B[39m,\n\u001B[32m    432\u001B[39m         dpi=\u001B[38;5;28mself\u001B[39m.figure.dpi, metadata=metadata, pil_kwargs=pil_kwargs)\n",
      "\u001B[36mFile \u001B[39m\u001B[32m~/phd/dev/GoiEner-dataset/.venv/lib/python3.13/site-packages/matplotlib/backends/backend_agg.py:382\u001B[39m, in \u001B[36mFigureCanvasAgg.draw\u001B[39m\u001B[34m(self)\u001B[39m\n\u001B[32m    379\u001B[39m \u001B[38;5;66;03m# Acquire a lock on the shared font cache.\u001B[39;00m\n\u001B[32m    380\u001B[39m \u001B[38;5;28;01mwith\u001B[39;00m (\u001B[38;5;28mself\u001B[39m.toolbar._wait_cursor_for_draw_cm() \u001B[38;5;28;01mif\u001B[39;00m \u001B[38;5;28mself\u001B[39m.toolbar\n\u001B[32m    381\u001B[39m       \u001B[38;5;28;01melse\u001B[39;00m nullcontext()):\n\u001B[32m--> \u001B[39m\u001B[32m382\u001B[39m     \u001B[38;5;28;43mself\u001B[39;49m\u001B[43m.\u001B[49m\u001B[43mfigure\u001B[49m\u001B[43m.\u001B[49m\u001B[43mdraw\u001B[49m\u001B[43m(\u001B[49m\u001B[38;5;28;43mself\u001B[39;49m\u001B[43m.\u001B[49m\u001B[43mrenderer\u001B[49m\u001B[43m)\u001B[49m\n\u001B[32m    383\u001B[39m     \u001B[38;5;66;03m# A GUI class may be need to update a window using this draw, so\u001B[39;00m\n\u001B[32m    384\u001B[39m     \u001B[38;5;66;03m# don't forget to call the superclass.\u001B[39;00m\n\u001B[32m    385\u001B[39m     \u001B[38;5;28msuper\u001B[39m().draw()\n",
      "\u001B[36mFile \u001B[39m\u001B[32m~/phd/dev/GoiEner-dataset/.venv/lib/python3.13/site-packages/matplotlib/artist.py:94\u001B[39m, in \u001B[36m_finalize_rasterization.<locals>.draw_wrapper\u001B[39m\u001B[34m(artist, renderer, *args, **kwargs)\u001B[39m\n\u001B[32m     92\u001B[39m \u001B[38;5;129m@wraps\u001B[39m(draw)\n\u001B[32m     93\u001B[39m \u001B[38;5;28;01mdef\u001B[39;00m\u001B[38;5;250m \u001B[39m\u001B[34mdraw_wrapper\u001B[39m(artist, renderer, *args, **kwargs):\n\u001B[32m---> \u001B[39m\u001B[32m94\u001B[39m     result = \u001B[43mdraw\u001B[49m\u001B[43m(\u001B[49m\u001B[43martist\u001B[49m\u001B[43m,\u001B[49m\u001B[43m \u001B[49m\u001B[43mrenderer\u001B[49m\u001B[43m,\u001B[49m\u001B[43m \u001B[49m\u001B[43m*\u001B[49m\u001B[43margs\u001B[49m\u001B[43m,\u001B[49m\u001B[43m \u001B[49m\u001B[43m*\u001B[49m\u001B[43m*\u001B[49m\u001B[43mkwargs\u001B[49m\u001B[43m)\u001B[49m\n\u001B[32m     95\u001B[39m     \u001B[38;5;28;01mif\u001B[39;00m renderer._rasterizing:\n\u001B[32m     96\u001B[39m         renderer.stop_rasterizing()\n",
      "\u001B[36mFile \u001B[39m\u001B[32m~/phd/dev/GoiEner-dataset/.venv/lib/python3.13/site-packages/matplotlib/artist.py:71\u001B[39m, in \u001B[36mallow_rasterization.<locals>.draw_wrapper\u001B[39m\u001B[34m(artist, renderer)\u001B[39m\n\u001B[32m     68\u001B[39m     \u001B[38;5;28;01mif\u001B[39;00m artist.get_agg_filter() \u001B[38;5;129;01mis\u001B[39;00m \u001B[38;5;129;01mnot\u001B[39;00m \u001B[38;5;28;01mNone\u001B[39;00m:\n\u001B[32m     69\u001B[39m         renderer.start_filter()\n\u001B[32m---> \u001B[39m\u001B[32m71\u001B[39m     \u001B[38;5;28;01mreturn\u001B[39;00m \u001B[43mdraw\u001B[49m\u001B[43m(\u001B[49m\u001B[43martist\u001B[49m\u001B[43m,\u001B[49m\u001B[43m \u001B[49m\u001B[43mrenderer\u001B[49m\u001B[43m)\u001B[49m\n\u001B[32m     72\u001B[39m \u001B[38;5;28;01mfinally\u001B[39;00m:\n\u001B[32m     73\u001B[39m     \u001B[38;5;28;01mif\u001B[39;00m artist.get_agg_filter() \u001B[38;5;129;01mis\u001B[39;00m \u001B[38;5;129;01mnot\u001B[39;00m \u001B[38;5;28;01mNone\u001B[39;00m:\n",
      "\u001B[36mFile \u001B[39m\u001B[32m~/phd/dev/GoiEner-dataset/.venv/lib/python3.13/site-packages/matplotlib/figure.py:3257\u001B[39m, in \u001B[36mFigure.draw\u001B[39m\u001B[34m(self, renderer)\u001B[39m\n\u001B[32m   3254\u001B[39m             \u001B[38;5;66;03m# ValueError can occur when resizing a window.\u001B[39;00m\n\u001B[32m   3256\u001B[39m     \u001B[38;5;28mself\u001B[39m.patch.draw(renderer)\n\u001B[32m-> \u001B[39m\u001B[32m3257\u001B[39m     \u001B[43mmimage\u001B[49m\u001B[43m.\u001B[49m\u001B[43m_draw_list_compositing_images\u001B[49m\u001B[43m(\u001B[49m\n\u001B[32m   3258\u001B[39m \u001B[43m        \u001B[49m\u001B[43mrenderer\u001B[49m\u001B[43m,\u001B[49m\u001B[43m \u001B[49m\u001B[38;5;28;43mself\u001B[39;49m\u001B[43m,\u001B[49m\u001B[43m \u001B[49m\u001B[43martists\u001B[49m\u001B[43m,\u001B[49m\u001B[43m \u001B[49m\u001B[38;5;28;43mself\u001B[39;49m\u001B[43m.\u001B[49m\u001B[43msuppressComposite\u001B[49m\u001B[43m)\u001B[49m\n\u001B[32m   3260\u001B[39m     renderer.close_group(\u001B[33m'\u001B[39m\u001B[33mfigure\u001B[39m\u001B[33m'\u001B[39m)\n\u001B[32m   3261\u001B[39m \u001B[38;5;28;01mfinally\u001B[39;00m:\n",
      "\u001B[36mFile \u001B[39m\u001B[32m~/phd/dev/GoiEner-dataset/.venv/lib/python3.13/site-packages/matplotlib/image.py:134\u001B[39m, in \u001B[36m_draw_list_compositing_images\u001B[39m\u001B[34m(renderer, parent, artists, suppress_composite)\u001B[39m\n\u001B[32m    132\u001B[39m \u001B[38;5;28;01mif\u001B[39;00m not_composite \u001B[38;5;129;01mor\u001B[39;00m \u001B[38;5;129;01mnot\u001B[39;00m has_images:\n\u001B[32m    133\u001B[39m     \u001B[38;5;28;01mfor\u001B[39;00m a \u001B[38;5;129;01min\u001B[39;00m artists:\n\u001B[32m--> \u001B[39m\u001B[32m134\u001B[39m         \u001B[43ma\u001B[49m\u001B[43m.\u001B[49m\u001B[43mdraw\u001B[49m\u001B[43m(\u001B[49m\u001B[43mrenderer\u001B[49m\u001B[43m)\u001B[49m\n\u001B[32m    135\u001B[39m \u001B[38;5;28;01melse\u001B[39;00m:\n\u001B[32m    136\u001B[39m     \u001B[38;5;66;03m# Composite any adjacent images together\u001B[39;00m\n\u001B[32m    137\u001B[39m     image_group = []\n",
      "\u001B[36mFile \u001B[39m\u001B[32m~/phd/dev/GoiEner-dataset/.venv/lib/python3.13/site-packages/matplotlib/artist.py:71\u001B[39m, in \u001B[36mallow_rasterization.<locals>.draw_wrapper\u001B[39m\u001B[34m(artist, renderer)\u001B[39m\n\u001B[32m     68\u001B[39m     \u001B[38;5;28;01mif\u001B[39;00m artist.get_agg_filter() \u001B[38;5;129;01mis\u001B[39;00m \u001B[38;5;129;01mnot\u001B[39;00m \u001B[38;5;28;01mNone\u001B[39;00m:\n\u001B[32m     69\u001B[39m         renderer.start_filter()\n\u001B[32m---> \u001B[39m\u001B[32m71\u001B[39m     \u001B[38;5;28;01mreturn\u001B[39;00m \u001B[43mdraw\u001B[49m\u001B[43m(\u001B[49m\u001B[43martist\u001B[49m\u001B[43m,\u001B[49m\u001B[43m \u001B[49m\u001B[43mrenderer\u001B[49m\u001B[43m)\u001B[49m\n\u001B[32m     72\u001B[39m \u001B[38;5;28;01mfinally\u001B[39;00m:\n\u001B[32m     73\u001B[39m     \u001B[38;5;28;01mif\u001B[39;00m artist.get_agg_filter() \u001B[38;5;129;01mis\u001B[39;00m \u001B[38;5;129;01mnot\u001B[39;00m \u001B[38;5;28;01mNone\u001B[39;00m:\n",
      "\u001B[36mFile \u001B[39m\u001B[32m~/phd/dev/GoiEner-dataset/.venv/lib/python3.13/site-packages/matplotlib/axes/_base.py:3210\u001B[39m, in \u001B[36m_AxesBase.draw\u001B[39m\u001B[34m(self, renderer)\u001B[39m\n\u001B[32m   3207\u001B[39m \u001B[38;5;28;01mif\u001B[39;00m artists_rasterized:\n\u001B[32m   3208\u001B[39m     _draw_rasterized(\u001B[38;5;28mself\u001B[39m.get_figure(root=\u001B[38;5;28;01mTrue\u001B[39;00m), artists_rasterized, renderer)\n\u001B[32m-> \u001B[39m\u001B[32m3210\u001B[39m \u001B[43mmimage\u001B[49m\u001B[43m.\u001B[49m\u001B[43m_draw_list_compositing_images\u001B[49m\u001B[43m(\u001B[49m\n\u001B[32m   3211\u001B[39m \u001B[43m    \u001B[49m\u001B[43mrenderer\u001B[49m\u001B[43m,\u001B[49m\u001B[43m \u001B[49m\u001B[38;5;28;43mself\u001B[39;49m\u001B[43m,\u001B[49m\u001B[43m \u001B[49m\u001B[43martists\u001B[49m\u001B[43m,\u001B[49m\u001B[43m \u001B[49m\u001B[38;5;28;43mself\u001B[39;49m\u001B[43m.\u001B[49m\u001B[43mget_figure\u001B[49m\u001B[43m(\u001B[49m\u001B[43mroot\u001B[49m\u001B[43m=\u001B[49m\u001B[38;5;28;43;01mTrue\u001B[39;49;00m\u001B[43m)\u001B[49m\u001B[43m.\u001B[49m\u001B[43msuppressComposite\u001B[49m\u001B[43m)\u001B[49m\n\u001B[32m   3213\u001B[39m renderer.close_group(\u001B[33m'\u001B[39m\u001B[33maxes\u001B[39m\u001B[33m'\u001B[39m)\n\u001B[32m   3214\u001B[39m \u001B[38;5;28mself\u001B[39m.stale = \u001B[38;5;28;01mFalse\u001B[39;00m\n",
      "\u001B[36mFile \u001B[39m\u001B[32m~/phd/dev/GoiEner-dataset/.venv/lib/python3.13/site-packages/matplotlib/image.py:134\u001B[39m, in \u001B[36m_draw_list_compositing_images\u001B[39m\u001B[34m(renderer, parent, artists, suppress_composite)\u001B[39m\n\u001B[32m    132\u001B[39m \u001B[38;5;28;01mif\u001B[39;00m not_composite \u001B[38;5;129;01mor\u001B[39;00m \u001B[38;5;129;01mnot\u001B[39;00m has_images:\n\u001B[32m    133\u001B[39m     \u001B[38;5;28;01mfor\u001B[39;00m a \u001B[38;5;129;01min\u001B[39;00m artists:\n\u001B[32m--> \u001B[39m\u001B[32m134\u001B[39m         \u001B[43ma\u001B[49m\u001B[43m.\u001B[49m\u001B[43mdraw\u001B[49m\u001B[43m(\u001B[49m\u001B[43mrenderer\u001B[49m\u001B[43m)\u001B[49m\n\u001B[32m    135\u001B[39m \u001B[38;5;28;01melse\u001B[39;00m:\n\u001B[32m    136\u001B[39m     \u001B[38;5;66;03m# Composite any adjacent images together\u001B[39;00m\n\u001B[32m    137\u001B[39m     image_group = []\n",
      "\u001B[36mFile \u001B[39m\u001B[32m~/phd/dev/GoiEner-dataset/.venv/lib/python3.13/site-packages/matplotlib/artist.py:71\u001B[39m, in \u001B[36mallow_rasterization.<locals>.draw_wrapper\u001B[39m\u001B[34m(artist, renderer)\u001B[39m\n\u001B[32m     68\u001B[39m     \u001B[38;5;28;01mif\u001B[39;00m artist.get_agg_filter() \u001B[38;5;129;01mis\u001B[39;00m \u001B[38;5;129;01mnot\u001B[39;00m \u001B[38;5;28;01mNone\u001B[39;00m:\n\u001B[32m     69\u001B[39m         renderer.start_filter()\n\u001B[32m---> \u001B[39m\u001B[32m71\u001B[39m     \u001B[38;5;28;01mreturn\u001B[39;00m \u001B[43mdraw\u001B[49m\u001B[43m(\u001B[49m\u001B[43martist\u001B[49m\u001B[43m,\u001B[49m\u001B[43m \u001B[49m\u001B[43mrenderer\u001B[49m\u001B[43m)\u001B[49m\n\u001B[32m     72\u001B[39m \u001B[38;5;28;01mfinally\u001B[39;00m:\n\u001B[32m     73\u001B[39m     \u001B[38;5;28;01mif\u001B[39;00m artist.get_agg_filter() \u001B[38;5;129;01mis\u001B[39;00m \u001B[38;5;129;01mnot\u001B[39;00m \u001B[38;5;28;01mNone\u001B[39;00m:\n",
      "\u001B[36mFile \u001B[39m\u001B[32m~/phd/dev/GoiEner-dataset/.venv/lib/python3.13/site-packages/matplotlib/axis.py:1408\u001B[39m, in \u001B[36mAxis.draw\u001B[39m\u001B[34m(self, renderer)\u001B[39m\n\u001B[32m   1405\u001B[39m tlb1, tlb2 = \u001B[38;5;28mself\u001B[39m._get_ticklabel_bboxes(ticks_to_draw, renderer)\n\u001B[32m   1407\u001B[39m \u001B[38;5;28;01mfor\u001B[39;00m tick \u001B[38;5;129;01min\u001B[39;00m ticks_to_draw:\n\u001B[32m-> \u001B[39m\u001B[32m1408\u001B[39m     \u001B[43mtick\u001B[49m\u001B[43m.\u001B[49m\u001B[43mdraw\u001B[49m\u001B[43m(\u001B[49m\u001B[43mrenderer\u001B[49m\u001B[43m)\u001B[49m\n\u001B[32m   1410\u001B[39m \u001B[38;5;66;03m# Shift label away from axes to avoid overlapping ticklabels.\u001B[39;00m\n\u001B[32m   1411\u001B[39m \u001B[38;5;28mself\u001B[39m._update_label_position(renderer)\n",
      "\u001B[36mFile \u001B[39m\u001B[32m~/phd/dev/GoiEner-dataset/.venv/lib/python3.13/site-packages/matplotlib/artist.py:71\u001B[39m, in \u001B[36mallow_rasterization.<locals>.draw_wrapper\u001B[39m\u001B[34m(artist, renderer)\u001B[39m\n\u001B[32m     68\u001B[39m     \u001B[38;5;28;01mif\u001B[39;00m artist.get_agg_filter() \u001B[38;5;129;01mis\u001B[39;00m \u001B[38;5;129;01mnot\u001B[39;00m \u001B[38;5;28;01mNone\u001B[39;00m:\n\u001B[32m     69\u001B[39m         renderer.start_filter()\n\u001B[32m---> \u001B[39m\u001B[32m71\u001B[39m     \u001B[38;5;28;01mreturn\u001B[39;00m \u001B[43mdraw\u001B[49m\u001B[43m(\u001B[49m\u001B[43martist\u001B[49m\u001B[43m,\u001B[49m\u001B[43m \u001B[49m\u001B[43mrenderer\u001B[49m\u001B[43m)\u001B[49m\n\u001B[32m     72\u001B[39m \u001B[38;5;28;01mfinally\u001B[39;00m:\n\u001B[32m     73\u001B[39m     \u001B[38;5;28;01mif\u001B[39;00m artist.get_agg_filter() \u001B[38;5;129;01mis\u001B[39;00m \u001B[38;5;129;01mnot\u001B[39;00m \u001B[38;5;28;01mNone\u001B[39;00m:\n",
      "\u001B[36mFile \u001B[39m\u001B[32m~/phd/dev/GoiEner-dataset/.venv/lib/python3.13/site-packages/matplotlib/axis.py:276\u001B[39m, in \u001B[36mTick.draw\u001B[39m\u001B[34m(self, renderer)\u001B[39m\n\u001B[32m    273\u001B[39m renderer.open_group(\u001B[38;5;28mself\u001B[39m.\u001B[34m__name__\u001B[39m, gid=\u001B[38;5;28mself\u001B[39m.get_gid())\n\u001B[32m    274\u001B[39m \u001B[38;5;28;01mfor\u001B[39;00m artist \u001B[38;5;129;01min\u001B[39;00m [\u001B[38;5;28mself\u001B[39m.gridline, \u001B[38;5;28mself\u001B[39m.tick1line, \u001B[38;5;28mself\u001B[39m.tick2line,\n\u001B[32m    275\u001B[39m                \u001B[38;5;28mself\u001B[39m.label1, \u001B[38;5;28mself\u001B[39m.label2]:\n\u001B[32m--> \u001B[39m\u001B[32m276\u001B[39m     \u001B[43martist\u001B[49m\u001B[43m.\u001B[49m\u001B[43mdraw\u001B[49m\u001B[43m(\u001B[49m\u001B[43mrenderer\u001B[49m\u001B[43m)\u001B[49m\n\u001B[32m    277\u001B[39m renderer.close_group(\u001B[38;5;28mself\u001B[39m.\u001B[34m__name__\u001B[39m)\n\u001B[32m    278\u001B[39m \u001B[38;5;28mself\u001B[39m.stale = \u001B[38;5;28;01mFalse\u001B[39;00m\n",
      "\u001B[36mFile \u001B[39m\u001B[32m~/phd/dev/GoiEner-dataset/.venv/lib/python3.13/site-packages/matplotlib/artist.py:71\u001B[39m, in \u001B[36mallow_rasterization.<locals>.draw_wrapper\u001B[39m\u001B[34m(artist, renderer)\u001B[39m\n\u001B[32m     68\u001B[39m     \u001B[38;5;28;01mif\u001B[39;00m artist.get_agg_filter() \u001B[38;5;129;01mis\u001B[39;00m \u001B[38;5;129;01mnot\u001B[39;00m \u001B[38;5;28;01mNone\u001B[39;00m:\n\u001B[32m     69\u001B[39m         renderer.start_filter()\n\u001B[32m---> \u001B[39m\u001B[32m71\u001B[39m     \u001B[38;5;28;01mreturn\u001B[39;00m \u001B[43mdraw\u001B[49m\u001B[43m(\u001B[49m\u001B[43martist\u001B[49m\u001B[43m,\u001B[49m\u001B[43m \u001B[49m\u001B[43mrenderer\u001B[49m\u001B[43m)\u001B[49m\n\u001B[32m     72\u001B[39m \u001B[38;5;28;01mfinally\u001B[39;00m:\n\u001B[32m     73\u001B[39m     \u001B[38;5;28;01mif\u001B[39;00m artist.get_agg_filter() \u001B[38;5;129;01mis\u001B[39;00m \u001B[38;5;129;01mnot\u001B[39;00m \u001B[38;5;28;01mNone\u001B[39;00m:\n",
      "\u001B[36mFile \u001B[39m\u001B[32m~/phd/dev/GoiEner-dataset/.venv/lib/python3.13/site-packages/matplotlib/text.py:752\u001B[39m, in \u001B[36mText.draw\u001B[39m\u001B[34m(self, renderer)\u001B[39m\n\u001B[32m    749\u001B[39m renderer.open_group(\u001B[33m'\u001B[39m\u001B[33mtext\u001B[39m\u001B[33m'\u001B[39m, \u001B[38;5;28mself\u001B[39m.get_gid())\n\u001B[32m    751\u001B[39m \u001B[38;5;28;01mwith\u001B[39;00m \u001B[38;5;28mself\u001B[39m._cm_set(text=\u001B[38;5;28mself\u001B[39m._get_wrapped_text()):\n\u001B[32m--> \u001B[39m\u001B[32m752\u001B[39m     bbox, info, descent = \u001B[38;5;28;43mself\u001B[39;49m\u001B[43m.\u001B[49m\u001B[43m_get_layout\u001B[49m\u001B[43m(\u001B[49m\u001B[43mrenderer\u001B[49m\u001B[43m)\u001B[49m\n\u001B[32m    753\u001B[39m     trans = \u001B[38;5;28mself\u001B[39m.get_transform()\n\u001B[32m    755\u001B[39m     \u001B[38;5;66;03m# don't use self.get_position here, which refers to text\u001B[39;00m\n\u001B[32m    756\u001B[39m     \u001B[38;5;66;03m# position in Text:\u001B[39;00m\n",
      "\u001B[36mFile \u001B[39m\u001B[32m~/phd/dev/GoiEner-dataset/.venv/lib/python3.13/site-packages/matplotlib/text.py:382\u001B[39m, in \u001B[36mText._get_layout\u001B[39m\u001B[34m(self, renderer)\u001B[39m\n\u001B[32m    380\u001B[39m clean_line, ismath = \u001B[38;5;28mself\u001B[39m._preprocess_math(line)\n\u001B[32m    381\u001B[39m \u001B[38;5;28;01mif\u001B[39;00m clean_line:\n\u001B[32m--> \u001B[39m\u001B[32m382\u001B[39m     w, h, d = \u001B[43m_get_text_metrics_with_cache\u001B[49m\u001B[43m(\u001B[49m\n\u001B[32m    383\u001B[39m \u001B[43m        \u001B[49m\u001B[43mrenderer\u001B[49m\u001B[43m,\u001B[49m\u001B[43m \u001B[49m\u001B[43mclean_line\u001B[49m\u001B[43m,\u001B[49m\u001B[43m \u001B[49m\u001B[38;5;28;43mself\u001B[39;49m\u001B[43m.\u001B[49m\u001B[43m_fontproperties\u001B[49m\u001B[43m,\u001B[49m\n\u001B[32m    384\u001B[39m \u001B[43m        \u001B[49m\u001B[43mismath\u001B[49m\u001B[43m=\u001B[49m\u001B[43mismath\u001B[49m\u001B[43m,\u001B[49m\u001B[43m \u001B[49m\u001B[43mdpi\u001B[49m\u001B[43m=\u001B[49m\u001B[38;5;28;43mself\u001B[39;49m\u001B[43m.\u001B[49m\u001B[43mget_figure\u001B[49m\u001B[43m(\u001B[49m\u001B[43mroot\u001B[49m\u001B[43m=\u001B[49m\u001B[38;5;28;43;01mTrue\u001B[39;49;00m\u001B[43m)\u001B[49m\u001B[43m.\u001B[49m\u001B[43mdpi\u001B[49m\u001B[43m)\u001B[49m\n\u001B[32m    385\u001B[39m \u001B[38;5;28;01melse\u001B[39;00m:\n\u001B[32m    386\u001B[39m     w = h = d = \u001B[32m0\u001B[39m\n",
      "\u001B[36mFile \u001B[39m\u001B[32m~/phd/dev/GoiEner-dataset/.venv/lib/python3.13/site-packages/matplotlib/text.py:69\u001B[39m, in \u001B[36m_get_text_metrics_with_cache\u001B[39m\u001B[34m(renderer, text, fontprop, ismath, dpi)\u001B[39m\n\u001B[32m     66\u001B[39m \u001B[38;5;250m\u001B[39m\u001B[33;03m\"\"\"Call ``renderer.get_text_width_height_descent``, caching the results.\"\"\"\u001B[39;00m\n\u001B[32m     67\u001B[39m \u001B[38;5;66;03m# Cached based on a copy of fontprop so that later in-place mutations of\u001B[39;00m\n\u001B[32m     68\u001B[39m \u001B[38;5;66;03m# the passed-in argument do not mess up the cache.\u001B[39;00m\n\u001B[32m---> \u001B[39m\u001B[32m69\u001B[39m \u001B[38;5;28;01mreturn\u001B[39;00m \u001B[43m_get_text_metrics_with_cache_impl\u001B[49m\u001B[43m(\u001B[49m\n\u001B[32m     70\u001B[39m \u001B[43m    \u001B[49m\u001B[43mweakref\u001B[49m\u001B[43m.\u001B[49m\u001B[43mref\u001B[49m\u001B[43m(\u001B[49m\u001B[43mrenderer\u001B[49m\u001B[43m)\u001B[49m\u001B[43m,\u001B[49m\u001B[43m \u001B[49m\u001B[43mtext\u001B[49m\u001B[43m,\u001B[49m\u001B[43m \u001B[49m\u001B[43mfontprop\u001B[49m\u001B[43m.\u001B[49m\u001B[43mcopy\u001B[49m\u001B[43m(\u001B[49m\u001B[43m)\u001B[49m\u001B[43m,\u001B[49m\u001B[43m \u001B[49m\u001B[43mismath\u001B[49m\u001B[43m,\u001B[49m\u001B[43m \u001B[49m\u001B[43mdpi\u001B[49m\u001B[43m)\u001B[49m\n",
      "\u001B[36mFile \u001B[39m\u001B[32m~/phd/dev/GoiEner-dataset/.venv/lib/python3.13/site-packages/matplotlib/text.py:77\u001B[39m, in \u001B[36m_get_text_metrics_with_cache_impl\u001B[39m\u001B[34m(renderer_ref, text, fontprop, ismath, dpi)\u001B[39m\n\u001B[32m     73\u001B[39m \u001B[38;5;129m@functools\u001B[39m.lru_cache(\u001B[32m4096\u001B[39m)\n\u001B[32m     74\u001B[39m \u001B[38;5;28;01mdef\u001B[39;00m\u001B[38;5;250m \u001B[39m\u001B[34m_get_text_metrics_with_cache_impl\u001B[39m(\n\u001B[32m     75\u001B[39m         renderer_ref, text, fontprop, ismath, dpi):\n\u001B[32m     76\u001B[39m     \u001B[38;5;66;03m# dpi is unused, but participates in cache invalidation (via the renderer).\u001B[39;00m\n\u001B[32m---> \u001B[39m\u001B[32m77\u001B[39m     \u001B[38;5;28;01mreturn\u001B[39;00m \u001B[43mrenderer_ref\u001B[49m\u001B[43m(\u001B[49m\u001B[43m)\u001B[49m\u001B[43m.\u001B[49m\u001B[43mget_text_width_height_descent\u001B[49m\u001B[43m(\u001B[49m\u001B[43mtext\u001B[49m\u001B[43m,\u001B[49m\u001B[43m \u001B[49m\u001B[43mfontprop\u001B[49m\u001B[43m,\u001B[49m\u001B[43m \u001B[49m\u001B[43mismath\u001B[49m\u001B[43m)\u001B[49m\n",
      "\u001B[36mFile \u001B[39m\u001B[32m~/phd/dev/GoiEner-dataset/.venv/lib/python3.13/site-packages/matplotlib/backends/backend_agg.py:219\u001B[39m, in \u001B[36mRendererAgg.get_text_width_height_descent\u001B[39m\u001B[34m(self, s, prop, ismath)\u001B[39m\n\u001B[32m    216\u001B[39m     \u001B[38;5;28;01mreturn\u001B[39;00m width, height, descent\n\u001B[32m    218\u001B[39m font = \u001B[38;5;28mself\u001B[39m._prepare_font(prop)\n\u001B[32m--> \u001B[39m\u001B[32m219\u001B[39m \u001B[43mfont\u001B[49m\u001B[43m.\u001B[49m\u001B[43mset_text\u001B[49m\u001B[43m(\u001B[49m\u001B[43ms\u001B[49m\u001B[43m,\u001B[49m\u001B[43m \u001B[49m\u001B[32;43m0.0\u001B[39;49m\u001B[43m,\u001B[49m\u001B[43m \u001B[49m\u001B[43mflags\u001B[49m\u001B[43m=\u001B[49m\u001B[43mget_hinting_flag\u001B[49m\u001B[43m(\u001B[49m\u001B[43m)\u001B[49m\u001B[43m)\u001B[49m\n\u001B[32m    220\u001B[39m w, h = font.get_width_height()  \u001B[38;5;66;03m# width and height of unrotated string\u001B[39;00m\n\u001B[32m    221\u001B[39m d = font.get_descent()\n",
      "\u001B[31mKeyboardInterrupt\u001B[39m: "
     ]
    }
   ],
   "execution_count": 39
  },
  {
   "metadata": {
    "jupyter": {
     "is_executing": true
    },
    "ExecuteTime": {
     "start_time": "2025-05-12T11:48:26.659881Z"
    }
   },
   "cell_type": "code",
   "source": [
    "sns.relplot(\n",
    "    data=dataframes, kind=\"line\",\n",
    "    legend=False,\n",
    "    x='timestamp', y='kWh',\n",
    "    height=6, aspect=2,\n",
    "    )"
   ],
   "id": "1ce01aff7b4632cb",
   "outputs": [],
   "execution_count": null
  },
  {
   "metadata": {
    "ExecuteTime": {
     "end_time": "2025-05-12T13:19:25.357273Z",
     "start_time": "2025-05-12T13:19:25.301643Z"
    }
   },
   "cell_type": "code",
   "source": "metadata_pre_household_activities.head()",
   "id": "b4856c3645b659f4",
   "outputs": [
    {
     "data": {
      "text/plain": [
       "shape: (5, 23)\n",
       "┌────────────┬────────────┬────────────┬────────────┬───┬────────────┬───────────┬──────────┬──────┐\n",
       "│ user       ┆ start_date ┆ end_date   ┆ length_day ┆ … ┆ province   ┆ municipal ┆ zip_code ┆ cnae │\n",
       "│ ---        ┆ ---        ┆ ---        ┆ s          ┆   ┆ ---        ┆ ity       ┆ ---      ┆ ---  │\n",
       "│ str        ┆ datetime[μ ┆ datetime[μ ┆ ---        ┆   ┆ str        ┆ ---       ┆ i64      ┆ i64  │\n",
       "│            ┆ s, UTC]    ┆ s, UTC]    ┆ f64        ┆   ┆            ┆ str       ┆          ┆      │\n",
       "╞════════════╪════════════╪════════════╪════════════╪═══╪════════════╪═══════════╪══════════╪══════╡\n",
       "│ 0003de2700 ┆ 2017-05-31 ┆ 2019-11-14 ┆ 897.0      ┆ … ┆ Gipuzkoa   ┆ Donostia/ ┆ 20013    ┆ 9820 │\n",
       "│ e20a1681d6 ┆ 01:00:00   ┆ 00:00:00   ┆            ┆   ┆            ┆ San       ┆          ┆      │\n",
       "│ 9fe287441d ┆ UTC        ┆ UTC        ┆            ┆   ┆            ┆ Sebastian ┆          ┆      │\n",
       "│ …          ┆            ┆            ┆            ┆   ┆            ┆           ┆          ┆      │\n",
       "│ 009da9fed0 ┆ 2017-05-31 ┆ 2020-01-11 ┆ 955.0      ┆ … ┆ Navarra    ┆ null      ┆ null     ┆ 9820 │\n",
       "│ 568a951cc8 ┆ 01:00:00   ┆ 00:00:00   ┆            ┆   ┆            ┆           ┆          ┆      │\n",
       "│ 4f73a2daac ┆ UTC        ┆ UTC        ┆            ┆   ┆            ┆           ┆          ┆      │\n",
       "│ …          ┆            ┆            ┆            ┆   ┆            ┆           ┆          ┆      │\n",
       "│ 012be36202 ┆ 2018-06-12 ┆ 2019-08-03 ┆ 417.0      ┆ … ┆ Araba/Alav ┆ Vitoria-G ┆ 1001     ┆ 9820 │\n",
       "│ 1dfaff2ae2 ┆ 01:00:00   ┆ 00:00:00   ┆            ┆   ┆ a          ┆ asteiz    ┆          ┆      │\n",
       "│ ad9391657a ┆ UTC        ┆ UTC        ┆            ┆   ┆            ┆           ┆          ┆      │\n",
       "│ …          ┆            ┆            ┆            ┆   ┆            ┆           ┆          ┆      │\n",
       "│ 01e90c9568 ┆ 2017-05-31 ┆ 2019-03-13 ┆ 651.0      ┆ … ┆ Bizkaia    ┆ Getxo     ┆ 48991    ┆ 9820 │\n",
       "│ 01cbba4b61 ┆ 01:00:00   ┆ 00:00:00   ┆            ┆   ┆            ┆           ┆          ┆      │\n",
       "│ 1af5280f23 ┆ UTC        ┆ UTC        ┆            ┆   ┆            ┆           ┆          ┆      │\n",
       "│ …          ┆            ┆            ┆            ┆   ┆            ┆           ┆          ┆      │\n",
       "│ 02047fc3e7 ┆ 2017-05-30 ┆ 2019-01-29 ┆ 609.0      ┆ … ┆ Bizkaia    ┆ Bilbao    ┆ 48004    ┆ 9820 │\n",
       "│ aca6c50150 ┆ 01:00:00   ┆ 00:00:00   ┆            ┆   ┆            ┆           ┆          ┆      │\n",
       "│ c59f0101fb ┆ UTC        ┆ UTC        ┆            ┆   ┆            ┆           ┆          ┆      │\n",
       "│ …          ┆            ┆            ┆            ┆   ┆            ┆           ┆          ┆      │\n",
       "└────────────┴────────────┴────────────┴────────────┴───┴────────────┴───────────┴──────────┴──────┘"
      ],
      "text/html": [
       "<div><style>\n",
       ".dataframe > thead > tr,\n",
       ".dataframe > tbody > tr {\n",
       "  text-align: right;\n",
       "  white-space: pre-wrap;\n",
       "}\n",
       "</style>\n",
       "<small>shape: (5, 23)</small><table border=\"1\" class=\"dataframe\"><thead><tr><th>user</th><th>start_date</th><th>end_date</th><th>length_days</th><th>length_years</th><th>potential_samples</th><th>actual_samples</th><th>missing_samples_abs</th><th>missing_samples_pct</th><th>contract_start_date</th><th>contract_end_date</th><th>contracted_tariff</th><th>self_consumption_type</th><th>p1</th><th>p2</th><th>p3</th><th>p4</th><th>p5</th><th>p6</th><th>province</th><th>municipality</th><th>zip_code</th><th>cnae</th></tr><tr><td>str</td><td>datetime[μs, UTC]</td><td>datetime[μs, UTC]</td><td>f64</td><td>f64</td><td>i64</td><td>i64</td><td>i64</td><td>f64</td><td>date</td><td>date</td><td>str</td><td>str</td><td>f64</td><td>f64</td><td>f64</td><td>f64</td><td>f64</td><td>f64</td><td>str</td><td>str</td><td>i64</td><td>i64</td></tr></thead><tbody><tr><td>&quot;0003de2700e20a1681d69fe287441d…</td><td>2017-05-31 01:00:00 UTC</td><td>2019-11-14 00:00:00 UTC</td><td>897.0</td><td>2.455852</td><td>21528</td><td>21476</td><td>52</td><td>0.241546</td><td>2019-09-02</td><td>2019-11-13</td><td>&quot;2.0A&quot;</td><td>&quot;&quot;</td><td>4.6</td><td>null</td><td>null</td><td>null</td><td>null</td><td>null</td><td>&quot;Gipuzkoa&quot;</td><td>&quot;Donostia/San Sebastian&quot;</td><td>20013</td><td>9820</td></tr><tr><td>&quot;009da9fed0568a951cc84f73a2daac…</td><td>2017-05-31 01:00:00 UTC</td><td>2020-01-11 00:00:00 UTC</td><td>955.0</td><td>2.614648</td><td>22920</td><td>22868</td><td>52</td><td>0.226876</td><td>2017-02-03</td><td>2020-01-10</td><td>&quot;2.0DHA&quot;</td><td>&quot;&quot;</td><td>3.45</td><td>null</td><td>null</td><td>null</td><td>null</td><td>null</td><td>&quot;Navarra&quot;</td><td>null</td><td>null</td><td>9820</td></tr><tr><td>&quot;012be362021dfaff2ae2ad9391657a…</td><td>2018-06-12 01:00:00 UTC</td><td>2019-08-03 00:00:00 UTC</td><td>417.0</td><td>1.141684</td><td>10008</td><td>10006</td><td>2</td><td>0.019984</td><td>2015-08-12</td><td>2019-08-02</td><td>&quot;2.0A&quot;</td><td>&quot;&quot;</td><td>3.6</td><td>0.0</td><td>0.0</td><td>null</td><td>null</td><td>null</td><td>&quot;Araba/Alava&quot;</td><td>&quot;Vitoria-Gasteiz&quot;</td><td>1001</td><td>9820</td></tr><tr><td>&quot;01e90c956801cbba4b611af5280f23…</td><td>2017-05-31 01:00:00 UTC</td><td>2019-03-13 00:00:00 UTC</td><td>651.0</td><td>1.782341</td><td>15624</td><td>15407</td><td>217</td><td>1.388889</td><td>2015-05-20</td><td>2019-03-12</td><td>&quot;2.0A&quot;</td><td>&quot;&quot;</td><td>1.15</td><td>0.0</td><td>0.0</td><td>null</td><td>null</td><td>null</td><td>&quot;Bizkaia&quot;</td><td>&quot;Getxo&quot;</td><td>48991</td><td>9820</td></tr><tr><td>&quot;02047fc3e7aca6c50150c59f0101fb…</td><td>2017-05-30 01:00:00 UTC</td><td>2019-01-29 00:00:00 UTC</td><td>609.0</td><td>1.667351</td><td>14616</td><td>14518</td><td>98</td><td>0.670498</td><td>2017-04-01</td><td>2019-01-28</td><td>&quot;2.0DHA&quot;</td><td>&quot;&quot;</td><td>3.45</td><td>null</td><td>null</td><td>null</td><td>null</td><td>null</td><td>&quot;Bizkaia&quot;</td><td>&quot;Bilbao&quot;</td><td>48004</td><td>9820</td></tr></tbody></table></div>"
      ]
     },
     "execution_count": 40,
     "metadata": {},
     "output_type": "execute_result"
    }
   ],
   "execution_count": 40
  },
  {
   "metadata": {
    "ExecuteTime": {
     "end_time": "2025-05-12T13:36:41.230206Z",
     "start_time": "2025-05-12T13:36:39.825872Z"
    }
   },
   "cell_type": "code",
   "source": "dataframes['profile_id'].unique()",
   "id": "1d94b3ccc7e2b103",
   "outputs": [
    {
     "data": {
      "text/plain": [
       "shape: (380,)\n",
       "Series: 'profile_id' [str]\n",
       "[\n",
       "\t\"7a3cb3d6b46ebd71b5705c3b31da4a…\n",
       "\t\"62597a93ec72265745aa7d4bde5b0b…\n",
       "\t\"dcf8c6db9667168fe9e6c933af576e…\n",
       "\t\"ef5cc19524775c6b290cfd73c0b51d…\n",
       "\t\"0a630395bf858b28efd454cc6462ca…\n",
       "\t…\n",
       "\t\"2058173c91235082f4f307ae2759ba…\n",
       "\t\"a525223b3dfe94f1d0a360ee2156d4…\n",
       "\t\"75ae69cb98e6d7533d62d5db5b464f…\n",
       "\t\"214e6b3a7144dd18fae97160a2e0ec…\n",
       "\t\"154d1a4e86438c79f15e3be654ed2b…\n",
       "]"
      ],
      "text/html": [
       "<div><style>\n",
       ".dataframe > thead > tr,\n",
       ".dataframe > tbody > tr {\n",
       "  text-align: right;\n",
       "  white-space: pre-wrap;\n",
       "}\n",
       "</style>\n",
       "<small>shape: (380,)</small><table border=\"1\" class=\"dataframe\"><thead><tr><th>profile_id</th></tr><tr><td>str</td></tr></thead><tbody><tr><td>&quot;7a3cb3d6b46ebd71b5705c3b31da4a…</td></tr><tr><td>&quot;62597a93ec72265745aa7d4bde5b0b…</td></tr><tr><td>&quot;dcf8c6db9667168fe9e6c933af576e…</td></tr><tr><td>&quot;ef5cc19524775c6b290cfd73c0b51d…</td></tr><tr><td>&quot;0a630395bf858b28efd454cc6462ca…</td></tr><tr><td>&hellip;</td></tr><tr><td>&quot;2058173c91235082f4f307ae2759ba…</td></tr><tr><td>&quot;a525223b3dfe94f1d0a360ee2156d4…</td></tr><tr><td>&quot;75ae69cb98e6d7533d62d5db5b464f…</td></tr><tr><td>&quot;214e6b3a7144dd18fae97160a2e0ec…</td></tr><tr><td>&quot;154d1a4e86438c79f15e3be654ed2b…</td></tr></tbody></table></div>"
      ]
     },
     "execution_count": 42,
     "metadata": {},
     "output_type": "execute_result"
    }
   ],
   "execution_count": 42
  },
  {
   "metadata": {},
   "cell_type": "code",
   "outputs": [],
   "execution_count": null,
   "source": "",
   "id": "e15553b0722ed660"
  },
  {
   "metadata": {},
   "cell_type": "code",
   "outputs": [],
   "execution_count": null,
   "source": "",
   "id": "d5cddeb71bb989b"
  },
  {
   "metadata": {},
   "cell_type": "code",
   "outputs": [],
   "execution_count": null,
   "source": "",
   "id": "358413d0ec3cc34d"
  },
  {
   "metadata": {},
   "cell_type": "code",
   "outputs": [],
   "execution_count": null,
   "source": "",
   "id": "854bd9da31954284"
  },
  {
   "metadata": {},
   "cell_type": "code",
   "outputs": [],
   "execution_count": null,
   "source": "",
   "id": "8d751dcab0aedb5c"
  },
  {
   "metadata": {},
   "cell_type": "code",
   "outputs": [],
   "execution_count": null,
   "source": "",
   "id": "dec2a39af366c2e0"
  },
  {
   "metadata": {},
   "cell_type": "markdown",
   "source": "# COMBINE CSV USELESS",
   "id": "d17c5f4d75bb9202"
  },
  {
   "metadata": {
    "ExecuteTime": {
     "end_time": "2025-03-11T16:42:19.628012Z",
     "start_time": "2025-03-11T16:42:19.596477Z"
    }
   },
   "cell_type": "code",
   "source": [
    "import glob\n",
    "import pandas as pd\n",
    "\n",
    "def combine_csv_files(source_folder, output_file):\n",
    "    # Get a list of all .csv files in the source folder\n",
    "    csv_files = glob.glob(f\"{source_folder}/*.csv\")\n",
    "\n",
    "    # Create an empty list to store dataframes\n",
    "    dataframes = []\n",
    "\n",
    "    # Loop through each .csv file, read it, and append it to the list of dataframes\n",
    "    for csv_file in csv_files:\n",
    "        df = pd.read_csv(csv_file)\n",
    "        dataframes.append(df)\n",
    "\n",
    "    # Concatenate all dataframes into one\n",
    "    combined_df = pd.concat(dataframes, ignore_index=True)\n",
    "\n",
    "    # Save the combined dataframe to a new .csv file\n",
    "    combined_df.to_csv(output_file, index=False)\n",
    "    print(f\"Combined CSV saved to {output_file}\")\n"
   ],
   "id": "d4545575402fa67e",
   "outputs": [],
   "execution_count": 14
  },
  {
   "metadata": {
    "ExecuteTime": {
     "end_time": "2025-03-11T16:50:31.519999Z",
     "start_time": "2025-03-11T16:42:20.363988Z"
    }
   },
   "cell_type": "code",
   "source": "combine_csv_files(\"dataset/goi4_pst/imp_csv\", \"output.csv\")",
   "id": "aa7a821ac4dd11b",
   "outputs": [
    {
     "name": "stdout",
     "output_type": "stream",
     "text": [
      "Combined CSV saved to output\n"
     ]
    }
   ],
   "execution_count": 15
  },
  {
   "metadata": {
    "ExecuteTime": {
     "end_time": "2025-03-11T16:54:29.048571Z",
     "start_time": "2025-03-11T16:51:47.830124Z"
    }
   },
   "cell_type": "code",
   "source": [
    "import csv\n",
    "\n",
    "def combine_csv_files(source_folder, output_file):\n",
    "    # Get a list of all .csv files in the source folder\n",
    "    csv_files = glob.glob(f\"{source_folder}/*.csv\")\n",
    "\n",
    "    # Open the output file in write mode\n",
    "    with open(output_file, mode='w', newline='') as outfile:\n",
    "        writer = csv.writer(outfile)\n",
    "\n",
    "        # Variable to track if headers have been written\n",
    "        headers_written = False\n",
    "\n",
    "        # Loop through each .csv file\n",
    "        for file_path in csv_files:\n",
    "\n",
    "            # Open each CSV file in read mode\n",
    "            with open(file_path, mode='r', newline='') as infile:\n",
    "                reader = csv.reader(infile)\n",
    "\n",
    "                # Write headers only once\n",
    "                if not headers_written:\n",
    "                    headers = next(reader)  # Read the header of the first file\n",
    "                    writer.writerow(headers)  # Write the header to the output file\n",
    "                    headers_written = True\n",
    "                else:\n",
    "                    next(reader)  # Skip the header of subsequent files\n",
    "\n",
    "                # Write the data rows to the output file\n",
    "                for row in reader:\n",
    "                    writer.writerow(row)\n",
    "\n",
    "\n",
    "combine_csv_files(\"dataset/goi4_pst/imp_csv\", \"output.csv\")"
   ],
   "id": "852f2ce00fdff986",
   "outputs": [],
   "execution_count": 17
  },
  {
   "metadata": {},
   "cell_type": "code",
   "outputs": [],
   "execution_count": null,
   "source": "",
   "id": "2c31a0646e5b0def"
  }
 ],
 "metadata": {
  "kernelspec": {
   "display_name": "Python 3",
   "language": "python",
   "name": "python3"
  },
  "language_info": {
   "codemirror_mode": {
    "name": "ipython",
    "version": 2
   },
   "file_extension": ".py",
   "mimetype": "text/x-python",
   "name": "python",
   "nbconvert_exporter": "python",
   "pygments_lexer": "ipython2",
   "version": "2.7.6"
  }
 },
 "nbformat": 4,
 "nbformat_minor": 5
}
