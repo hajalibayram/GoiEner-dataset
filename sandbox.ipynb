{
 "cells": [
  {
   "metadata": {
    "collapsed": true,
    "ExecuteTime": {
     "end_time": "2025-03-11T15:41:54.048528Z",
     "start_time": "2025-03-11T15:41:54.039802Z"
    }
   },
   "cell_type": "code",
   "outputs": [],
   "execution_count": 39,
   "source": [
    "import tarfile\n",
    "from zlib import decompress\n",
    "import functools\n",
    "import zstandard"
   ],
   "id": "initial_id"
  },
  {
   "metadata": {
    "ExecuteTime": {
     "end_time": "2025-03-18T10:03:29.410936Z",
     "start_time": "2025-03-18T10:03:29.408255Z"
    }
   },
   "cell_type": "code",
   "source": [
    "import os\n",
    "from pathlib import Path"
   ],
   "id": "2b525dfba35994a5",
   "outputs": [],
   "execution_count": 1
  },
  {
   "metadata": {
    "ExecuteTime": {
     "end_time": "2025-04-08T15:48:59.448152Z",
     "start_time": "2025-04-08T15:48:57.833069Z"
    }
   },
   "cell_type": "code",
   "source": [
    "from datetime import datetime\n",
    "import polars as pl"
   ],
   "id": "a5063119ced563b6",
   "outputs": [],
   "execution_count": 1
  },
  {
   "metadata": {
    "ExecuteTime": {
     "end_time": "2025-04-08T15:51:55.344416Z",
     "start_time": "2025-04-08T15:51:55.295457Z"
    }
   },
   "cell_type": "code",
   "source": [
    "metadata = pl.read_csv('raw/metadata.csv', try_parse_dates=True)\n",
    "metadata"
   ],
   "id": "814e1639183a1d19",
   "outputs": [
    {
     "data": {
      "text/plain": [
       "shape: (25_559, 23)\n",
       "┌────────────┬────────────┬────────────┬────────────┬───┬────────────┬───────────┬──────────┬──────┐\n",
       "│ user       ┆ start_date ┆ end_date   ┆ length_day ┆ … ┆ province   ┆ municipal ┆ zip_code ┆ cnae │\n",
       "│ ---        ┆ ---        ┆ ---        ┆ s          ┆   ┆ ---        ┆ ity       ┆ ---      ┆ ---  │\n",
       "│ str        ┆ datetime[μ ┆ datetime[μ ┆ ---        ┆   ┆ str        ┆ ---       ┆ i64      ┆ i64  │\n",
       "│            ┆ s, UTC]    ┆ s, UTC]    ┆ f64        ┆   ┆            ┆ str       ┆          ┆      │\n",
       "╞════════════╪════════════╪════════════╪════════════╪═══╪════════════╪═══════════╪══════════╪══════╡\n",
       "│ 00000c5a44 ┆ 2022-05-30 ┆ 2022-06-05 ┆ 6.0        ┆ … ┆ Gipuzkoa   ┆ null      ┆ null     ┆ 9329 │\n",
       "│ 8d9faa097b ┆ 01:00:00   ┆ 00:00:00   ┆            ┆   ┆            ┆           ┆          ┆      │\n",
       "│ 761cc98036 ┆ UTC        ┆ UTC        ┆            ┆   ┆            ┆           ┆          ┆      │\n",
       "│ …          ┆            ┆            ┆            ┆   ┆            ┆           ┆          ┆      │\n",
       "│ 0001b3b2f1 ┆ 2017-05-31 ┆ 2022-06-05 ┆ 1831.0     ┆ … ┆ Bizkaia    ┆ null      ┆ null     ┆ 9820 │\n",
       "│ 8c01c62ed9 ┆ 01:00:00   ┆ 00:00:00   ┆            ┆   ┆            ┆           ┆          ┆      │\n",
       "│ b2a87de7b4 ┆ UTC        ┆ UTC        ┆            ┆   ┆            ┆           ┆          ┆      │\n",
       "│ …          ┆            ┆            ┆            ┆   ┆            ┆           ┆          ┆      │\n",
       "│ 0003de2700 ┆ 2017-05-31 ┆ 2019-11-14 ┆ 897.0      ┆ … ┆ Gipuzkoa   ┆ Donostia/ ┆ 20013    ┆ 9820 │\n",
       "│ e20a1681d6 ┆ 01:00:00   ┆ 00:00:00   ┆            ┆   ┆            ┆ San       ┆          ┆      │\n",
       "│ 9fe287441d ┆ UTC        ┆ UTC        ┆            ┆   ┆            ┆ Sebastian ┆          ┆      │\n",
       "│ …          ┆            ┆            ┆            ┆   ┆            ┆           ┆          ┆      │\n",
       "│ 0004150214 ┆ 2018-07-12 ┆ 2022-06-05 ┆ 1424.0     ┆ … ┆ Gipuzkoa   ┆ Irun      ┆ 20304    ┆ 4759 │\n",
       "│ d14a2b2e6f ┆ 01:00:00   ┆ 00:00:00   ┆            ┆   ┆            ┆           ┆          ┆      │\n",
       "│ 7075531e66 ┆ UTC        ┆ UTC        ┆            ┆   ┆            ┆           ┆          ┆      │\n",
       "│ …          ┆            ┆            ┆            ┆   ┆            ┆           ┆          ┆      │\n",
       "│ 000721f0fc ┆ 2017-05-30 ┆ 2022-06-04 ┆ 1831.0     ┆ … ┆ Bizkaia    ┆ null      ┆ null     ┆ 9820 │\n",
       "│ 6ccf02ae24 ┆ 01:00:00   ┆ 00:00:00   ┆            ┆   ┆            ┆           ┆          ┆      │\n",
       "│ b673939795 ┆ UTC        ┆ UTC        ┆            ┆   ┆            ┆           ┆          ┆      │\n",
       "│ …          ┆            ┆            ┆            ┆   ┆            ┆           ┆          ┆      │\n",
       "│ …          ┆ …          ┆ …          ┆ …          ┆ … ┆ …          ┆ …         ┆ …        ┆ …    │\n",
       "│ ffeddf4919 ┆ 2018-10-02 ┆ 2021-11-03 ┆ 1128.0     ┆ … ┆ Soria      ┆ null      ┆ null     ┆ 9820 │\n",
       "│ e748beb50a ┆ 01:00:00   ┆ 00:00:00   ┆            ┆   ┆            ┆           ┆          ┆      │\n",
       "│ f7c6b73def ┆ UTC        ┆ UTC        ┆            ┆   ┆            ┆           ┆          ┆      │\n",
       "│ …          ┆            ┆            ┆            ┆   ┆            ┆           ┆          ┆      │\n",
       "│ ffefb9e277 ┆ 2021-07-06 ┆ 2022-06-05 ┆ 334.0      ┆ … ┆ Bizkaia    ┆ Bilbao    ┆ 48012    ┆ 9820 │\n",
       "│ 15b1c3fa50 ┆ 01:00:00   ┆ 00:00:00   ┆            ┆   ┆            ┆           ┆          ┆      │\n",
       "│ 07c457de55 ┆ UTC        ┆ UTC        ┆            ┆   ┆            ┆           ┆          ┆      │\n",
       "│ …          ┆            ┆            ┆            ┆   ┆            ┆           ┆          ┆      │\n",
       "│ fff0adcd6c ┆ 2017-08-17 ┆ 2022-06-05 ┆ 1753.0     ┆ … ┆ Bizkaia    ┆ null      ┆ null     ┆ 9820 │\n",
       "│ db7434496a ┆ 01:00:00   ┆ 00:00:00   ┆            ┆   ┆            ┆           ┆          ┆      │\n",
       "│ 5222f03337 ┆ UTC        ┆ UTC        ┆            ┆   ┆            ┆           ┆          ┆      │\n",
       "│ …          ┆            ┆            ┆            ┆   ┆            ┆           ┆          ┆      │\n",
       "│ fff282fcaa ┆ 2021-11-08 ┆ 2022-06-03 ┆ 207.0      ┆ … ┆ Alicante/A ┆ null      ┆ null     ┆ 9820 │\n",
       "│ 968a999b29 ┆ 01:00:00   ┆ 00:00:00   ┆            ┆   ┆ lacant     ┆           ┆          ┆      │\n",
       "│ 01731ed2ec ┆ UTC        ┆ UTC        ┆            ┆   ┆            ┆           ┆          ┆      │\n",
       "│ …          ┆            ┆            ┆            ┆   ┆            ┆           ┆          ┆      │\n",
       "│ fff3e258f1 ┆ 2021-09-17 ┆ 2022-06-05 ┆ 261.0      ┆ … ┆ Gipuzkoa   ┆ Donostia/ ┆ 20011    ┆ 9820 │\n",
       "│ cb36595561 ┆ 01:00:00   ┆ 00:00:00   ┆            ┆   ┆            ┆ San       ┆          ┆      │\n",
       "│ 63542d204d ┆ UTC        ┆ UTC        ┆            ┆   ┆            ┆ Sebastian ┆          ┆      │\n",
       "│ …          ┆            ┆            ┆            ┆   ┆            ┆           ┆          ┆      │\n",
       "└────────────┴────────────┴────────────┴────────────┴───┴────────────┴───────────┴──────────┴──────┘"
      ],
      "text/html": [
       "<div><style>\n",
       ".dataframe > thead > tr,\n",
       ".dataframe > tbody > tr {\n",
       "  text-align: right;\n",
       "  white-space: pre-wrap;\n",
       "}\n",
       "</style>\n",
       "<small>shape: (25_559, 23)</small><table border=\"1\" class=\"dataframe\"><thead><tr><th>user</th><th>start_date</th><th>end_date</th><th>length_days</th><th>length_years</th><th>potential_samples</th><th>actual_samples</th><th>missing_samples_abs</th><th>missing_samples_pct</th><th>contract_start_date</th><th>contract_end_date</th><th>contracted_tariff</th><th>self_consumption_type</th><th>p1</th><th>p2</th><th>p3</th><th>p4</th><th>p5</th><th>p6</th><th>province</th><th>municipality</th><th>zip_code</th><th>cnae</th></tr><tr><td>str</td><td>datetime[μs, UTC]</td><td>datetime[μs, UTC]</td><td>f64</td><td>f64</td><td>i64</td><td>i64</td><td>i64</td><td>f64</td><td>date</td><td>date</td><td>str</td><td>str</td><td>f64</td><td>f64</td><td>f64</td><td>f64</td><td>f64</td><td>f64</td><td>str</td><td>str</td><td>i64</td><td>i64</td></tr></thead><tbody><tr><td>&quot;00000c5a448d9faa097b761cc98036…</td><td>2022-05-30 01:00:00 UTC</td><td>2022-06-05 00:00:00 UTC</td><td>6.0</td><td>0.016427</td><td>144</td><td>144</td><td>0</td><td>0.0</td><td>2022-05-31</td><td>null</td><td>&quot;2.0TD&quot;</td><td>&quot;&quot;</td><td>2.2</td><td>2.2</td><td>0.0</td><td>0.0</td><td>0.0</td><td>0.0</td><td>&quot;Gipuzkoa&quot;</td><td>null</td><td>null</td><td>9329</td></tr><tr><td>&quot;0001b3b2f18c01c62ed9b2a87de7b4…</td><td>2017-05-31 01:00:00 UTC</td><td>2022-06-05 00:00:00 UTC</td><td>1831.0</td><td>5.013005</td><td>43944</td><td>43863</td><td>81</td><td>0.184326</td><td>2021-06-01</td><td>null</td><td>&quot;2.0TD&quot;</td><td>&quot;&quot;</td><td>3.45</td><td>3.45</td><td>null</td><td>null</td><td>null</td><td>null</td><td>&quot;Bizkaia&quot;</td><td>null</td><td>null</td><td>9820</td></tr><tr><td>&quot;0003de2700e20a1681d69fe287441d…</td><td>2017-05-31 01:00:00 UTC</td><td>2019-11-14 00:00:00 UTC</td><td>897.0</td><td>2.455852</td><td>21528</td><td>21476</td><td>52</td><td>0.241546</td><td>2019-09-02</td><td>2019-11-13</td><td>&quot;2.0A&quot;</td><td>&quot;&quot;</td><td>4.6</td><td>null</td><td>null</td><td>null</td><td>null</td><td>null</td><td>&quot;Gipuzkoa&quot;</td><td>&quot;Donostia/San Sebastian&quot;</td><td>20013</td><td>9820</td></tr><tr><td>&quot;0004150214d14a2b2e6f7075531e66…</td><td>2018-07-12 01:00:00 UTC</td><td>2022-06-05 00:00:00 UTC</td><td>1424.0</td><td>3.8987</td><td>34176</td><td>34169</td><td>7</td><td>0.020482</td><td>2021-06-01</td><td>null</td><td>&quot;2.0TD&quot;</td><td>&quot;&quot;</td><td>9.2</td><td>9.2</td><td>null</td><td>null</td><td>null</td><td>null</td><td>&quot;Gipuzkoa&quot;</td><td>&quot;Irun&quot;</td><td>20304</td><td>4759</td></tr><tr><td>&quot;000721f0fc6ccf02ae24b673939795…</td><td>2017-05-30 01:00:00 UTC</td><td>2022-06-04 00:00:00 UTC</td><td>1831.0</td><td>5.013005</td><td>43944</td><td>43815</td><td>129</td><td>0.293555</td><td>2021-06-01</td><td>null</td><td>&quot;2.0TD&quot;</td><td>&quot;&quot;</td><td>4.4</td><td>4.4</td><td>null</td><td>null</td><td>null</td><td>null</td><td>&quot;Bizkaia&quot;</td><td>null</td><td>null</td><td>9820</td></tr><tr><td>&hellip;</td><td>&hellip;</td><td>&hellip;</td><td>&hellip;</td><td>&hellip;</td><td>&hellip;</td><td>&hellip;</td><td>&hellip;</td><td>&hellip;</td><td>&hellip;</td><td>&hellip;</td><td>&hellip;</td><td>&hellip;</td><td>&hellip;</td><td>&hellip;</td><td>&hellip;</td><td>&hellip;</td><td>&hellip;</td><td>&hellip;</td><td>&hellip;</td><td>&hellip;</td><td>&hellip;</td><td>&hellip;</td></tr><tr><td>&quot;ffeddf4919e748beb50af7c6b73def…</td><td>2018-10-02 01:00:00 UTC</td><td>2021-11-03 00:00:00 UTC</td><td>1128.0</td><td>3.088296</td><td>27072</td><td>27069</td><td>3</td><td>0.011082</td><td>2021-06-01</td><td>null</td><td>&quot;2.0TD&quot;</td><td>&quot;&quot;</td><td>6.0</td><td>6.0</td><td>null</td><td>null</td><td>null</td><td>null</td><td>&quot;Soria&quot;</td><td>null</td><td>null</td><td>9820</td></tr><tr><td>&quot;ffefb9e27715b1c3fa5007c457de55…</td><td>2021-07-06 01:00:00 UTC</td><td>2022-06-05 00:00:00 UTC</td><td>334.0</td><td>0.914442</td><td>8016</td><td>8014</td><td>2</td><td>0.02495</td><td>2021-07-07</td><td>null</td><td>&quot;2.0TD&quot;</td><td>&quot;&quot;</td><td>3.45</td><td>3.45</td><td>0.0</td><td>0.0</td><td>0.0</td><td>0.0</td><td>&quot;Bizkaia&quot;</td><td>&quot;Bilbao&quot;</td><td>48012</td><td>9820</td></tr><tr><td>&quot;fff0adcd6cdb7434496a5222f03337…</td><td>2017-08-17 01:00:00 UTC</td><td>2022-06-05 00:00:00 UTC</td><td>1753.0</td><td>4.799452</td><td>42072</td><td>41102</td><td>970</td><td>2.305571</td><td>2021-06-01</td><td>null</td><td>&quot;2.0TD&quot;</td><td>&quot;&quot;</td><td>4.6</td><td>4.6</td><td>null</td><td>null</td><td>null</td><td>null</td><td>&quot;Bizkaia&quot;</td><td>null</td><td>null</td><td>9820</td></tr><tr><td>&quot;fff282fcaa968a999b2901731ed2ec…</td><td>2021-11-08 01:00:00 UTC</td><td>2022-06-03 00:00:00 UTC</td><td>207.0</td><td>0.566735</td><td>4968</td><td>4967</td><td>1</td><td>0.020129</td><td>2022-02-10</td><td>null</td><td>&quot;2.0TD&quot;</td><td>&quot;&quot;</td><td>3.3</td><td>3.3</td><td>null</td><td>null</td><td>null</td><td>null</td><td>&quot;Alicante/Alacant&quot;</td><td>null</td><td>null</td><td>9820</td></tr><tr><td>&quot;fff3e258f1cb3659556163542d204d…</td><td>2021-09-17 01:00:00 UTC</td><td>2022-06-05 00:00:00 UTC</td><td>261.0</td><td>0.714579</td><td>6264</td><td>6262</td><td>2</td><td>0.031928</td><td>2021-09-18</td><td>null</td><td>&quot;2.0TD&quot;</td><td>&quot;&quot;</td><td>4.6</td><td>4.6</td><td>0.0</td><td>0.0</td><td>0.0</td><td>0.0</td><td>&quot;Gipuzkoa&quot;</td><td>&quot;Donostia/San Sebastian&quot;</td><td>20011</td><td>9820</td></tr></tbody></table></div>"
      ]
     },
     "execution_count": 5,
     "metadata": {},
     "output_type": "execute_result"
    }
   ],
   "execution_count": 5
  },
  {
   "metadata": {
    "ExecuteTime": {
     "end_time": "2025-04-08T15:52:08.004457Z",
     "start_time": "2025-04-08T15:52:08.002008Z"
    }
   },
   "cell_type": "code",
   "source": [
    "# metadata['start_date'] = pl.date(metadata['start_date'])\n",
    "# metadata['end_date'] = pl.datetime(metadata['end_date'])"
   ],
   "id": "c7efcd04d43dcd21",
   "outputs": [],
   "execution_count": 6
  },
  {
   "metadata": {
    "ExecuteTime": {
     "end_time": "2025-04-08T15:58:06.588041Z",
     "start_time": "2025-04-08T15:58:06.571038Z"
    }
   },
   "cell_type": "code",
   "source": [
    "# metadata_post_covid = metadata[metadata['start_date'] > pd.to_datetime('2021-05-31T00:00:00Z')]\n",
    "metadata_post_covid = metadata.filter(\n",
    "    pl.col(\"start_date\").is_between(pl.datetime(2021, 5, 31, time_zone=\"UTC\"), pl.datetime(3000, 1, 1, time_zone=\"UTC\"))\n",
    ")\n",
    "metadata_post_covid.head()"
   ],
   "id": "9d6ca47ff67a3721",
   "outputs": [
    {
     "data": {
      "text/plain": [
       "shape: (5, 23)\n",
       "┌────────────┬────────────┬────────────┬────────────┬───┬────────────┬───────────┬──────────┬──────┐\n",
       "│ user       ┆ start_date ┆ end_date   ┆ length_day ┆ … ┆ province   ┆ municipal ┆ zip_code ┆ cnae │\n",
       "│ ---        ┆ ---        ┆ ---        ┆ s          ┆   ┆ ---        ┆ ity       ┆ ---      ┆ ---  │\n",
       "│ str        ┆ datetime[μ ┆ datetime[μ ┆ ---        ┆   ┆ str        ┆ ---       ┆ i64      ┆ i64  │\n",
       "│            ┆ s, UTC]    ┆ s, UTC]    ┆ f64        ┆   ┆            ┆ str       ┆          ┆      │\n",
       "╞════════════╪════════════╪════════════╪════════════╪═══╪════════════╪═══════════╪══════════╪══════╡\n",
       "│ 00000c5a44 ┆ 2022-05-30 ┆ 2022-06-05 ┆ 6.0        ┆ … ┆ Gipuzkoa   ┆ null      ┆ null     ┆ 9329 │\n",
       "│ 8d9faa097b ┆ 01:00:00   ┆ 00:00:00   ┆            ┆   ┆            ┆           ┆          ┆      │\n",
       "│ 761cc98036 ┆ UTC        ┆ UTC        ┆            ┆   ┆            ┆           ┆          ┆      │\n",
       "│ …          ┆            ┆            ┆            ┆   ┆            ┆           ┆          ┆      │\n",
       "│ 0019697721 ┆ 2021-12-14 ┆ 2022-06-05 ┆ 173.0      ┆ … ┆ Bizkaia    ┆ Bilbao    ┆ 48013    ┆ null │\n",
       "│ 45e8c6bb73 ┆ 01:00:00   ┆ 00:00:00   ┆            ┆   ┆            ┆           ┆          ┆      │\n",
       "│ 8528594aef ┆ UTC        ┆ UTC        ┆            ┆   ┆            ┆           ┆          ┆      │\n",
       "│ …          ┆            ┆            ┆            ┆   ┆            ┆           ┆          ┆      │\n",
       "│ 001e11d0fb ┆ 2021-07-30 ┆ 2022-06-04 ┆ 309.0      ┆ … ┆ Araba/Alav ┆ Vitoria-G ┆ 1015     ┆ 9820 │\n",
       "│ e42f2b1197 ┆ 01:00:00   ┆ 00:00:00   ┆            ┆   ┆ a          ┆ asteiz    ┆          ┆      │\n",
       "│ 41d5af6f4a ┆ UTC        ┆ UTC        ┆            ┆   ┆            ┆           ┆          ┆      │\n",
       "│ …          ┆            ┆            ┆            ┆   ┆            ┆           ┆          ┆      │\n",
       "│ 0024e07345 ┆ 2021-06-03 ┆ 2022-06-05 ┆ 367.0      ┆ … ┆ Navarra    ┆ null      ┆ null     ┆ 9820 │\n",
       "│ b50dd266c6 ┆ 01:00:00   ┆ 00:00:00   ┆            ┆   ┆            ┆           ┆          ┆      │\n",
       "│ 390d5c496a ┆ UTC        ┆ UTC        ┆            ┆   ┆            ┆           ┆          ┆      │\n",
       "│ …          ┆            ┆            ┆            ┆   ┆            ┆           ┆          ┆      │\n",
       "│ 00286b6d86 ┆ 2021-09-01 ┆ 2022-06-05 ┆ 277.0      ┆ … ┆ Gipuzkoa   ┆ null      ┆ null     ┆ 9820 │\n",
       "│ e8094a80c6 ┆ 01:00:00   ┆ 00:00:00   ┆            ┆   ┆            ┆           ┆          ┆      │\n",
       "│ efeec03c55 ┆ UTC        ┆ UTC        ┆            ┆   ┆            ┆           ┆          ┆      │\n",
       "│ …          ┆            ┆            ┆            ┆   ┆            ┆           ┆          ┆      │\n",
       "└────────────┴────────────┴────────────┴────────────┴───┴────────────┴───────────┴──────────┴──────┘"
      ],
      "text/html": [
       "<div><style>\n",
       ".dataframe > thead > tr,\n",
       ".dataframe > tbody > tr {\n",
       "  text-align: right;\n",
       "  white-space: pre-wrap;\n",
       "}\n",
       "</style>\n",
       "<small>shape: (5, 23)</small><table border=\"1\" class=\"dataframe\"><thead><tr><th>user</th><th>start_date</th><th>end_date</th><th>length_days</th><th>length_years</th><th>potential_samples</th><th>actual_samples</th><th>missing_samples_abs</th><th>missing_samples_pct</th><th>contract_start_date</th><th>contract_end_date</th><th>contracted_tariff</th><th>self_consumption_type</th><th>p1</th><th>p2</th><th>p3</th><th>p4</th><th>p5</th><th>p6</th><th>province</th><th>municipality</th><th>zip_code</th><th>cnae</th></tr><tr><td>str</td><td>datetime[μs, UTC]</td><td>datetime[μs, UTC]</td><td>f64</td><td>f64</td><td>i64</td><td>i64</td><td>i64</td><td>f64</td><td>date</td><td>date</td><td>str</td><td>str</td><td>f64</td><td>f64</td><td>f64</td><td>f64</td><td>f64</td><td>f64</td><td>str</td><td>str</td><td>i64</td><td>i64</td></tr></thead><tbody><tr><td>&quot;00000c5a448d9faa097b761cc98036…</td><td>2022-05-30 01:00:00 UTC</td><td>2022-06-05 00:00:00 UTC</td><td>6.0</td><td>0.016427</td><td>144</td><td>144</td><td>0</td><td>0.0</td><td>2022-05-31</td><td>null</td><td>&quot;2.0TD&quot;</td><td>&quot;&quot;</td><td>2.2</td><td>2.2</td><td>0.0</td><td>0.0</td><td>0.0</td><td>0.0</td><td>&quot;Gipuzkoa&quot;</td><td>null</td><td>null</td><td>9329</td></tr><tr><td>&quot;001969772145e8c6bb738528594aef…</td><td>2021-12-14 01:00:00 UTC</td><td>2022-06-05 00:00:00 UTC</td><td>173.0</td><td>0.473648</td><td>4152</td><td>4151</td><td>1</td><td>0.024085</td><td>2021-12-15</td><td>null</td><td>&quot;2.0TD&quot;</td><td>&quot;&quot;</td><td>4.4</td><td>4.4</td><td>0.0</td><td>0.0</td><td>0.0</td><td>0.0</td><td>&quot;Bizkaia&quot;</td><td>&quot;Bilbao&quot;</td><td>48013</td><td>null</td></tr><tr><td>&quot;001e11d0fbe42f2b119741d5af6f4a…</td><td>2021-07-30 01:00:00 UTC</td><td>2022-06-04 00:00:00 UTC</td><td>309.0</td><td>0.845996</td><td>7416</td><td>7414</td><td>2</td><td>0.026969</td><td>2021-07-31</td><td>null</td><td>&quot;2.0TD&quot;</td><td>&quot;&quot;</td><td>5.75</td><td>5.75</td><td>0.0</td><td>0.0</td><td>0.0</td><td>0.0</td><td>&quot;Araba/Alava&quot;</td><td>&quot;Vitoria-Gasteiz&quot;</td><td>1015</td><td>9820</td></tr><tr><td>&quot;0024e07345b50dd266c6390d5c496a…</td><td>2021-06-03 01:00:00 UTC</td><td>2022-06-05 00:00:00 UTC</td><td>367.0</td><td>1.004791</td><td>8808</td><td>8806</td><td>2</td><td>0.022707</td><td>2021-06-04</td><td>null</td><td>&quot;2.0TD&quot;</td><td>&quot;&quot;</td><td>4.4</td><td>4.4</td><td>0.0</td><td>0.0</td><td>0.0</td><td>0.0</td><td>&quot;Navarra&quot;</td><td>null</td><td>null</td><td>9820</td></tr><tr><td>&quot;00286b6d86e8094a80c6efeec03c55…</td><td>2021-09-01 01:00:00 UTC</td><td>2022-06-05 00:00:00 UTC</td><td>277.0</td><td>0.758385</td><td>6648</td><td>6646</td><td>2</td><td>0.030084</td><td>2021-09-02</td><td>null</td><td>&quot;2.0TD&quot;</td><td>&quot;&quot;</td><td>3.45</td><td>3.45</td><td>0.0</td><td>0.0</td><td>0.0</td><td>0.0</td><td>&quot;Gipuzkoa&quot;</td><td>null</td><td>null</td><td>9820</td></tr></tbody></table></div>"
      ]
     },
     "execution_count": 10,
     "metadata": {},
     "output_type": "execute_result"
    }
   ],
   "execution_count": 10
  },
  {
   "metadata": {
    "ExecuteTime": {
     "end_time": "2025-04-08T15:58:26.105436Z",
     "start_time": "2025-04-08T15:58:26.099639Z"
    }
   },
   "cell_type": "code",
   "source": "metadata_post_covid['municipality'].value_counts()",
   "id": "293ae0750bcecee9",
   "outputs": [
    {
     "data": {
      "text/plain": [
       "shape: (68, 2)\n",
       "┌────────────────────────┬───────┐\n",
       "│ municipality           ┆ count │\n",
       "│ ---                    ┆ ---   │\n",
       "│ str                    ┆ u32   │\n",
       "╞════════════════════════╪═══════╡\n",
       "│ Donostia/San Sebastian ┆ 282   │\n",
       "│ Majadahonda            ┆ 1     │\n",
       "│ Sagunto/Sagunt         ┆ 1     │\n",
       "│ Barakaldo              ┆ 23    │\n",
       "│ Malaga                 ┆ 5     │\n",
       "│ …                      ┆ …     │\n",
       "│ Caceres                ┆ 8     │\n",
       "│ Valdemoro              ┆ 2     │\n",
       "│ Madrid                 ┆ 178   │\n",
       "│ Getxo                  ┆ 42    │\n",
       "│ Motril                 ┆ 1     │\n",
       "└────────────────────────┴───────┘"
      ],
      "text/html": [
       "<div><style>\n",
       ".dataframe > thead > tr,\n",
       ".dataframe > tbody > tr {\n",
       "  text-align: right;\n",
       "  white-space: pre-wrap;\n",
       "}\n",
       "</style>\n",
       "<small>shape: (68, 2)</small><table border=\"1\" class=\"dataframe\"><thead><tr><th>municipality</th><th>count</th></tr><tr><td>str</td><td>u32</td></tr></thead><tbody><tr><td>&quot;Donostia/San Sebastian&quot;</td><td>282</td></tr><tr><td>&quot;Majadahonda&quot;</td><td>1</td></tr><tr><td>&quot;Sagunto/Sagunt&quot;</td><td>1</td></tr><tr><td>&quot;Barakaldo&quot;</td><td>23</td></tr><tr><td>&quot;Malaga&quot;</td><td>5</td></tr><tr><td>&hellip;</td><td>&hellip;</td></tr><tr><td>&quot;Caceres&quot;</td><td>8</td></tr><tr><td>&quot;Valdemoro&quot;</td><td>2</td></tr><tr><td>&quot;Madrid&quot;</td><td>178</td></tr><tr><td>&quot;Getxo&quot;</td><td>42</td></tr><tr><td>&quot;Motril&quot;</td><td>1</td></tr></tbody></table></div>"
      ]
     },
     "execution_count": 11,
     "metadata": {},
     "output_type": "execute_result"
    }
   ],
   "execution_count": 11
  },
  {
   "metadata": {
    "ExecuteTime": {
     "end_time": "2025-04-08T16:01:04.661281Z",
     "start_time": "2025-04-08T16:01:04.652316Z"
    }
   },
   "cell_type": "code",
   "source": "metadata_post_covid.filter(metadata_post_covid['province'].is_not_null())",
   "id": "f1902f5fe1b0c23b",
   "outputs": [
    {
     "data": {
      "text/plain": [
       "shape: (4_269, 23)\n",
       "┌────────────┬────────────┬────────────┬────────────┬───┬────────────┬───────────┬──────────┬──────┐\n",
       "│ user       ┆ start_date ┆ end_date   ┆ length_day ┆ … ┆ province   ┆ municipal ┆ zip_code ┆ cnae │\n",
       "│ ---        ┆ ---        ┆ ---        ┆ s          ┆   ┆ ---        ┆ ity       ┆ ---      ┆ ---  │\n",
       "│ str        ┆ datetime[μ ┆ datetime[μ ┆ ---        ┆   ┆ str        ┆ ---       ┆ i64      ┆ i64  │\n",
       "│            ┆ s, UTC]    ┆ s, UTC]    ┆ f64        ┆   ┆            ┆ str       ┆          ┆      │\n",
       "╞════════════╪════════════╪════════════╪════════════╪═══╪════════════╪═══════════╪══════════╪══════╡\n",
       "│ 00000c5a44 ┆ 2022-05-30 ┆ 2022-06-05 ┆ 6.0        ┆ … ┆ Gipuzkoa   ┆ null      ┆ null     ┆ 9329 │\n",
       "│ 8d9faa097b ┆ 01:00:00   ┆ 00:00:00   ┆            ┆   ┆            ┆           ┆          ┆      │\n",
       "│ 761cc98036 ┆ UTC        ┆ UTC        ┆            ┆   ┆            ┆           ┆          ┆      │\n",
       "│ …          ┆            ┆            ┆            ┆   ┆            ┆           ┆          ┆      │\n",
       "│ 0019697721 ┆ 2021-12-14 ┆ 2022-06-05 ┆ 173.0      ┆ … ┆ Bizkaia    ┆ Bilbao    ┆ 48013    ┆ null │\n",
       "│ 45e8c6bb73 ┆ 01:00:00   ┆ 00:00:00   ┆            ┆   ┆            ┆           ┆          ┆      │\n",
       "│ 8528594aef ┆ UTC        ┆ UTC        ┆            ┆   ┆            ┆           ┆          ┆      │\n",
       "│ …          ┆            ┆            ┆            ┆   ┆            ┆           ┆          ┆      │\n",
       "│ 001e11d0fb ┆ 2021-07-30 ┆ 2022-06-04 ┆ 309.0      ┆ … ┆ Araba/Alav ┆ Vitoria-G ┆ 1015     ┆ 9820 │\n",
       "│ e42f2b1197 ┆ 01:00:00   ┆ 00:00:00   ┆            ┆   ┆ a          ┆ asteiz    ┆          ┆      │\n",
       "│ 41d5af6f4a ┆ UTC        ┆ UTC        ┆            ┆   ┆            ┆           ┆          ┆      │\n",
       "│ …          ┆            ┆            ┆            ┆   ┆            ┆           ┆          ┆      │\n",
       "│ 0024e07345 ┆ 2021-06-03 ┆ 2022-06-05 ┆ 367.0      ┆ … ┆ Navarra    ┆ null      ┆ null     ┆ 9820 │\n",
       "│ b50dd266c6 ┆ 01:00:00   ┆ 00:00:00   ┆            ┆   ┆            ┆           ┆          ┆      │\n",
       "│ 390d5c496a ┆ UTC        ┆ UTC        ┆            ┆   ┆            ┆           ┆          ┆      │\n",
       "│ …          ┆            ┆            ┆            ┆   ┆            ┆           ┆          ┆      │\n",
       "│ 00286b6d86 ┆ 2021-09-01 ┆ 2022-06-05 ┆ 277.0      ┆ … ┆ Gipuzkoa   ┆ null      ┆ null     ┆ 9820 │\n",
       "│ e8094a80c6 ┆ 01:00:00   ┆ 00:00:00   ┆            ┆   ┆            ┆           ┆          ┆      │\n",
       "│ efeec03c55 ┆ UTC        ┆ UTC        ┆            ┆   ┆            ┆           ┆          ┆      │\n",
       "│ …          ┆            ┆            ┆            ┆   ┆            ┆           ┆          ┆      │\n",
       "│ …          ┆ …          ┆ …          ┆ …          ┆ … ┆ …          ┆ …         ┆ …        ┆ …    │\n",
       "│ ffe0fec04b ┆ 2021-12-31 ┆ 2022-06-05 ┆ 156.0      ┆ … ┆ Gipuzkoa   ┆ null      ┆ null     ┆ 9820 │\n",
       "│ 184324aaef ┆ 01:00:00   ┆ 00:00:00   ┆            ┆   ┆            ┆           ┆          ┆      │\n",
       "│ 086e779326 ┆ UTC        ┆ UTC        ┆            ┆   ┆            ┆           ┆          ┆      │\n",
       "│ …          ┆            ┆            ┆            ┆   ┆            ┆           ┆          ┆      │\n",
       "│ ffe139ac87 ┆ 2021-09-17 ┆ 2022-03-05 ┆ 169.0      ┆ … ┆ Araba/Alav ┆ null      ┆ null     ┆ 0    │\n",
       "│ 5ad687fa4f ┆ 01:00:00   ┆ 00:00:00   ┆            ┆   ┆ a          ┆           ┆          ┆      │\n",
       "│ 02fad29f12 ┆ UTC        ┆ UTC        ┆            ┆   ┆            ┆           ┆          ┆      │\n",
       "│ …          ┆            ┆            ┆            ┆   ┆            ┆           ┆          ┆      │\n",
       "│ ffefb9e277 ┆ 2021-07-06 ┆ 2022-06-05 ┆ 334.0      ┆ … ┆ Bizkaia    ┆ Bilbao    ┆ 48012    ┆ 9820 │\n",
       "│ 15b1c3fa50 ┆ 01:00:00   ┆ 00:00:00   ┆            ┆   ┆            ┆           ┆          ┆      │\n",
       "│ 07c457de55 ┆ UTC        ┆ UTC        ┆            ┆   ┆            ┆           ┆          ┆      │\n",
       "│ …          ┆            ┆            ┆            ┆   ┆            ┆           ┆          ┆      │\n",
       "│ fff282fcaa ┆ 2021-11-08 ┆ 2022-06-03 ┆ 207.0      ┆ … ┆ Alicante/A ┆ null      ┆ null     ┆ 9820 │\n",
       "│ 968a999b29 ┆ 01:00:00   ┆ 00:00:00   ┆            ┆   ┆ lacant     ┆           ┆          ┆      │\n",
       "│ 01731ed2ec ┆ UTC        ┆ UTC        ┆            ┆   ┆            ┆           ┆          ┆      │\n",
       "│ …          ┆            ┆            ┆            ┆   ┆            ┆           ┆          ┆      │\n",
       "│ fff3e258f1 ┆ 2021-09-17 ┆ 2022-06-05 ┆ 261.0      ┆ … ┆ Gipuzkoa   ┆ Donostia/ ┆ 20011    ┆ 9820 │\n",
       "│ cb36595561 ┆ 01:00:00   ┆ 00:00:00   ┆            ┆   ┆            ┆ San       ┆          ┆      │\n",
       "│ 63542d204d ┆ UTC        ┆ UTC        ┆            ┆   ┆            ┆ Sebastian ┆          ┆      │\n",
       "│ …          ┆            ┆            ┆            ┆   ┆            ┆           ┆          ┆      │\n",
       "└────────────┴────────────┴────────────┴────────────┴───┴────────────┴───────────┴──────────┴──────┘"
      ],
      "text/html": [
       "<div><style>\n",
       ".dataframe > thead > tr,\n",
       ".dataframe > tbody > tr {\n",
       "  text-align: right;\n",
       "  white-space: pre-wrap;\n",
       "}\n",
       "</style>\n",
       "<small>shape: (4_269, 23)</small><table border=\"1\" class=\"dataframe\"><thead><tr><th>user</th><th>start_date</th><th>end_date</th><th>length_days</th><th>length_years</th><th>potential_samples</th><th>actual_samples</th><th>missing_samples_abs</th><th>missing_samples_pct</th><th>contract_start_date</th><th>contract_end_date</th><th>contracted_tariff</th><th>self_consumption_type</th><th>p1</th><th>p2</th><th>p3</th><th>p4</th><th>p5</th><th>p6</th><th>province</th><th>municipality</th><th>zip_code</th><th>cnae</th></tr><tr><td>str</td><td>datetime[μs, UTC]</td><td>datetime[μs, UTC]</td><td>f64</td><td>f64</td><td>i64</td><td>i64</td><td>i64</td><td>f64</td><td>date</td><td>date</td><td>str</td><td>str</td><td>f64</td><td>f64</td><td>f64</td><td>f64</td><td>f64</td><td>f64</td><td>str</td><td>str</td><td>i64</td><td>i64</td></tr></thead><tbody><tr><td>&quot;00000c5a448d9faa097b761cc98036…</td><td>2022-05-30 01:00:00 UTC</td><td>2022-06-05 00:00:00 UTC</td><td>6.0</td><td>0.016427</td><td>144</td><td>144</td><td>0</td><td>0.0</td><td>2022-05-31</td><td>null</td><td>&quot;2.0TD&quot;</td><td>&quot;&quot;</td><td>2.2</td><td>2.2</td><td>0.0</td><td>0.0</td><td>0.0</td><td>0.0</td><td>&quot;Gipuzkoa&quot;</td><td>null</td><td>null</td><td>9329</td></tr><tr><td>&quot;001969772145e8c6bb738528594aef…</td><td>2021-12-14 01:00:00 UTC</td><td>2022-06-05 00:00:00 UTC</td><td>173.0</td><td>0.473648</td><td>4152</td><td>4151</td><td>1</td><td>0.024085</td><td>2021-12-15</td><td>null</td><td>&quot;2.0TD&quot;</td><td>&quot;&quot;</td><td>4.4</td><td>4.4</td><td>0.0</td><td>0.0</td><td>0.0</td><td>0.0</td><td>&quot;Bizkaia&quot;</td><td>&quot;Bilbao&quot;</td><td>48013</td><td>null</td></tr><tr><td>&quot;001e11d0fbe42f2b119741d5af6f4a…</td><td>2021-07-30 01:00:00 UTC</td><td>2022-06-04 00:00:00 UTC</td><td>309.0</td><td>0.845996</td><td>7416</td><td>7414</td><td>2</td><td>0.026969</td><td>2021-07-31</td><td>null</td><td>&quot;2.0TD&quot;</td><td>&quot;&quot;</td><td>5.75</td><td>5.75</td><td>0.0</td><td>0.0</td><td>0.0</td><td>0.0</td><td>&quot;Araba/Alava&quot;</td><td>&quot;Vitoria-Gasteiz&quot;</td><td>1015</td><td>9820</td></tr><tr><td>&quot;0024e07345b50dd266c6390d5c496a…</td><td>2021-06-03 01:00:00 UTC</td><td>2022-06-05 00:00:00 UTC</td><td>367.0</td><td>1.004791</td><td>8808</td><td>8806</td><td>2</td><td>0.022707</td><td>2021-06-04</td><td>null</td><td>&quot;2.0TD&quot;</td><td>&quot;&quot;</td><td>4.4</td><td>4.4</td><td>0.0</td><td>0.0</td><td>0.0</td><td>0.0</td><td>&quot;Navarra&quot;</td><td>null</td><td>null</td><td>9820</td></tr><tr><td>&quot;00286b6d86e8094a80c6efeec03c55…</td><td>2021-09-01 01:00:00 UTC</td><td>2022-06-05 00:00:00 UTC</td><td>277.0</td><td>0.758385</td><td>6648</td><td>6646</td><td>2</td><td>0.030084</td><td>2021-09-02</td><td>null</td><td>&quot;2.0TD&quot;</td><td>&quot;&quot;</td><td>3.45</td><td>3.45</td><td>0.0</td><td>0.0</td><td>0.0</td><td>0.0</td><td>&quot;Gipuzkoa&quot;</td><td>null</td><td>null</td><td>9820</td></tr><tr><td>&hellip;</td><td>&hellip;</td><td>&hellip;</td><td>&hellip;</td><td>&hellip;</td><td>&hellip;</td><td>&hellip;</td><td>&hellip;</td><td>&hellip;</td><td>&hellip;</td><td>&hellip;</td><td>&hellip;</td><td>&hellip;</td><td>&hellip;</td><td>&hellip;</td><td>&hellip;</td><td>&hellip;</td><td>&hellip;</td><td>&hellip;</td><td>&hellip;</td><td>&hellip;</td><td>&hellip;</td><td>&hellip;</td></tr><tr><td>&quot;ffe0fec04b184324aaef086e779326…</td><td>2021-12-31 01:00:00 UTC</td><td>2022-06-05 00:00:00 UTC</td><td>156.0</td><td>0.427105</td><td>3744</td><td>3743</td><td>1</td><td>0.026709</td><td>2022-01-01</td><td>null</td><td>&quot;2.0TD&quot;</td><td>&quot;&quot;</td><td>3.3</td><td>3.3</td><td>null</td><td>null</td><td>null</td><td>null</td><td>&quot;Gipuzkoa&quot;</td><td>null</td><td>null</td><td>9820</td></tr><tr><td>&quot;ffe139ac875ad687fa4f02fad29f12…</td><td>2021-09-17 01:00:00 UTC</td><td>2022-03-05 00:00:00 UTC</td><td>169.0</td><td>0.462697</td><td>4056</td><td>4055</td><td>1</td><td>0.024655</td><td>2021-09-18</td><td>null</td><td>&quot;2.0TD&quot;</td><td>&quot;&quot;</td><td>2.2</td><td>2.2</td><td>0.0</td><td>0.0</td><td>0.0</td><td>0.0</td><td>&quot;Araba/Alava&quot;</td><td>null</td><td>null</td><td>0</td></tr><tr><td>&quot;ffefb9e27715b1c3fa5007c457de55…</td><td>2021-07-06 01:00:00 UTC</td><td>2022-06-05 00:00:00 UTC</td><td>334.0</td><td>0.914442</td><td>8016</td><td>8014</td><td>2</td><td>0.02495</td><td>2021-07-07</td><td>null</td><td>&quot;2.0TD&quot;</td><td>&quot;&quot;</td><td>3.45</td><td>3.45</td><td>0.0</td><td>0.0</td><td>0.0</td><td>0.0</td><td>&quot;Bizkaia&quot;</td><td>&quot;Bilbao&quot;</td><td>48012</td><td>9820</td></tr><tr><td>&quot;fff282fcaa968a999b2901731ed2ec…</td><td>2021-11-08 01:00:00 UTC</td><td>2022-06-03 00:00:00 UTC</td><td>207.0</td><td>0.566735</td><td>4968</td><td>4967</td><td>1</td><td>0.020129</td><td>2022-02-10</td><td>null</td><td>&quot;2.0TD&quot;</td><td>&quot;&quot;</td><td>3.3</td><td>3.3</td><td>null</td><td>null</td><td>null</td><td>null</td><td>&quot;Alicante/Alacant&quot;</td><td>null</td><td>null</td><td>9820</td></tr><tr><td>&quot;fff3e258f1cb3659556163542d204d…</td><td>2021-09-17 01:00:00 UTC</td><td>2022-06-05 00:00:00 UTC</td><td>261.0</td><td>0.714579</td><td>6264</td><td>6262</td><td>2</td><td>0.031928</td><td>2021-09-18</td><td>null</td><td>&quot;2.0TD&quot;</td><td>&quot;&quot;</td><td>4.6</td><td>4.6</td><td>0.0</td><td>0.0</td><td>0.0</td><td>0.0</td><td>&quot;Gipuzkoa&quot;</td><td>&quot;Donostia/San Sebastian&quot;</td><td>20011</td><td>9820</td></tr></tbody></table></div>"
      ]
     },
     "execution_count": 20,
     "metadata": {},
     "output_type": "execute_result"
    }
   ],
   "execution_count": 20
  },
  {
   "metadata": {
    "ExecuteTime": {
     "end_time": "2025-04-08T16:07:54.173535Z",
     "start_time": "2025-04-08T16:07:54.168166Z"
    }
   },
   "cell_type": "code",
   "source": [
    "def getUniqueCount(df:pl.DataFrame, group_by:str):\n",
    "    return df.group_by(group_by).len().sort('len', descending=True)"
   ],
   "id": "7c60d02a81d67585",
   "outputs": [],
   "execution_count": 30
  },
  {
   "metadata": {
    "ExecuteTime": {
     "end_time": "2025-04-08T16:08:35.494015Z",
     "start_time": "2025-04-08T16:08:35.487006Z"
    }
   },
   "cell_type": "code",
   "source": "getUniqueCount(metadata_post_covid, 'province')",
   "id": "18df6d92f3a83d26",
   "outputs": [
    {
     "data": {
      "text/plain": [
       "shape: (42, 2)\n",
       "┌─────────────┬──────┐\n",
       "│ province    ┆ len  │\n",
       "│ ---         ┆ ---  │\n",
       "│ str         ┆ u32  │\n",
       "╞═════════════╪══════╡\n",
       "│ Gipuzkoa    ┆ 1491 │\n",
       "│ Bizkaia     ┆ 913  │\n",
       "│ Navarra     ┆ 640  │\n",
       "│ Araba/Alava ┆ 414  │\n",
       "│ Madrid      ┆ 252  │\n",
       "│ …           ┆ …    │\n",
       "│ Avila       ┆ 1    │\n",
       "│ Valladolid  ┆ 1    │\n",
       "│ Pontevedra  ┆ 1    │\n",
       "│ Cordoba     ┆ 1    │\n",
       "│ Almeria     ┆ 1    │\n",
       "└─────────────┴──────┘"
      ],
      "text/html": [
       "<div><style>\n",
       ".dataframe > thead > tr,\n",
       ".dataframe > tbody > tr {\n",
       "  text-align: right;\n",
       "  white-space: pre-wrap;\n",
       "}\n",
       "</style>\n",
       "<small>shape: (42, 2)</small><table border=\"1\" class=\"dataframe\"><thead><tr><th>province</th><th>len</th></tr><tr><td>str</td><td>u32</td></tr></thead><tbody><tr><td>&quot;Gipuzkoa&quot;</td><td>1491</td></tr><tr><td>&quot;Bizkaia&quot;</td><td>913</td></tr><tr><td>&quot;Navarra&quot;</td><td>640</td></tr><tr><td>&quot;Araba/Alava&quot;</td><td>414</td></tr><tr><td>&quot;Madrid&quot;</td><td>252</td></tr><tr><td>&hellip;</td><td>&hellip;</td></tr><tr><td>&quot;Avila&quot;</td><td>1</td></tr><tr><td>&quot;Valladolid&quot;</td><td>1</td></tr><tr><td>&quot;Pontevedra&quot;</td><td>1</td></tr><tr><td>&quot;Cordoba&quot;</td><td>1</td></tr><tr><td>&quot;Almeria&quot;</td><td>1</td></tr></tbody></table></div>"
      ]
     },
     "execution_count": 33,
     "metadata": {},
     "output_type": "execute_result"
    }
   ],
   "execution_count": 33
  },
  {
   "metadata": {},
   "cell_type": "code",
   "outputs": [],
   "execution_count": null,
   "source": "",
   "id": "973db38e890c597"
  },
  {
   "metadata": {
    "ExecuteTime": {
     "end_time": "2025-03-11T16:42:19.628012Z",
     "start_time": "2025-03-11T16:42:19.596477Z"
    }
   },
   "cell_type": "code",
   "source": [
    "import glob\n",
    "import pandas as pd\n",
    "\n",
    "def combine_csv_files(source_folder, output_file):\n",
    "    # Get a list of all .csv files in the source folder\n",
    "    csv_files = glob.glob(f\"{source_folder}/*.csv\")\n",
    "\n",
    "    # Create an empty list to store dataframes\n",
    "    dataframes = []\n",
    "\n",
    "    # Loop through each .csv file, read it, and append it to the list of dataframes\n",
    "    for csv_file in csv_files:\n",
    "        df = pd.read_csv(csv_file)\n",
    "        dataframes.append(df)\n",
    "\n",
    "    # Concatenate all dataframes into one\n",
    "    combined_df = pd.concat(dataframes, ignore_index=True)\n",
    "\n",
    "    # Save the combined dataframe to a new .csv file\n",
    "    combined_df.to_csv(output_file, index=False)\n",
    "    print(f\"Combined CSV saved to {output_file}\")\n"
   ],
   "id": "d4545575402fa67e",
   "outputs": [],
   "execution_count": 14
  },
  {
   "metadata": {
    "ExecuteTime": {
     "end_time": "2025-03-11T16:50:31.519999Z",
     "start_time": "2025-03-11T16:42:20.363988Z"
    }
   },
   "cell_type": "code",
   "source": "combine_csv_files(\"dataset/goi4_pst/imp_csv\", \"output.csv\")",
   "id": "aa7a821ac4dd11b",
   "outputs": [
    {
     "name": "stdout",
     "output_type": "stream",
     "text": [
      "Combined CSV saved to output\n"
     ]
    }
   ],
   "execution_count": 15
  },
  {
   "metadata": {
    "ExecuteTime": {
     "end_time": "2025-03-11T16:54:29.048571Z",
     "start_time": "2025-03-11T16:51:47.830124Z"
    }
   },
   "cell_type": "code",
   "source": [
    "import csv\n",
    "\n",
    "def combine_csv_files(source_folder, output_file):\n",
    "    # Get a list of all .csv files in the source folder\n",
    "    csv_files = glob.glob(f\"{source_folder}/*.csv\")\n",
    "\n",
    "    # Open the output file in write mode\n",
    "    with open(output_file, mode='w', newline='') as outfile:\n",
    "        writer = csv.writer(outfile)\n",
    "\n",
    "        # Variable to track if headers have been written\n",
    "        headers_written = False\n",
    "\n",
    "        # Loop through each .csv file\n",
    "        for file_path in csv_files:\n",
    "\n",
    "            # Open each CSV file in read mode\n",
    "            with open(file_path, mode='r', newline='') as infile:\n",
    "                reader = csv.reader(infile)\n",
    "\n",
    "                # Write headers only once\n",
    "                if not headers_written:\n",
    "                    headers = next(reader)  # Read the header of the first file\n",
    "                    writer.writerow(headers)  # Write the header to the output file\n",
    "                    headers_written = True\n",
    "                else:\n",
    "                    next(reader)  # Skip the header of subsequent files\n",
    "\n",
    "                # Write the data rows to the output file\n",
    "                for row in reader:\n",
    "                    writer.writerow(row)\n",
    "\n",
    "\n",
    "combine_csv_files(\"dataset/goi4_pst/imp_csv\", \"output.csv\")"
   ],
   "id": "852f2ce00fdff986",
   "outputs": [],
   "execution_count": 17
  },
  {
   "metadata": {},
   "cell_type": "code",
   "outputs": [],
   "execution_count": null,
   "source": "",
   "id": "2c31a0646e5b0def"
  }
 ],
 "metadata": {
  "kernelspec": {
   "display_name": "Python 3",
   "language": "python",
   "name": "python3"
  },
  "language_info": {
   "codemirror_mode": {
    "name": "ipython",
    "version": 2
   },
   "file_extension": ".py",
   "mimetype": "text/x-python",
   "name": "python",
   "nbconvert_exporter": "python",
   "pygments_lexer": "ipython2",
   "version": "2.7.6"
  }
 },
 "nbformat": 4,
 "nbformat_minor": 5
}
